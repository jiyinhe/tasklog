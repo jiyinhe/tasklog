{
 "cells": [
  {
   "cell_type": "markdown",
   "metadata": {},
   "source": [
    "## Setup"
   ]
  },
  {
   "cell_type": "code",
   "execution_count": 164,
   "metadata": {
    "collapsed": true
   },
   "outputs": [],
   "source": [
    "from pymongo import MongoClient\n",
    "import numpy as np\n",
    "import itertools\n",
    "\n",
    "# DB connections\n",
    "client = MongoClient()\n",
    "db = client.db_tasklog_clean\n",
    "# Collections\n",
    "User = db.user\n",
    "Log = db.log_chrome"
   ]
  },
  {
   "cell_type": "markdown",
   "metadata": {},
   "source": [
    "## Descriptive stats of user demographics:"
   ]
  },
  {
   "cell_type": "code",
   "execution_count": 165,
   "metadata": {
    "collapsed": false
   },
   "outputs": [
    {
     "name": "stdout",
     "output_type": "stream",
     "text": [
      "Gender groups:\n",
      "female 4\n",
      "male 3\n",
      "\n",
      "Age groups:\n",
      "25_34 7\n",
      "\n"
     ]
    }
   ],
   "source": [
    "# Gender groups\n",
    "print 'Gender groups:'\n",
    "for d in User.aggregate([{'$project': {'info.gender': 1}},\n",
    "        {'$group': {'_id': '$info.gender', 'count': {'$sum': 1}}}]):\n",
    "    print d['_id'], d['count']\n",
    "print\n",
    "    \n",
    "# Age groups\n",
    "print 'Age groups:'\n",
    "for d in User.aggregate([{'$project': {'info.age': 1}}, \n",
    "    {'$group': {'_id': '$info.age', 'count': {'$sum': 1}}}]):\n",
    "    print d['_id'], d['count']\n",
    "print"
   ]
  },
  {
   "cell_type": "code",
   "execution_count": 173,
   "metadata": {
    "collapsed": false
   },
   "outputs": [
    {
     "name": "stdout",
     "output_type": "stream",
     "text": [
      "User computer technology experience: Median = 5.0 IQR = 0.0\n",
      "[5, 5, 4, 5, 5, 5, 5]\n",
      "User Search engine experience: Median = 5.0 IQR = 0.0\n",
      "Frequency of using the experiment laptop for work: Median = 4.0 IQR = 2.0\n"
     ]
    }
   ],
   "source": [
    "allUsers = list(User.find({}))\n",
    "\n",
    "# Experience computer\n",
    "exp_comp = [int(a['info']['exp_comp']) for a in allUsers]\n",
    "iqr = np.percentile(exp_comp, 75) - np.percentile(exp_comp, 25)\n",
    "print 'User computer technology experience:', 'Median =', np.median(exp_comp), 'IQR =', iqr\n",
    "\n",
    "# Experience Search engine\n",
    "exp_se = [int(a['info']['exp_se']) for a in allUsers]\n",
    "iqr = np.percentile(exp_se, 75) - np.percentile(exp_se, 25)\n",
    "print 'User Search engine experience:', 'Median =', np.median(exp_se), 'IQR =', iqr\n",
    "\n",
    "# Frequency of work related usage of computer\n",
    "comp_work = [int(a['info']['comp_work']) for a in allUsers]\n",
    "iqr = np.percentile(comp_work, 75) - np.percentile(comp_work, 25)\n",
    "print 'Frequency of using the experiment laptop for work:', 'Median =', np.median(comp_work), 'IQR =', iqr\n"
   ]
  },
  {
   "cell_type": "code",
   "execution_count": 167,
   "metadata": {
    "collapsed": false
   },
   "outputs": [
    {
     "name": "stdout",
     "output_type": "stream",
     "text": [
      "Frequency of using the experiment laptop:\n",
      "<25% : 1 ( 0.14 )\n",
      "25%-50% : 1 ( 0.14 )\n",
      "75%-100% : 2 ( 0.29 )\n",
      "100% : 3 ( 0.43 )\n",
      "\n",
      "User search device preferences:\n",
      "mostly on computer : 6 ( 0.86 )\n",
      "half-half : 1 ( 0.14 )\n"
     ]
    }
   ],
   "source": [
    "total_users = float(len(list(allUsers)))\n",
    "\n",
    "# Frequency of using the experiment laptop\n",
    "comp_freq_labels = {'1': '<25%', '2':'25%-50%', '3': '50%-75%', '4': '75%-100%', '5': '100%'}\n",
    "comp_freq = User.aggregate([{'$project': {'info.freq_comp': 1}}, \n",
    "                           {'$group': {'_id': '$info.freq_comp', 'count': {'$sum': 1}}}, \n",
    "                           {'$sort': {'_id': 1}}])\n",
    "\n",
    "print 'Frequency of using the experiment laptop:'\n",
    "for f in comp_freq:\n",
    "    print comp_freq_labels[f['_id']], ':', f['count'], '(','%.2f'%(float(f['count'])/total_users), ')'\n",
    "print\n",
    "\n",
    "# Search device\n",
    "search_device_label = {'1': 'always on computer', '2': 'mostly on computer', \n",
    "                      '3': 'half-half', '4': 'mostly on mobile', '5': 'always on mobile'}\n",
    "search_device = User.aggregate([{'$project': {'info.search_device': 1}}, \n",
    "                                {'$group': {'_id': '$info.search_device', 'count': {'$sum': 1}}},\n",
    "                                {'$sort': {'_id': 1}}\n",
    "                               ])\n",
    "print 'User search device preferences:'\n",
    "for s in search_device:\n",
    "    if s['_id'] != None:   # Need to update Marc's registration form\n",
    "        print search_device_label[s['_id']], ':', s['count'], '(', '%.2f'%(float(s['count'])/total_users), ')'\n",
    " "
   ]
  },
  {
   "cell_type": "code",
   "execution_count": 168,
   "metadata": {
    "collapsed": false
   },
   "outputs": [
    {
     "name": "stdout",
     "output_type": "stream",
     "text": [
      "Top searched informaiton types with computers: \n",
      "social 5 0.71\n",
      "topic 5 0.71\n",
      "entertainment 4 0.57\n",
      "fact 4 0.57\n",
      "shopping 4 0.57\n",
      "job 3 0.43\n",
      "news 3 0.43\n",
      "routes 3 0.43\n",
      "house 2 0.29\n",
      "task 2 0.29\n",
      "travel 2 0.29\n",
      "\n",
      "Top searched information types with mobiles: \n",
      "routes 7 1.00\n",
      "fact 6 0.86\n",
      "news 6 0.86\n",
      "social 5 0.71\n",
      "entertainment 4 0.57\n",
      "task 3 0.43\n",
      "person 1 0.14\n",
      "topic 1 0.14\n"
     ]
    }
   ],
   "source": [
    "#Total number of users\n",
    "count_tot = float(len(list(allUsers)))\n",
    "\n",
    "# Top types of information searched on Mobile\n",
    "computer_search_for = [a['info']['computer_search_for'] for a in allUsers]\n",
    "computer_search_for = [s for sublist in computer_search_for for s in sublist]\n",
    "if a['info']['computer_search_for_other'] != '':\n",
    "    computer_search_for.append(a['info']['computer_search_for_other'])\n",
    "computer_search_for.sort()\n",
    "\n",
    "tot = []\n",
    "for k, g in itertools.groupby(computer_search_for):\n",
    "    tot.append((k, len(list(g))))\n",
    "tot.sort(key=lambda x: x[1], reverse=True)\n",
    "\n",
    "print 'Top searched informaiton types with computers: '\n",
    "for t in tot:\n",
    "    print t[0], t[1], '%.2f'%(t[1]/count_tot)\n",
    "print\n",
    "    \n",
    "# Top types of information searched on Computer\n",
    "mobile_search_for = [a['info']['mobile_search_for'] for a in allUsers]\n",
    "mobile_search_for = [s for sublist in mobile_search_for for s in sublist]\n",
    "if a['info']['mobile_search_for_other'] != '':\n",
    "    mobile_search_for.append(a['info']['mobile_search_for_other'])\n",
    "mobile_search_for.sort()\n",
    "\n",
    "tot = []\n",
    "for k, g in itertools.groupby(mobile_search_for):\n",
    "    tot.append((k, len(list(g))))\n",
    "tot.sort(key=lambda x: x[1], reverse=True)\n",
    "\n",
    "print \"Top searched information types with mobiles: \"\n",
    "for t in tot:\n",
    "    print t[0], t[1], '%.2f'%(t[1]/count_tot)\n",
    "    \n"
   ]
  },
  {
   "cell_type": "markdown",
   "metadata": {
    "collapsed": true
   },
   "source": [
    "## Descriptive stats of the log"
   ]
  },
  {
   "cell_type": "code",
   "execution_count": 178,
   "metadata": {
    "collapsed": false
   },
   "outputs": [
    {
     "name": "stdout",
     "output_type": "stream",
     "text": [
      "Total number of annotated queries: 787\n",
      "Total number of annotated pages: 4591\n",
      "Number of user defined tasks:  68\n",
      "Number of tasks analysed in postQ: 20\n"
     ]
    }
   ],
   "source": [
    "# Total number of queries annotated\n",
    "queries = Log.aggregate([{'$match': {'to_annotate': True, 'event': 'tab-search', 'removed': False}},\n",
    "               {'$project': {\n",
    "                            'annotation.task': {'$ifNull': ['$annotation.task', 0]}}},\n",
    "                ])\n",
    "Q = list(queries)\n",
    "count_tot = len(list(Q))\n",
    "count_anno = count_tot - sum([int(q['annotation']['task'] == 0) for q in Q])\n",
    "print 'Total number of annotated queries:', count_anno\n",
    "\n",
    "# Total number of viewed pages annotated\n",
    "pages = Log.aggregate([{'$match': {'to_annotate': True, 'event': 'tab-loaded', 'removed': False}},\n",
    "               {'$project': {\n",
    "                            'annotation.task': {'$ifNull': ['$annotation.task', 0]}}},\n",
    "                ])\n",
    "Q = list(pages)\n",
    "count_tot = len(list(Q))\n",
    "count_anno = count_tot - sum([int(q['annotation']['task'] == 0) for q in Q])\n",
    "print 'Total number of annotated pages:', count_anno\n",
    "\n",
    "# Total number of tasks annotated\n",
    "tasks = Log.aggregate([{'$match': {'to_annotate': True, 'removed': False}}, \n",
    "                      {'$project': {'annotation.task': {'$ifNull': ['$annotation.task', {}]}}}])\n",
    "T = [t['annotation']['task'].get('taskid', '000') for t in list(tasks)]\n",
    "# Excluding pre-defined tasks, only include user defined ones\n",
    "user_tasks = set(T) - set(['000', '001', '002', '003', '004'])\n",
    "print 'Number of user defined tasks: ', len(user_tasks)\n",
    "\n",
    "# Total number of tasks being analyzed in postQ\n",
    "chosen_tasks = []\n",
    "for u in allUsers:\n",
    "    postQ = u.get('postQ', {})\n",
    "    tasklist = postQ.get('tasklist', [])\n",
    "    for t in tasklist:\n",
    "        if t['chosen'] == True:\n",
    "            chosen_tasks.append(t)\n",
    "print 'Number of tasks analysed in postQ:', len(chosen_tasks)\n",
    "\n"
   ]
  },
  {
   "cell_type": "code",
   "execution_count": 205,
   "metadata": {
    "collapsed": false
   },
   "outputs": [
    {
     "name": "stdout",
     "output_type": "stream",
     "text": [
      "Number of days covered p.p.:  min: 1 max: 12 median: 5.0\n",
      "Number of queries issued p.d.:  min: 7.0 max: 77.8 median: 13.4\n",
      "Number of pages viewed p.d.:  min: 28.2 max: 341.5 median: 103.3\n",
      "Number of tasks p.p. min: 1 max: 25 median: 10.0\n"
     ]
    }
   ],
   "source": [
    "num_days = []\n",
    "num_pages = []\n",
    "num_queries = []\n",
    "num_tasks = []\n",
    "for u in allUsers:\n",
    "    items = Log.aggregate([{'$match': {'userid': u['userid'], 'to_annotate': True}}, \n",
    "                  {'$project': {\n",
    "                    'event': 1,\n",
    "                    'annotation.task': {'$ifNull': ['$annotation.task', 0]}, \n",
    "                    'year': {'$year': '$timestamp_bson'},\n",
    "                    'day': {'$dayOfYear': '$timestamp_bson'},\n",
    "                    }},\n",
    "                  ])\n",
    "    items = list(items)\n",
    "    # Number of days covered per person (max, min, median)\n",
    "    days = len(set([(x['year'], x['day']) for x in items]))\n",
    "    num_days.append(days)\n",
    "    \n",
    "    # Number of queries per person (max, min, median)\n",
    "    queries = [int(x['event'] == 'tab-search') for x in items]\n",
    "    num_queries.append(sum(queries)/float(days))\n",
    "    \n",
    "    # Number of viewed pages per person (max, min, median)\n",
    "    views = [int(x['event'] == 'tab-loaded')/float(days) for x in items]\n",
    "    num_pages.append(sum(views))\n",
    "\n",
    "    \n",
    "    # Number of tasks per person (max, min, median)\n",
    "    tasks = [x['annotation']['task'] for x in items]\n",
    "    T = []\n",
    "    for t in tasks:\n",
    "        if t == 0:\n",
    "            continue\n",
    "        T.append(t['taskid'])\n",
    "    num_tasks.append(len(set(T)))\n",
    "    \n",
    "print \"Number of days covered p.p.: \", 'min:', min(num_days), 'max:', max(num_days), 'median:', np.median(num_days)\n",
    "print \"Number of queries issued p.d.: \", 'min:', '%.1f'%min(num_queries), 'max:', '%.1f'%max(num_queries), 'median:', '%.1f'%np.median(num_queries)\n",
    "print \"Number of pages viewed p.d.: \", 'min:', '%.1f'%min(num_pages), 'max:', '%.1f'%max(num_pages), 'median:', '%.1f'%np.median(num_pages)\n",
    "print \"Number of tasks performed p.p.\", 'min:', min(num_tasks), 'max:', max(num_tasks), 'median:', np.median(num_tasks)\n",
    "   \n",
    "    "
   ]
  },
  {
   "cell_type": "code",
   "execution_count": null,
   "metadata": {
    "collapsed": true
   },
   "outputs": [],
   "source": []
  },
  {
   "cell_type": "code",
   "execution_count": null,
   "metadata": {
    "collapsed": true
   },
   "outputs": [],
   "source": []
  }
 ],
 "metadata": {
  "kernelspec": {
   "display_name": "Python 2",
   "language": "python",
   "name": "python2"
  },
  "language_info": {
   "codemirror_mode": {
    "name": "ipython",
    "version": 2
   },
   "file_extension": ".py",
   "mimetype": "text/x-python",
   "name": "python",
   "nbconvert_exporter": "python",
   "pygments_lexer": "ipython2",
   "version": "2.7.10"
  }
 },
 "nbformat": 4,
 "nbformat_minor": 0
}

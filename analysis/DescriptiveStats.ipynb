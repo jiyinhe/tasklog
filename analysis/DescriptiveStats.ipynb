{
 "cells": [
  {
   "cell_type": "markdown",
   "metadata": {},
   "source": [
    "## Setup"
   ]
  },
  {
   "cell_type": "code",
   "execution_count": 115,
   "metadata": {
    "collapsed": true
   },
   "outputs": [],
   "source": [
    "from pymongo import MongoClient\n",
    "import numpy as np\n",
    "import itertools\n",
    "\n",
    "# DB connections\n",
    "client = MongoClient()\n",
    "db = client.db_tasklog_clean\n",
    "# Collections\n",
    "User = db.user\n",
    "Log = db.log_chrome"
   ]
  },
  {
   "cell_type": "markdown",
   "metadata": {},
   "source": [
    "## Descriptive stats of user demographics:"
   ]
  },
  {
   "cell_type": "code",
   "execution_count": 116,
   "metadata": {
    "collapsed": false
   },
   "outputs": [
    {
     "name": "stdout",
     "output_type": "stream",
     "text": [
      "Gender groups:\n",
      "female 3\n",
      "male 3\n",
      "\n",
      "Age groups:\n",
      "25_34 6\n",
      "\n"
     ]
    }
   ],
   "source": [
    "# Gender groups\n",
    "print 'Gender groups:'\n",
    "for d in User.aggregate([{'$project': {'info.gender': 1}},\n",
    "        {'$group': {'_id': '$info.gender', 'count': {'$sum': 1}}}]):\n",
    "    print d['_id'], d['count']\n",
    "print\n",
    "    \n",
    "# Age groups\n",
    "print 'Age groups:'\n",
    "for d in User.aggregate([{'$project': {'info.age': 1}}, \n",
    "    {'$group': {'_id': '$info.age', 'count': {'$sum': 1}}}]):\n",
    "    print d['_id'], d['count']\n",
    "print"
   ]
  },
  {
   "cell_type": "code",
   "execution_count": 117,
   "metadata": {
    "collapsed": false
   },
   "outputs": [
    {
     "name": "stdout",
     "output_type": "stream",
     "text": [
      "User computer technology experience: Median = 5.0 IQR = 0.0\n",
      "User Search engine experience: Median = 5.0 IQR = 0.0\n",
      "Frequency of using the experiment laptop for work: Median = 4.0 IQR = 1.5\n"
     ]
    }
   ],
   "source": [
    "allUsers = list(User.find({}))\n",
    "\n",
    "# Experience computer\n",
    "exp_comp = [int(a['info']['exp_comp']) for a in allUsers]\n",
    "iqr = np.percentile(exp_comp, 75) - np.percentile(exp_comp, 25)\n",
    "print 'User computer technology experience:', 'Median =', np.median(exp_comp), 'IQR =', iqr\n",
    "\n",
    "# Experience Search engine\n",
    "exp_se = [int(a['info']['exp_se']) for a in allUsers]\n",
    "iqr = np.percentile(exp_se, 75) - np.percentile(exp_se, 25)\n",
    "print 'User Search engine experience:', 'Median =', np.median(exp_se), 'IQR =', iqr\n",
    "\n",
    "# Frequency of work related usage of computer\n",
    "comp_work = [int(a['info']['comp_work']) for a in allUsers]\n",
    "iqr = np.percentile(comp_work, 75) - np.percentile(comp_work, 25)\n",
    "print 'Frequency of using the experiment laptop for work:', 'Median =', np.median(comp_work), 'IQR =', iqr\n"
   ]
  },
  {
   "cell_type": "code",
   "execution_count": 118,
   "metadata": {
    "collapsed": false
   },
   "outputs": [
    {
     "name": "stdout",
     "output_type": "stream",
     "text": [
      "Frequency of using the experiment laptop:\n",
      "<25% : 1 ( 0.17 )\n",
      "25%-50% : 1 ( 0.17 )\n",
      "75%-100% : 2 ( 0.33 )\n",
      "100% : 2 ( 0.33 )\n",
      "\n",
      "User search device preferences:\n",
      "mostly on computer : 5 ( 0.83 )\n",
      "half-half : 1 ( 0.17 )\n"
     ]
    }
   ],
   "source": [
    "total_users = float(len(list(allUsers)))\n",
    "\n",
    "# Frequency of using the experiment laptop\n",
    "comp_freq_labels = {'1': '<25%', '2':'25%-50%', '3': '50%-75%', '4': '75%-100%', '5': '100%'}\n",
    "comp_freq = User.aggregate([{'$project': {'info.freq_comp': 1}}, \n",
    "                           {'$group': {'_id': '$info.freq_comp', 'count': {'$sum': 1}}}, \n",
    "                           {'$sort': {'_id': 1}}])\n",
    "\n",
    "print 'Frequency of using the experiment laptop:'\n",
    "for f in comp_freq:\n",
    "    print comp_freq_labels[f['_id']], ':', f['count'], '(','%.2f'%(float(f['count'])/total_users), ')'\n",
    "print\n",
    "\n",
    "# Search device\n",
    "search_device_label = {'1': 'always on computer', '2': 'mostly on computer', \n",
    "                      '3': 'half-half', '4': 'mostly on mobile', '5': 'always on mobile'}\n",
    "search_device = User.aggregate([{'$project': {'info.search_device': 1}}, \n",
    "                                {'$group': {'_id': '$info.search_device', 'count': {'$sum': 1}}},\n",
    "                                {'$sort': {'_id': 1}}\n",
    "                               ])\n",
    "print 'User search device preferences:'\n",
    "for s in search_device:\n",
    "    if s['_id'] != None:   # Need to update Marc's registration form\n",
    "        print search_device_label[s['_id']], ':', s['count'], '(', '%.2f'%(float(s['count'])/total_users), ')'\n",
    " "
   ]
  },
  {
   "cell_type": "code",
   "execution_count": 119,
   "metadata": {
    "collapsed": false
   },
   "outputs": [
    {
     "name": "stdout",
     "output_type": "stream",
     "text": [
      "Top searched informaiton types with computers: \n",
      "social 5 0.83\n",
      "fact 4 0.67\n",
      "topic 4 0.67\n",
      "entertainment 3 0.50\n",
      "job 3 0.50\n",
      "shopping 3 0.50\n",
      "house 2 0.33\n",
      "news 2 0.33\n",
      "routes 2 0.33\n",
      "task 2 0.33\n",
      "travel 2 0.33\n",
      "\n",
      "Top searched information types with mobiles: \n",
      "fact 6 1.00\n",
      "routes 6 1.00\n",
      "news 5 0.83\n",
      "social 5 0.83\n",
      "entertainment 3 0.50\n",
      "task 2 0.33\n",
      "person 1 0.17\n"
     ]
    }
   ],
   "source": [
    "#Total number of users\n",
    "count_tot = float(len(list(allUsers)))\n",
    "\n",
    "# Top types of information searched on Mobile\n",
    "computer_search_for = [a['info']['computer_search_for'] for a in allUsers]\n",
    "computer_search_for = [s for sublist in computer_search_for for s in sublist]\n",
    "if a['info']['computer_search_for_other'] != '':\n",
    "    computer_search_for.append(a['info']['computer_search_for_other'])\n",
    "computer_search_for.sort()\n",
    "\n",
    "tot = []\n",
    "for k, g in itertools.groupby(computer_search_for):\n",
    "    tot.append((k, len(list(g))))\n",
    "tot.sort(key=lambda x: x[1], reverse=True)\n",
    "\n",
    "print 'Top searched informaiton types with computers: '\n",
    "for t in tot:\n",
    "    print t[0], t[1], '%.2f'%(t[1]/count_tot)\n",
    "print\n",
    "    \n",
    "# Top types of information searched on Computer\n",
    "mobile_search_for = [a['info']['mobile_search_for'] for a in allUsers]\n",
    "mobile_search_for = [s for sublist in mobile_search_for for s in sublist]\n",
    "if a['info']['mobile_search_for_other'] != '':\n",
    "    mobile_search_for.append(a['info']['mobile_search_for_other'])\n",
    "mobile_search_for.sort()\n",
    "\n",
    "tot = []\n",
    "for k, g in itertools.groupby(mobile_search_for):\n",
    "    tot.append((k, len(list(g))))\n",
    "tot.sort(key=lambda x: x[1], reverse=True)\n",
    "\n",
    "print \"Top searched information types with mobiles: \"\n",
    "for t in tot:\n",
    "    print t[0], t[1], '%.2f'%(t[1]/count_tot)\n",
    "    \n"
   ]
  },
  {
   "cell_type": "markdown",
   "metadata": {
    "collapsed": true
   },
   "source": [
    "## Descriptive stats of the log"
   ]
  },
  {
   "cell_type": "code",
   "execution_count": null,
   "metadata": {
    "collapsed": true
   },
   "outputs": [],
   "source": [
    "# Total number of queries\n",
    "\n",
    "# Total number of viewed pages\n",
    "# Total number of tasks"
   ]
  },
  {
   "cell_type": "code",
   "execution_count": null,
   "metadata": {
    "collapsed": true
   },
   "outputs": [],
   "source": [
    "# Number of days covered per person (max, min, median)\n",
    "# Number of queries per day per person (max, min, median)\n",
    "# Number of viewed pages per day per person (max, min, median)\n",
    "# Number of tasks per day per person (max, min, median)"
   ]
  },
  {
   "cell_type": "code",
   "execution_count": null,
   "metadata": {
    "collapsed": true
   },
   "outputs": [],
   "source": [
    "# Number of tasks distributed over week days (median of subjects)\n",
    "# Number of queries distributed over week days (median of subjects)\n",
    "# Number of viewed pages distributed over week days (median of subjects)"
   ]
  }
 ],
 "metadata": {
  "kernelspec": {
   "display_name": "Python 2",
   "language": "python",
   "name": "python2"
  },
  "language_info": {
   "codemirror_mode": {
    "name": "ipython",
    "version": 2
   },
   "file_extension": ".py",
   "mimetype": "text/x-python",
   "name": "python",
   "nbconvert_exporter": "python",
   "pygments_lexer": "ipython2",
   "version": "2.7.10"
  }
 },
 "nbformat": 4,
 "nbformat_minor": 0
}

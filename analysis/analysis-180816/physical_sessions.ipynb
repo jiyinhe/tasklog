{
 "cells": [
  {
   "cell_type": "markdown",
   "metadata": {},
   "source": [
    "### This experiment compares stats of relaiton between physical session and tasks presented in Jones et al., Lucchess et al., and Hagen et al.\n",
    "\n",
    "#### Results reported in the paper.\n",
    "\n",
    "#### Important details:\n",
    "- All events where users were not \"on\" are filtered out in the first pass, all the rest works on the cleaned log.\n",
    "- For physical sessions, \"None\" tasks were removed before segementing the log, this may reduces task changes. The general trend does not change, and the task detection would be improved to match the literature (which also does many filtering steps).\n",
    "- For logical session, we set 90 minutes \"user leave\" threshold. This may change the performance of physical session. Performance of threhold beyond 90 minutes would be influenced. "
   ]
  },
  {
   "cell_type": "markdown",
   "metadata": {},
   "source": [
    "# Setup"
   ]
  },
  {
   "cell_type": "code",
   "execution_count": 349,
   "metadata": {
    "collapsed": true
   },
   "outputs": [],
   "source": [
    "%matplotlib inline\n",
    "import pymongo\n",
    "from pymongo import MongoClient\n",
    "import numpy as np\n",
    "import itertools\n",
    "import urllib\n",
    "import sys\n",
    "sys.path.append('../variables/')\n",
    "import UserActivity\n",
    "import matplotlib\n",
    "import matplotlib.pylab as pylab\n",
    "from bson.objectid import ObjectId\n",
    "from scipy.stats import gaussian_kde, ks_2samp\n",
    "\n",
    "outputdir = 'plots/'\n",
    "\n",
    "font = {'size'   : 16}\n",
    "matplotlib.rc('font', **font)\n",
    "matplotlib.rcParams['lines.linewidth'] = 2\n",
    "\n",
    "# DB connections\n",
    "client = MongoClient()\n",
    "db = client.db_tasklog_clean\n",
    "# Collections\n",
    "User = db.user\n",
    "Log = db.log_chrome\n",
    "Labelled = db.data_labeled\n",
    "UserTasks = db.user_tasks\n",
    "\n",
    "# Tasks to be excluded\n",
    "to_exclude = ['000', '001', '002', '003', '004']\n",
    "# Pre-defined labels - excluding \"not sure (001)\"\n",
    "pre_tasks = ['001', '002', '003', '004']\n",
    "# new query \n",
    "query_events = ['tab-search-new', 'tab-search-verticle'] \n",
    "# Get user task activities\n",
    "# Set dummy parameters\n",
    "t_thresh = -1 # Look at first X minutes, not used\n",
    "session_thresh = 30 # in minutes, threshold to consider users have left without closing the tab, not used\n",
    "to_include = [] # Not used for this computation "
   ]
  },
  {
   "cell_type": "markdown",
   "metadata": {},
   "source": [
    "## Function to get all events for a user"
   ]
  },
  {
   "cell_type": "code",
   "execution_count": 350,
   "metadata": {
    "collapsed": true
   },
   "outputs": [],
   "source": [
    "# All events\n",
    "def event_stream(data):\n",
    "    events = []\n",
    "    # data consists of tab-groups\n",
    "    for s in data:\n",
    "        tab_group = s['tab_group']\n",
    "        tabid = s['tabid']\n",
    "        # tab groups consist of url groups\n",
    "        for ug in tab_group:\n",
    "            # a group of events sharing the same url\n",
    "            url_group = ug['url_group']\n",
    "            for e in url_group:\n",
    "                events.append(e)\n",
    "    events.sort(key=lambda x: x['timestamp_bson'])\n",
    "    return events"
   ]
  },
  {
   "cell_type": "markdown",
   "metadata": {},
   "source": [
    "## Prepare user activity data for analysis\n",
    "\n",
    "### Return:\n",
    "* Stream of user events: {userid, [(event, user_on), (event, user_on)...]}\n",
    "* Filter out events where users were not \"on\" the page"
   ]
  },
  {
   "cell_type": "code",
   "execution_count": 351,
   "metadata": {
    "collapsed": false
   },
   "outputs": [],
   "source": [
    "# Gether user activity data for analysis\n",
    "UA = []\n",
    "users = list(User.find({}))\n",
    "for u in users:\n",
    "    userid = u['userid']\n",
    "    data = list(Labelled.find({'userid': u['userid']}))[0]['data']\n",
    "    events = event_stream(data)\n",
    "    ua = UserActivity.UserActivity(data, to_include, t_thresh, session_thresh)\n",
    "    a_path, a_stream = ua.get_user_path()\n",
    "    \n",
    "    # filter out events where user was not on the tab\n",
    "    user_stream = list(itertools.ifilter(lambda x: x[1] == True, a_stream))\n",
    "    UA.append((userid, user_stream))"
   ]
  },
  {
   "cell_type": "markdown",
   "metadata": {},
   "source": [
    "## Functions to filter event or task types"
   ]
  },
  {
   "cell_type": "code",
   "execution_count": 352,
   "metadata": {
    "collapsed": true
   },
   "outputs": [],
   "source": [
    "# Data format: stream of events\n",
    "# All tasks except those are labelled as \"None\"\n",
    "def filter_tasks(data):\n",
    "    return list(itertools.ifilter(lambda x: not x[0]['taskid'] == 'None', data))\n",
    "\n",
    "def filter_user_tasks(data):\n",
    "    return list(itertools.ifilter(lambda x: not x[0]['taskid'] in (['None'] + to_exclude), data))\n",
    "\n",
    "def filter_predefined_tasks(data):\n",
    "    return list(itertools.ifilter(lambda x: x[0]['taskid'] in pre_tasks, data))\n",
    "\n",
    "def filter_query_events(data):\n",
    "    return list(itertools.ifilter(lambda x: x[0]['event'] in query_events, data))"
   ]
  },
  {
   "cell_type": "markdown",
   "metadata": {},
   "source": [
    "## Function to compute time gap between events"
   ]
  },
  {
   "cell_type": "code",
   "execution_count": 353,
   "metadata": {
    "collapsed": true
   },
   "outputs": [],
   "source": [
    "# Data format: stream of events\n",
    "# It still contains the \"on\" value, but we don't use it, as the data is already filtered on events where users are on\n",
    "def time_gap(data):\n",
    "    start = -1\n",
    "    i = 0\n",
    "    for event, on in data:\n",
    "        event['dwell'] = -1\n",
    "        if start == -1:\n",
    "            start = event['timestamp_bson']\n",
    "            continue\n",
    "        gap = (event['timestamp_bson'] - start).total_seconds()/60\n",
    "        data[i][0]['dwell'] = gap\n",
    "        start = event['timestamp_bson']\n",
    "        i += 1\n",
    "    return data"
   ]
  },
  {
   "cell_type": "markdown",
   "metadata": {},
   "source": [
    "## Function to create physical and logical sessions"
   ]
  },
  {
   "cell_type": "code",
   "execution_count": 354,
   "metadata": {
    "collapsed": true
   },
   "outputs": [],
   "source": [
    "# Data format: stream of events\n",
    "# Data should have already been filtered to only include event where the user is \"on\"\n",
    "\n",
    "# Create physical sessions based on time-gap between events:\n",
    "def physical_session(data, thresh):\n",
    "    P = []\n",
    "    s = []\n",
    "    prev = -1\n",
    "    idx = 0\n",
    "    for event, on in data:\n",
    "        if prev == -1:\n",
    "            prev = event\n",
    "            s.append((event, idx))\n",
    "            continue\n",
    "        gap = (event['timestamp_bson'] - prev['timestamp_bson']).total_seconds()/60\n",
    "        if gap > thresh:\n",
    "            P.append(s)\n",
    "            s = []\n",
    "        prev = event\n",
    "        s.append((event, idx))\n",
    "        idx += 1\n",
    "    P.append(s)\n",
    "    return P"
   ]
  },
  {
   "cell_type": "code",
   "execution_count": 355,
   "metadata": {
    "collapsed": true
   },
   "outputs": [],
   "source": [
    "# Data format: stream of events\n",
    "# Data should have already been filtered to only include event where the user is \"on\"\n",
    "\n",
    "# Criteria for logical session:\n",
    "# 1. consecutive events belong to the same task\n",
    "# 2. a pause longer than 90 mins makes a session break (user may have left)\n",
    "def logical_session(data):\n",
    "    L = []\n",
    "    s = []\n",
    "    prev = -1\n",
    "    idx = 0\n",
    "    for event, on in data:\n",
    "        if prev == -1:\n",
    "            prev = event\n",
    "            s.append((event, idx))\n",
    "            continue\n",
    "        gap = (event['timestamp_bson'] - prev['timestamp_bson']).total_seconds()/60\n",
    "        # Keep adding to the logical session if conditions are satisfied\n",
    "        if prev['taskid'] == event['taskid'] and gap < 90:\n",
    "            s.append((event, idx))\n",
    "        # Otherwise, start a new session\n",
    "        else:\n",
    "            slength = (s[-1][0]['timestamp_bson'] - s[0][0]['timestamp_bson']).total_seconds()\n",
    "            # Filter out sessions that last 0 seconds\n",
    "            if not s == [] and slength > 0:\n",
    "                L.append(s)\n",
    "            s = []\n",
    "            s.append((event, idx))\n",
    "        prev = event\n",
    "        idx += 1\n",
    "    # Add the last session\n",
    "    slength = (s[-1][0]['timestamp_bson'] - s[0][0]['timestamp_bson']).total_seconds()\n",
    "    if not s == [] and slength > 0:\n",
    "        L.append(s)\n",
    "    return L"
   ]
  },
  {
   "cell_type": "markdown",
   "metadata": {},
   "source": [
    "## Functions to compute number of queries, time span in a session"
   ]
  },
  {
   "cell_type": "code",
   "execution_count": 356,
   "metadata": {
    "collapsed": true
   },
   "outputs": [],
   "source": [
    "# Input data should be a stream of events\n",
    "def number_queries(session):\n",
    "    return sum([int(s['event'] in query_events) for s in session])\n",
    "\n",
    "def time_span(session):\n",
    "    return (session[-1]['timestamp_bson']-session[0]['timestamp_bson']).total_seconds()/60\n",
    "    "
   ]
  },
  {
   "cell_type": "markdown",
   "metadata": {},
   "source": [
    "## Function to make density plot"
   ]
  },
  {
   "cell_type": "code",
   "execution_count": 357,
   "metadata": {
    "collapsed": true
   },
   "outputs": [],
   "source": [
    "def density_plot(data, X, marker, hold=True):\n",
    "    if hold == False:\n",
    "        pylab.figure()\n",
    "        \n",
    "    ax = pylab.subplot()\n",
    "    kde = gaussian_kde(data)\n",
    "    # Make log of the X data\n",
    "    Y = kde.evaluate(X) \n",
    "    ax.plot(X, Y, marker)\n",
    "    \n",
    "def log_density_plot(data, X, marker, xticklabels, hold=True):\n",
    "    if hold == False:\n",
    "        pylab.figure()\n",
    "    ax = pylab.subplot()\n",
    "    kde = gaussian_kde(data)\n",
    "    # Make log of the X data\n",
    "    X = [np.log(x) if x > 0 else 0 for x in X]\n",
    "    Y = kde.evaluate(X)\n",
    "\n",
    "    ax.plot(X, Y, marker)\n",
    "    # Make the X label to show the original scale\n",
    "    xticks = [np.log(x) if x > 0 else 0 for x in xticklabels]\n",
    "    ax.set_xticks(xticks)\n",
    "    ax.set_xticklabels(xticklabels)\n",
    "    current_ylim = ax.get_ylim()\n",
    "    ax.set_ylim([0, max(max(Y), current_ylim[1])+0.01])"
   ]
  },
  {
   "cell_type": "markdown",
   "metadata": {},
   "source": [
    "## Phycial session and tasks\n",
    "\n",
    "1. threshold vs. task boundary (cf. Jones)\n",
    " - only look at query\n",
    " - look at query and other events\n",
    "2. Different events have different distribution of dwell time\n",
    " \n",
    "### Note:\n",
    "* Data used for this experiment filtered out events that are labelled as \"None\" tasks"
   ]
  },
  {
   "cell_type": "code",
   "execution_count": 358,
   "metadata": {
    "collapsed": false
   },
   "outputs": [
    {
     "name": "stdout",
     "output_type": "stream",
     "text": [
      "Best Precision:  0.761194029851 (thresh:61) ; Q based eval: 0.761194029851 (thresh:61)\n",
      "Best Recall: 0.0185185185185 (thresh:1) ; Q based eval: 0.826086956522 (thresh:1)\n",
      "Best F1: 0.0353943077848 (thresh:1) ; Q based eval: 0.598922584703 (thresh:5)\n"
     ]
    },
    {
     "data": {
      "image/png": "[encoded data removed]",
      "text/plain": [
       "<matplotlib.figure.Figure at 0x10d220e50>"
      ]
     },
     "metadata": {},
     "output_type": "display_data"
    },
    {
     "data": {
      "text/plain": [
       "<matplotlib.figure.Figure at 0x129e7f990>"
      ]
     },
     "metadata": {},
     "output_type": "display_data"
    },
    {
     "data": {
      "image/png": "[encoded data removed]",
      "text/plain": [
       "<matplotlib.figure.Figure at 0x12b69ab90>"
      ]
     },
     "metadata": {},
     "output_type": "display_data"
    }
   ],
   "source": [
    "# Evaluate the precision and recall of task boundaries\n",
    "# gt is in practice the logical sessions\n",
    "def eval_boundary(sessions, gt):\n",
    "    # Boundaries represented by the index of the last element of each segments\n",
    "    B = [(gt[i][-1][1], gt[i][-1][0]['taskid'], gt[i+1][0][0]['taskid']) for i in range(len(gt)-1)]\n",
    "    # Session boundaries\n",
    "\n",
    "    S = [s[-1][1] for s in sessions]\n",
    "    # Precision\n",
    "    # Check if before and after the query, taskid has changed\n",
    "    TP_prec = 0\n",
    "    TP_recall = 0\n",
    "    prev = sessions[0]\n",
    "    for s in sessions[1:]:\n",
    "        # Precision: Compare taskids before and after the splitting point\n",
    "        prev_task = prev[-1][0]['taskid']\n",
    "        current_task = s[0][0]['taskid']\n",
    "        if not prev_task == current_task:\n",
    "            TP_prec += 1\n",
    "            # Recall: check if between the boundary of queries there is only one switch of tasks, then it's a hit\n",
    "            prev_id = prev[-1][1]\n",
    "            current_id = s[0][1]\n",
    "            switches = list(itertools.ifilter(lambda x: x[0]<=current_id and x[0]>=prev_id, B))\n",
    "            if len(switches) == 1:\n",
    "                TP_recall += 1\n",
    "        prev = s\n",
    "    return TP_prec, TP_recall\n",
    "    \n",
    "def threshold_vs_tasks():\n",
    "    TP_p, qTP_p = {}, {}\n",
    "    TP_r, qTP_r = {}, {}\n",
    "    tot_P, qtot_P = {}, {}\n",
    "    tot_R, qtot_R = {}, {}\n",
    "    for userid, ua in UA:\n",
    "        # Filter out None tasks\n",
    "        data = list(itertools.ifilter(lambda x: not x[0]['taskid'] == 'None', ua))\n",
    "        # Get logical sessions which provides boundaries of tasks\n",
    "        l_sessions = logical_session(data)\n",
    "        # Get query based logical sessions\n",
    "        data_q = list(itertools.ifilter(lambda x: x[0]['event'] in query_events, data))\n",
    "        l_sessions_q = logical_session(data_q)\n",
    "        # Loop over different thresholds for physical sessions\n",
    "        for thresh in range(1, 90):\n",
    "            # Get physical sessions based on query gaps\n",
    "            #q_sessions = physical_session_query(data, thresh)\n",
    "            q_sessions = physical_session(data_q, thresh)\n",
    "            # Evaluation using event based GT\n",
    "            TP_prec, TP_recall = eval_boundary(q_sessions, l_sessions)\n",
    "            # Evaluation using query based GT\n",
    "            qTP_prec, qTP_recall = eval_boundary(q_sessions, l_sessions_q)\n",
    "            \n",
    "            TP_p[thresh] = TP_p.get(thresh, 0) + TP_prec\n",
    "            TP_r[thresh] = TP_r.get(thresh, 0) + TP_recall\n",
    "            tot_P[thresh] = tot_P.get(thresh, 0) + len(q_sessions) - 1\n",
    "            tot_R[thresh] = tot_R.get(thresh, 0) + len(l_sessions) - 1\n",
    "\n",
    "            qTP_p[thresh] = qTP_p.get(thresh, 0) + qTP_prec\n",
    "            qTP_r[thresh] = qTP_r.get(thresh, 0) + qTP_recall\n",
    "            qtot_P[thresh] = qtot_P.get(thresh, 0) + len(q_sessions) - 1\n",
    "            qtot_R[thresh] = qtot_R.get(thresh, 0) + len(l_sessions_q) - 1\n",
    "\n",
    "    X = range(1, 90)\n",
    "    # Event based evaluation\n",
    "    P = [TP_p[x]/float(tot_P[x]) for x in X]\n",
    "    R = [TP_r[x]/float(tot_R[x]) for x in X]\n",
    "    \n",
    "    # Query based evaluation\n",
    "    qP = [qTP_p[x]/float(qtot_P[x]) for x in X]\n",
    "    qR = [qTP_r[x]/float(qtot_R[x]) for x in X]\n",
    "    \n",
    "    fig, ax1 = pylab.subplots()\n",
    "    ax1.plot(X, P, 'b-', label=\"Precision\")\n",
    "    ax1.set_ylabel('Precision')\n",
    "    ax1.set_xlabel('Timeout threshold (minutes)')\n",
    "    ax1.set_ylim([0.3, 0.8])\n",
    "    # qP = P, only recall would change\n",
    "    \n",
    "    ax2 = ax1.twinx()    \n",
    "    ax2.plot(X, R, 'r--', label=\"Recall\")\n",
    "    ax2.set_ylabel('Recall')\n",
    "    \n",
    "    \n",
    "    figure = '%s/timeout_query_event.eps'%outputdir\n",
    "    pylab.tight_layout()\n",
    "    pylab.savefig(figure)\n",
    "    \n",
    "    pylab.figure()\n",
    "    fig, ax1 = pylab.subplots()\n",
    "    ax1.plot(X, qP, 'b-', label=\"Precision\")\n",
    "    ax1.set_ylabel('Precision')\n",
    "    ax1.set_xlabel('Timeout threshold (minutes)')\n",
    "    # qP = P, only recall would change\n",
    "    \n",
    "    ax2 = ax1.twinx()    \n",
    "    ax2.plot(X, qR, 'r--', label=\"Recall\")\n",
    "    ax2.set_ylabel('Recall')\n",
    "\n",
    "    ax1.set_ylim([0.3, 0.8])\n",
    "    figure = '%s/timeout_query_query.eps'%outputdir\n",
    "    pylab.tight_layout()\n",
    "    pylab.savefig(figure)\n",
    "\n",
    "    \n",
    "    # Some stats\n",
    "    P.index(max(P))\n",
    "    \n",
    "    print 'Best Precision: ', max(P), \"(thresh:%s)\"%X[P.index(max(P))], \n",
    "    print '; Q based eval:', max(qP), \"(thresh:%s)\"%X[qP.index(max(qP))]\n",
    "    print 'Best Recall:', max(R), \"(thresh:%s)\"%X[R.index(max(R))],\n",
    "    print '; Q based eval:', max(qR), \n",
    "    print \"(thresh:%s)\"%X[qR.index(max(qR))]\n",
    "    \n",
    "    F = [P[i]*R[i]*2/(P[i] + R[i]) for i in range(len(P))]\n",
    "    qF = [qP[i]*qR[i]*2/(qP[i] + qR[i]) for i in range(len(qP))]\n",
    "    print \"Best F1:\", max(F), \"(thresh:%s)\"%X[F.index(max(F))],\n",
    "    print '; Q based eval:', max(qF), \"(thresh:%s)\"%X[qF.index(max(qF))]\n",
    "    \n",
    "#Precision, recall given different threshold\n",
    "threshold_vs_tasks()"
   ]
  },
  {
   "cell_type": "code",
   "execution_count": 359,
   "metadata": {
    "collapsed": false
   },
   "outputs": [
    {
     "name": "stdout",
     "output_type": "stream",
     "text": [
      "Best Precision:  0.680327868852 (thresh:89)\n",
      "Best Recall: 0.181309216193 (thresh:1)\n",
      "Best F1: 0.248421775056 (thresh:1)\n"
     ]
    },
    {
     "data": {
      "image/png": "[encoded data removed]",
      "text/plain": [
       "<matplotlib.figure.Figure at 0x1174bfe10>"
      ]
     },
     "metadata": {},
     "output_type": "display_data"
    }
   ],
   "source": [
    "# Instead of thresholding on queries, try events\n",
    "def threshold_vs_tasks_events():\n",
    "    TP_p = {}\n",
    "    TP_r = {}\n",
    "    tot_P = {}\n",
    "    tot_R = {}\n",
    "    for userid, ua in UA:\n",
    "        # Filter out None tasks\n",
    "        data = list(itertools.ifilter(lambda x: not x[0]['taskid'] == 'None', ua))\n",
    "        #data = ua\n",
    "        # Get logical sessions which provides boundaries of tasks\n",
    "        l_sessions = logical_session(data)\n",
    "        for thresh in range(1, 90):\n",
    "            # Get physical sessions based on query gaps\n",
    "            sessions = physical_session(data, thresh)\n",
    "            TP_prec, TP_recall = eval_boundary(sessions, l_sessions)\n",
    "            TP_p[thresh] = TP_p.get(thresh, 0) + TP_prec\n",
    "            TP_r[thresh] = TP_r.get(thresh, 0) + TP_recall\n",
    "            tot_P[thresh] = tot_P.get(thresh, 0) + len(sessions) - 1\n",
    "            tot_R[thresh] = tot_R.get(thresh, 0) + len(l_sessions) - 1\n",
    "\n",
    "\n",
    "    X = range(1, 90)\n",
    "    P = [TP_p[x]/float(tot_P[x]) for x in X]\n",
    "    R = [TP_r[x]/float(tot_R[x]) for x in X]\n",
    "    \n",
    "    fig, ax1 = pylab.subplots()\n",
    "    ax1.plot(X, P, 'b-', label=\"Precision\")\n",
    "    ax1.set_ylabel('Precision')\n",
    "    ax1.set_ylim([0.3, 0.8])\n",
    "    ax1.set_xlabel('Timeout threshold (minutes)')\n",
    "    \n",
    "    ax2 = ax1.twinx()    \n",
    "    ax2.plot(X, R, 'r--', label=\"Recall\")\n",
    "    ax2.set_ylabel('Recall')\n",
    "    \n",
    "    figure = '%s/timeout_event_event.eps'%outputdir\n",
    "    pylab.tight_layout()\n",
    "    pylab.savefig(figure)\n",
    "    \n",
    "    # Some stats\n",
    "    print 'Best Precision: ', max(P), \"(thresh:%s)\"%X[P.index(max(P))]\n",
    "    print 'Best Recall:', max(R), \"(thresh:%s)\"%X[R.index(max(R))]\n",
    "    F = [P[i]*R[i]*2/(P[i] + R[i]) for i in range(len(P))]\n",
    "    print \"Best F1:\", max(F), \"(thresh:%s)\"%X[F.index(max(F))]\n",
    "    \n",
    "#Precision, recall given different threshold\n",
    "threshold_vs_tasks_events()"
   ]
  },
  {
   "cell_type": "code",
   "execution_count": 360,
   "metadata": {
    "collapsed": false
   },
   "outputs": [
    {
     "name": "stdout",
     "output_type": "stream",
     "text": [
      "1 form_submit H:97 (0.0215) T:158 (0.0350) M:4257 (0.9435) Total:  4512\n",
      "2 forward/backward H:57 (0.0769) T:3 (0.0040) M:681 (0.9190) Total:  741\n",
      "3 link_click H:899 (0.0428) T:1193 (0.0567) M:18932 (0.9005) Total:  21024\n",
      "4 pagination H:0 (0.0000) T:0 (0.0000) M:45 (1.0000) Total:  45\n",
      "5 query H:743 (0.2378) T:16 (0.0051) M:2366 (0.7571) Total:  3125\n",
      "6 tab_close H:911 (0.2521) T:835 (0.2310) M:1868 (0.5169) Total:  3614\n",
      "7 tab_new H:316 (0.3309) T:2 (0.0021) M:637 (0.6670) Total:  955\n",
      "8 tab_switch H:2741 (0.2954) T:1215 (0.1309) M:5323 (0.5737) Total:  9279\n",
      "9 type_in_url H:678 (0.6092) T:19 (0.0171) M:416 (0.3738) Total:  1113\n"
     ]
    },
    {
     "data": {
      "image/png": "[encoded data removed]",
      "text/plain": [
       "<matplotlib.figure.Figure at 0x11d6ff490>"
      ]
     },
     "metadata": {},
     "output_type": "display_data"
    }
   ],
   "source": [
    "# Merge events into a few categories:\n",
    "# The merge is based on: how the event were generated, and they generally have similar HTM ratios\n",
    "# - query\n",
    "# - link_click\n",
    "# - form_submit\n",
    "# - forward_back\n",
    "# - go_to_url\n",
    "# - pagination\n",
    "# - tab_new\n",
    "# - tab_close\n",
    "# - tab_switch\n",
    "# - tab_loading\n",
    "# The two events that don't have a category: tab-search-noquery navigation-manual_subframe\n",
    "def get_event_category(event):\n",
    "    #These event usually will follow/followed by tab-search event\n",
    "    if event in query_events + ['navigation-keyword', \"navigation-omni_query\", \"tab-replace-switch\"]:\n",
    "        return \"query\"\n",
    "    elif \"link\" in event:\n",
    "        return \"link_click\"\n",
    "    elif \"form_submit\" in event:\n",
    "        return \"form_submit\"\n",
    "    elif 'forward_back' in event or \"backward\" in event:\n",
    "        return \"forward/backward\"\n",
    "    elif event == \"navigation-omni_url\":\n",
    "        return \"type_in_url\"\n",
    "    elif event == 'tab-search-pagination':\n",
    "        return \"pagination\"\n",
    "    # they all relate to start a new tab\n",
    "    elif event in ['navigation-start_page', 'tab-open-in-new', 'tab-new-switch']:\n",
    "        return \"tab_new\"\n",
    "    elif event in ['tab-close', 'tab-close-switch']:\n",
    "        return \"tab_close\"\n",
    "    elif event in ['tab-loaded', 'tab-loaded-SERP', 'navigation-reload']:\n",
    "        return \"tab_load\"\n",
    "    elif event in ['tab-switch']:\n",
    "        return 'tab_switch'\n",
    "    else:\n",
    "        return \"?\"\n",
    "\n",
    "# Check which events are usually task breakers\n",
    "def task_breakers(data, H, T, M):\n",
    "    # Count of events being head, tail of logical sessions\n",
    "    sessions = logical_session(data)\n",
    "    for s in sessions:\n",
    "        head = get_event_category(s[0][0]['event'])\n",
    "        tail = get_event_category(s[-1][0]['event'])\n",
    "        H[head] = H.get(head, 0) + 1\n",
    "        T[tail] = T.get(tail, 0) + 1\n",
    "        M_events = [get_event_category(x[0]['event']) for x in s[1:-2]]\n",
    "        M_events.sort()\n",
    "        for k, g in itertools.groupby(M_events):\n",
    "            M[k] = M.get(k, 0) + len(list(g))\n",
    "\n",
    "\n",
    "# Look at distribution of stats over different types of events\n",
    "def event_distribution():\n",
    "    all_events = set([])\n",
    "    H, T, M = {}, {}, {}\n",
    "    G = []\n",
    "    for userid, ua in UA:\n",
    "        # Filter out \"None\" tasks\n",
    "        data = list(itertools.ifilter(lambda x: not x[0]['taskid'] == 'None', ua))\n",
    "        # Get dwell time\n",
    "        data_with_gap = time_gap(ua)\n",
    "        #print len(data)\n",
    "        #gaps = [(e, e['dwell']) for e, on in data if e['dwell'] >= 0]\n",
    "        all_events = all_events.union(set(list([get_event_category(d[0]['event']) for d in data])))\n",
    "        task_breakers(data, H, T, M)\n",
    "\n",
    "\n",
    "    #for e in all_events:\n",
    "    #    print e, get_event_category(e)\n",
    "    #print\n",
    "        \n",
    "    # Make plot\n",
    "    # print \"Events Head, Tail, Middle counts:\"\n",
    "    pylab.figure()\n",
    "    i = 0\n",
    "    for e in sorted(all_events):\n",
    "        # Tab loaded is not a user event, skip it\n",
    "        # Triggers of tab-loadings have been recorded already\n",
    "        if e == '?' or e == 'tab_load':\n",
    "            continue\n",
    "        i += 1\n",
    "        h = H.get(e, 0)\n",
    "        t = T.get(e, 0)\n",
    "        m = M.get(e, 0)\n",
    "        tot = h + t + m\n",
    "        print i, e, \"H:%s (%.4f)\"%(h, float(h)/tot), \"T:%s (%.4f)\"%(t, float(t)/tot), \n",
    "        print \"M:%s (%.4f)\"%(m, float(m)/tot), \"Total: \", tot\n",
    "        # Filter out events that occur less than 10 times\n",
    "\n",
    "        pylab.text(float(h)/tot, float(t)/tot, i, label=e)\n",
    "        \n",
    "    pylab.xlabel('Ratio of head events')\n",
    "    pylab.ylabel('Ratio of tail events')\n",
    "    pylab.xlim([-0.05, 0.8])\n",
    "    pylab.ylim([-0.05, 0.8])\n",
    "    ticks = [0, 0.2, 0.4, 0.6, 0.8]\n",
    "    pylab.xticks(ticks)\n",
    "    pylab.yticks(ticks)\n",
    "    pylab.tight_layout()\n",
    "    figure = '%s/event_head_tail.eps'%outputdir\n",
    "    pylab.savefig(figure)\n",
    "    \n",
    "event_distribution()\n"
   ]
  },
  {
   "cell_type": "code",
   "execution_count": null,
   "metadata": {
    "collapsed": true
   },
   "outputs": [],
   "source": []
  }
 ],
 "metadata": {
  "kernelspec": {
   "display_name": "Python 2",
   "language": "python",
   "name": "python2"
  },
  "language_info": {
   "codemirror_mode": {
    "name": "ipython",
    "version": 2
   },
   "file_extension": ".py",
   "mimetype": "text/x-python",
   "name": "python",
   "nbconvert_exporter": "python",
   "pygments_lexer": "ipython2",
   "version": "2.7.10"
  }
 },
 "nbformat": 4,
 "nbformat_minor": 0
}

{
 "cells": [
  {
   "cell_type": "markdown",
   "metadata": {},
   "source": [
    "Make examples of user tasks for illustration purpose. "
   ]
  },
  {
   "cell_type": "markdown",
   "metadata": {},
   "source": [
    "## Setup\n"
   ]
  },
  {
   "cell_type": "code",
   "execution_count": 199,
   "metadata": {
    "collapsed": false
   },
   "outputs": [],
   "source": [
    "%matplotlib inline\n",
    "import pymongo\n",
    "from pymongo import MongoClient\n",
    "import numpy as np\n",
    "import itertools\n",
    "import urllib\n",
    "import sys\n",
    "sys.path.append('../variables/')\n",
    "import UserActivity\n",
    "import matplotlib.pylab as pylab\n",
    "from bson.objectid import ObjectId\n",
    "from scipy.stats import gaussian_kde, ks_2samp\n",
    "\n",
    "# DB connections\n",
    "client = MongoClient()\n",
    "db = client.db_tasklog_clean\n",
    "# Collections\n",
    "User = db.user\n",
    "Log = db.log_chrome\n",
    "Labelled = db.data_labeled\n",
    "UserTasks = db.user_tasks\n",
    "\n",
    "# Tasks to be excluded\n",
    "to_exclude = ['000', '001', '002', '003', '004']\n",
    "# Pre-defined labels - excluding \"not sure (001)\"\n",
    "pre_tasks = ['001', '002', '003', '004']\n",
    "# new query \n",
    "query_events = ['tab-search-new', 'tab-search-verticle'] \n",
    "# Get user task activities\n",
    "# Set dummy parametersb\n",
    "t_thresh = -1 # Look at first X minutes, not used\n",
    "session_thresh = 30 # in minutes, threshold to consider users have left without closing the tab, not used\n",
    "to_include = [] # Not used for this computation \n",
    "\n",
    "# Task properties names\n",
    "TP = {\n",
    "      'task_stage': 'STG',\n",
    "      'task_collaboration': 'COL',\n",
    "      'task_difficulty_subjective': 'DIF',\n",
    "      'task_sailence_subjective': 'IMP',\n",
    "      'task_frequency': 'FQ',\n",
    "      'task_satisfaction': 'SAT',\n",
    "      'task_knowledge_topic': 'KT',\n",
    "      'task_complexity_objective': 'CL',\n",
    "      'task_knowledge_procedure': 'KP',\n",
    "      'task_complexity_subjective': 'COM',\n",
    "      'task_length': 'TL',\n",
    "      'task_urgency_subjective': 'UR'\n",
    " }\n",
    "TP_exclude = ['task_goals_quantity']"
   ]
  },
  {
   "cell_type": "markdown",
   "metadata": {},
   "source": [
    "## Functions of getting labelled tasks"
   ]
  },
  {
   "cell_type": "code",
   "execution_count": 200,
   "metadata": {
    "collapsed": false
   },
   "outputs": [],
   "source": [
    "def all_registered_tasks():\n",
    "    all_tasks = list(UserTasks.find({'task_level': 0}))\n",
    "    return all_tasks\n",
    "\n",
    "def task_names():\n",
    "    all_tasks = list(UserTasks.find({'task_level': 0}))\n",
    "    T = []\n",
    "    for t in all_tasks:\n",
    "        T.append((str(t['_id']), t['task']))\n",
    "    return dict(T)\n",
    "\n",
    "def get_postQ():\n",
    "    Task_Q = []\n",
    "    for u in User.find({}):\n",
    "        Q = u['postQ']['questionnaire']\n",
    "        for t in Q:\n",
    "            questions = dict([(TP[q], Q[t][q]) for q in Q[t] if not q in TP_exclude])\n",
    "            Task_Q.append((t, questions))\n",
    "    return Task_Q\n"
   ]
  },
  {
   "cell_type": "code",
   "execution_count": 201,
   "metadata": {
    "collapsed": true
   },
   "outputs": [],
   "source": [
    "# All events\n",
    "def event_stream(data):\n",
    "    events = []\n",
    "    # data consists of tab-groups\n",
    "    for s in data:\n",
    "        tab_group = s['tab_group']\n",
    "        tabid = s['tabid']\n",
    "        # tab groups consist of url groups\n",
    "        for ug in tab_group:\n",
    "            # a group of events sharing the same url\n",
    "            url_group = ug['url_group']\n",
    "            for e in url_group:\n",
    "                events.append(e)\n",
    "    events.sort(key=lambda x: x['timestamp_bson'])\n",
    "    return events\n",
    "\n",
    "# Get logical sessions\n",
    "# Criteria for logical session:\n",
    "# 1. consecutive events belong to the same task\n",
    "# 2. a pause longer than 90 mins makes a session break (user may have left)\n",
    "# Data format: stream of events\n",
    "# Data should have already been filtered to only include event where the user is \"on\"\n",
    "# A logical session should last more than 0 seconds\n",
    "def logical_session(data):\n",
    "    L = []\n",
    "    s = []\n",
    "    prev = -1\n",
    "    for event, on in data:\n",
    "        if prev == -1:\n",
    "            prev = event\n",
    "            s.append(event)\n",
    "            continue\n",
    "        gap = (event['timestamp_bson'] - prev['timestamp_bson']).total_seconds()/60\n",
    "        # Keep adding to the logical session if conditions are satisfied\n",
    "        if prev['taskid'] == event['taskid'] and gap < 90:\n",
    "            s.append(event)\n",
    "        # Otherwise, start a new session\n",
    "        else:\n",
    "            slength = (s[-1]['timestamp_bson'] - s[0]['timestamp_bson']).total_seconds()\n",
    "            # Filter out sessions that last 0 seconds\n",
    "            if not s == [] and slength > 0:\n",
    "                L.append(s)\n",
    "            s = []\n",
    "            s.append(event)\n",
    "        prev = event\n",
    "    # Add the last session\n",
    "    slength = (s[-1]['timestamp_bson'] - s[0]['timestamp_bson']).total_seconds()\n",
    "    if not s == [] and slength > 0:\n",
    "        L.append(s)\n",
    "    return L\n",
    "    \n",
    "\n",
    "# Gether user activity data for analysis\n",
    "UA = []\n",
    "users = list(User.find({}))\n",
    "for u in users:\n",
    "    userid = u['userid']\n",
    "    data = list(Labelled.find({'userid': u['userid']}))[0]['data']\n",
    "    events = event_stream(data)\n",
    "    ua = UserActivity.UserActivity(data, to_include, t_thresh, session_thresh)\n",
    "    a_path, a_stream = ua.get_user_path()\n",
    "    \n",
    "    # filter out events where user was not on the tab\n",
    "    user_stream = list(itertools.ifilter(lambda x: x[1] == True, a_stream))\n",
    "    UA.append((userid, user_stream))"
   ]
  },
  {
   "cell_type": "markdown",
   "metadata": {},
   "source": [
    "## Task content categorisation w.r.t ODP"
   ]
  },
  {
   "cell_type": "markdown",
   "metadata": {
    "collapsed": true
   },
   "source": [
    "## Task with subtasks"
   ]
  },
  {
   "cell_type": "code",
   "execution_count": 202,
   "metadata": {
    "collapsed": false
   },
   "outputs": [
    {
     "name": "stdout",
     "output_type": "stream",
     "text": [
      "Number of tasks registered (top level):  305\n",
      "Number of tasks labelled (top level):  289\n",
      "Number of labelled tasks that are registered with subtasks: 17\n",
      "Finding job [u'Checking Email']\n",
      "Accoutability Hack [u'parse XML', u'prepare back-end']\n",
      "plan vacation trip christmas [u'find out how to go from denmark to norway', u'find accommodation in oslo']\n",
      "find brownie recipe [u'needs to use only ingredients I already have']\n",
      "Check readings for Construction [u'download readings']\n",
      "Prepare for Black Friday sales [u'Buy Stand Mixer', u'Buy Shaver']\n",
      "Plan winter trip [u'Browse Train tickets']\n",
      "Tasklog user study [u'UI/logger coding', u'Analysis', u'Recruiting users', u'study design']\n",
      "Maritime arb readings [u'Ask vivien about printer, need to pay?']\n",
      "Parents visa application [u'Translation', u'Application files', u'Visa info']\n",
      "Finish logging hours for isd pay. [u'March ', u'September']\n",
      "create trailer for software platform [u'find rights-free music', u'check current applications', u'adobe premiere troubleshooting', u'check finished trailer']\n",
      "TechSoc activities [u'C programming & DSA', u'Social Network']\n",
      "writing academic article [u'finding academic papers', u'lookup words', u'looking up archived websites', u'']\n",
      "Internship applications [u'Brush-up DSA', u'Look for openings', u'Brush-up Python']\n",
      "Cook for week- rice/spag? [u'Tesco-Spaghetti, Sauce, Chicken']\n",
      "complete ad feedback data join [u'identify user ad click behavior categories', u'refactor pig script to work on grid', u'debug avro storage problem', u'check status of hadoop job']\n"
     ]
    }
   ],
   "source": [
    "# Tasks that were used to label events:\n",
    "# based on logical sessions of tasks, i.e.\n",
    "# - user should be \"on\" the page\n",
    "# - a logical session of a task should be more than 0 second\n",
    "def labelled_tasks():\n",
    "    labelled_tasks = set([])\n",
    "    for userid, ua in UA:\n",
    "        L = logical_session(ua)\n",
    "        taskids = set([l[0]['taskid'] for l in L])\n",
    "        # filter out predefined and None tasks\n",
    "        taskids = taskids - set(['None'] + to_exclude)\n",
    "        labelled_tasks = labelled_tasks.union(taskids)\n",
    "    return labelled_tasks\n",
    "\n",
    "# Number of top lavel tasks that have subtasks and the top-level is used for labelling\n",
    "# And list the subtasks\n",
    "def task_hierarchy(labelled_tasks):\n",
    "    task_hier = {}\n",
    "    for t in labelled_tasks:\n",
    "        task = list(UserTasks.find({'_id': ObjectId(t)}))\n",
    "        if len(task) == 0:\n",
    "            continue\n",
    "        subtasks = list(UserTasks.find({'parent_task': t}))\n",
    "        if len(subtasks) > 0:\n",
    "            task_hier[task[0]['task']] = [s['task'] for s in subtasks]\n",
    "    return task_hier\n",
    "\n",
    "\n",
    "print \"Number of tasks registered (top level): \", len(all_registered_tasks())\n",
    "LT = labelled_tasks()\n",
    "print \"Number of tasks labelled (top level): \", len(LT)\n",
    "# Among labelled tasks, those that have subtasks\n",
    "task_hier = task_hierarchy(LT)\n",
    "print \"Number of labelled tasks that are registered with subtasks:\", len(task_hier)\n",
    "for task in task_hier:\n",
    "    print task, task_hier[task]\n",
    "    \n",
    "#print \"Number of subtasks that were used to label events: \""
   ]
  },
  {
   "cell_type": "markdown",
   "metadata": {},
   "source": [
    "## Example tasks at different cognitive levels\n",
    "\n",
    "- try to classify them into categories, e.g. the 7 categories from X"
   ]
  },
  {
   "cell_type": "code",
   "execution_count": 203,
   "metadata": {
    "collapsed": false
   },
   "outputs": [
    {
     "name": "stdout",
     "output_type": "stream",
     "text": [
      "Logs that were annotated but not recorded in the log: \n",
      "562412b8ed9cac35200a8bb4 port ad feedback feature to java\n",
      "562a5c550973e424691dec03 testing tasklog interface\n",
      "563bc225e7557e4047734e51 learn about lambdarank\n",
      "56571ce6e685c622118a5a5d apply for new born visa\n",
      "563bc157e7557e4047734e47 relevance rating interface for logger\n"
     ]
    }
   ],
   "source": [
    "postQ = get_postQ()\n",
    "T = task_names()\n",
    "annotated_tasks = [t[0] for t in postQ]\n",
    "#postQ.sort(key=lambda x: x[1]['CL'])\n",
    "#for k, g in itertools.groupby(postQ, lambda x: x[1]['CL']):\n",
    "#    g = list(g)\n",
    "#    print k\n",
    "#    for t in g:\n",
    "#        print '\\t %s \\t%s'%(t[0], T[t[0]])\n",
    "\n",
    "out = []\n",
    "outfile = 'task_query_for_classify.txt'\n",
    "taskids = []\n",
    "for userid, ua in UA:\n",
    "    task_events = [e for e, on in ua if e['taskid'] in annotated_tasks]\n",
    "    task_events.sort(key=lambda x: x['taskid'])\n",
    "    for k, g in itertools.groupby(task_events, lambda x: x['taskid']):\n",
    "        g = list(g)\n",
    "        queries = [e['details']['query'] for e in g if e['event'] in query_events]\n",
    "        out.append('\\t'.join([userid, k, T[k], '; '.join(queries)]))  \n",
    "        taskids.append(k)\n",
    "        \n",
    "print \"Logs that were annotated but not recorded in the log: \"\n",
    "for t in set(annotated_tasks) - set(taskids):\n",
    "    print t, T[t]\n",
    "    \n",
    "o = open(outfile, 'w')\n",
    "o.write('\\n'.join(out))\n",
    "o.close()\n"
   ]
  },
  {
   "cell_type": "code",
   "execution_count": 204,
   "metadata": {
    "collapsed": false
   },
   "outputs": [],
   "source": [
    "# Map the tasks to some higher level representation\n",
    "def load_taskcontent():\n",
    "    inputfile = 'task_content.txt'\n",
    "    f = open(inputfile)\n",
    "    taskmap = []\n",
    "    for l in f:\n",
    "        cl, taskname, taskmask, taskanno = l.strip().split('\\t')\n",
    "        taskmap.append((cl, taskname, taskmask, taskanno.lower()))\n",
    "    f.close()\n",
    "    return taskmap    "
   ]
  },
  {
   "cell_type": "code",
   "execution_count": 229,
   "metadata": {
    "collapsed": false
   },
   "outputs": [
    {
     "name": "stdout",
     "output_type": "stream",
     "text": [
      " 1 shopping 18 0.133333333333\n",
      "['Baby products', 'Shopping', 'Looking for a new bag', 'sort out christmas decoration lights', 'Husbands present', 'Buy a dress for dec visit', 'Buying contact lenses', 'Search for a Internet Plan', 'food shopping', 'shopping', 'shoes', 'shop for speakers', 'Prepare for Black Friday sales', 'Shopping', 'hair and skin-amazon', 'Check out graze-free box', 'Amazon-Heater', 'Hair things']\n",
      "\n",
      "2 writing report/paper/presentation 11 0.0814814814815\n",
      "['Complete Econometrics Tutorial', 'Complete IEP Presentation Slide', 'SIGIR mobile apps paper', 'finish writing related work', 'background chapter of report', 'writing academic article', 'Tort Essay', 'EU Law Eassy Research', 'Tort Law essay research', 'Paper writing', 'compile BX paper']\n",
      "\n",
      "3 travel planning/booking 10 0.0740740740741\n",
      "['Flight home (Christmas)', 'Book trip to Berlin', 'Plan trip for next reading week', 'Arrange some journeys afterwards', 'book tickets for wsdm', 'Plan for reading week', 'Weekend Travel', 'Find travel information', 'plan vacation trip christmas', 'Reading week trip']\n",
      "\n",
      "4 job hunting 7 0.0518518518519\n",
      "['Internship applications', 'Tutor jobs', 'Finding Job', 'job hunt', 'job hunt', 'Look for an internship', 'Looking for jobs']\n",
      "\n",
      "5 do/manage project 6 0.0444444444444\n",
      "['Project Management', 'GIS project', 'Current software project', 'complex networks proj', 'research project - ivf and age related births', 'Algorithms proj']\n",
      "\n",
      "6 research 6 0.0444444444444\n",
      "['General research for study', 'Research', 'research', 'Research', 'Tasklog user study', 'mooting research']\n",
      "\n",
      "7 programming 5 0.037037037037\n",
      "['port ad feedback feature to java', 'complete ad feedback data join', 'Calculate features in client side logger', 'relevance rating interface for logger', 'testing tasklog interface']\n",
      "\n",
      "8 watch x online 5 0.037037037037\n",
      "['Barcelona vs Real Madrid', 'binge watch London Spy', 'Binge watch outlander', 'watch Dr Who', 'Youtube/Streaming']\n",
      "\n",
      "\n",
      "Top 8 task content sum up to\n",
      "68 0.503703703704\n",
      "Other 67 0.496296296296\n"
     ]
    },
    {
     "data": {
      "text/plain": [
       "{'do/manage project': 6,\n",
       " 'job hunting': 7,\n",
       " 'programming': 5,\n",
       " 'research': 6,\n",
       " 'shopping': 18,\n",
       " 'travel planning/booking': 10,\n",
       " 'watch x online': 5,\n",
       " 'writing report/paper/presentation': 11}"
      ]
     },
     "execution_count": 229,
     "metadata": {},
     "output_type": "execute_result"
    }
   ],
   "source": [
    "# Group tasks after masking\n",
    "def group_task_by_mask(taskmap):\n",
    "    taskmap.sort(key=lambda x: x[3])\n",
    "    G = []\n",
    "    for k, g in itertools.groupby(taskmap, lambda x: x[3]):\n",
    "        g = list(g)\n",
    "        G.append((k, g, len(g)))\n",
    "    return G\n",
    "\n",
    "def get_topX_groups(taskmap, X, noprint=False):\n",
    "    G = group_task_by_mask(taskmap)\n",
    "    G.sort(key=lambda x: x[2], reverse=True)\n",
    "    i = 0\n",
    "    topX = 0\n",
    "    topX_groups = []\n",
    "    for g in G:\n",
    "        i += 1\n",
    "        topX += g[2]\n",
    "        topX_groups.append((g[0], g[2]))\n",
    "        if not noprint:\n",
    "            print i, g[0], g[2], float(g[2])/len(taskmap)\n",
    "            print [x[1] for x in g[1]]\n",
    "            print\n",
    "        if i >= X:\n",
    "            break\n",
    "    if not noprint:\n",
    "        print\n",
    "        print \"Top\", X, \"task content sum up to\"\n",
    "        print topX, float(topX)/len(taskmap)\n",
    "        print 'Other', 135 - topX, float(135-topX)/len(taskmap)\n",
    "    return dict(topX_groups)\n",
    "\n",
    "taskmap = load_taskcontent()\n",
    "get_topX_groups(taskmap, 8)"
   ]
  },
  {
   "cell_type": "code",
   "execution_count": 233,
   "metadata": {
    "collapsed": false,
    "scrolled": true
   },
   "outputs": [
    {
     "name": "stdout",
     "output_type": "stream",
     "text": [
      "{'travel planning/booking': 10, 'shopping': 18, 'writing report/paper/presentation': 11, 'programming': 5, 'research': 6, 'do/manage project': 6, 'job hunting': 7, 'watch x online': 5}\n",
      "=======\n",
      "analyse 18\n",
      "=======\n",
      "programming 3 0.60 ['port ad feedback feature to java', 'complete ad feedback data join', 'Calculate features in client side logger']\n",
      "shopping 3 0.17 ['Baby products', 'Shopping', 'Looking for a new bag']\n",
      "watch x online 3 0.60 ['binge watch London Spy', 'Binge watch outlander', 'watch Dr Who']\n",
      "do/manage project 1 0.17 ['Algorithms proj']\n",
      "job hunting 1 0.14 ['Internship applications']\n",
      "research 1 0.17 ['General research for study']\n",
      "travel planning/booking 1 0.10 ['Flight home (Christmas)']\n",
      "other: 5 ['learn about lambdarank', 'learn about good slides design in academic talks', 'Recruitment', 'Solving technical issues', 'Eu tutorial']\n",
      "\n",
      "=======\n",
      "apply 28\n",
      "=======\n",
      "research 3 0.50 ['Research', 'research', 'Research']\n",
      "do/manage project 2 0.33 ['GIS project', 'Current software project']\n",
      "shopping 2 0.11 ['sort out christmas decoration lights', 'Husbands present']\n",
      "writing report/paper/presentation 2 0.18 ['Complete Econometrics Tutorial', 'Complete IEP Presentation Slide']\n",
      "job hunting 1 0.14 ['Tutor jobs']\n",
      "travel planning/booking 1 0.10 ['Book trip to Berlin']\n",
      "other: 17 ['Parents visa application', 'visa application', 'apply for new born visa', 'add compgc02 on calender and check with teams', 'Coursework', 'Do a job listing', 'Do accounts', 'Download exam screenshots', 'experiments for money', 'Finding Derivative Solution', 'MNFN promtions', 'UCU organising', 'Professional Social Networking', 'find brownie recipe', 'Search for proper psychology experiments', 'Find solutions to my problem with the printer and ink cartridge', 'PhD regulations nijmegen']\n",
      "\n",
      "=======\n",
      "create 13\n",
      "=======\n",
      "writing report/paper/presentation 4 0.36 ['SIGIR mobile apps paper', 'finish writing related work', 'background chapter of report', 'writing academic article']\n",
      "travel planning/booking 2 0.20 ['Plan trip for next reading week', 'Arrange some journeys afterwards']\n",
      "job hunting 1 0.14 ['Finding Job']\n",
      "research 1 0.17 ['Tasklog user study']\n",
      "other: 5 ['School Work', 'Facebook', 'prepare talk', 'Prepare 4 Haskell Test', 'Study logic']\n",
      "\n",
      "=======\n",
      "evaluate 25\n",
      "=======\n",
      "writing report/paper/presentation 4 0.36 ['Tort Essay', 'EU Law Eassy Research', 'Tort Law essay research', 'Paper writing']\n",
      "job hunting 3 0.43 ['job hunt', 'job hunt', 'Look for an internship']\n",
      "shopping 3 0.17 ['Buy a dress for dec visit', 'Buying contact lenses', 'Search for a Internet Plan']\n",
      "do/manage project 2 0.33 ['complex networks proj', 'research project - ivf and age related births']\n",
      "travel planning/booking 2 0.20 ['book tickets for wsdm', 'Plan for reading week']\n",
      "programming 1 0.20 ['relevance rating interface for logger']\n",
      "research 1 0.17 ['mooting research']\n",
      "other: 9 ['find house to buy', 'Buying flat', 'Walthamstow Labour organising', 'organizing teaching activities', 'micro/macro assignment', 'Planning new project', 'find a book', 'Reviews', 'Maritime arb readings']\n",
      "\n",
      "=======\n",
      "remember 38\n",
      "=======\n",
      "shopping 10 0.56 ['food shopping', 'shopping', 'shoes', 'shop for speakers', 'Prepare for Black Friday sales', 'Shopping', 'hair and skin-amazon', 'Check out graze-free box', 'Amazon-Heater', 'Hair things']\n",
      "travel planning/booking 3 0.30 ['Weekend Travel', 'Find travel information', 'plan vacation trip christmas']\n",
      "watch x online 2 0.40 ['Barcelona vs Real Madrid', 'Youtube/Streaming']\n",
      "job hunting 1 0.14 ['Looking for jobs']\n",
      "writing report/paper/presentation 1 0.09 ['compile BX paper']\n",
      "other: 21 ['Read Email', 'Check Email', 'check location of baby show', 'Find lunch place near work', 'call vodafone', 'Checking for updates of courses', 'stock update', 'demonstration', 'Downlaod Lecture Notes', 'Find some songs to practice', 'Finish logging hours for isd pay.', 'follow cricket', 'illustrate a poster', \"Make sure I'm registered to vote\", 'money for experiments', 'Renew library books', 'Revision for post lecture', 'Use of Online Services', 'work payment', 'wsdm funding application', 'Pregnancy health info']\n",
      "\n",
      "=======\n",
      "understadn 13\n",
      "=======\n",
      "do/manage project 1 0.17 ['Project Management']\n",
      "programming 1 0.20 ['testing tasklog interface']\n",
      "travel planning/booking 1 0.10 ['Reading week trip']\n",
      "other: 10 ['Check prolific.ac', 'collect data on access control', 'create trailer for software platform', 'Bills to pay', 'learn new songs on the guitar', 'listen to music scores', 'looking up information about software implementation', 'read PhD thesis templates', 'Cooking', 'stock knowledge/news']\n",
      "\n"
     ]
    }
   ],
   "source": [
    "# Examples of tasks at each level\n",
    "taskmap = load_taskcontent()\n",
    "# Get top X task groups\n",
    "topX = 8\n",
    "topx_G = get_topX_groups(taskmap, topX, noprint=True)\n",
    "taskmap.sort(key=lambda x: x[0])\n",
    "print topx_G\n",
    "for k, g in itertools.groupby(taskmap, lambda x: x[0]):\n",
    "    g = list(g)\n",
    "    print \"=======\"\n",
    "    print k, len(g)\n",
    "    print \"=======\"\n",
    "    LG = group_task_by_mask(g)\n",
    "    LG.sort(key=lambda x: x[2], reverse=True)\n",
    "    other = []\n",
    "    for gg in LG:\n",
    "        if gg[0] in topx_G:\n",
    "            print gg[0], gg[2], '%.2f'%(gg[2]/float(topx_G[gg[0]])), [x[1] for x in gg[1]]\n",
    "        else:\n",
    "            other += [x[1] for x in gg[1]]\n",
    "    print \"other:\", len(other), other\n",
    "    print"
   ]
  }
 ],
 "metadata": {
  "kernelspec": {
   "display_name": "Python 2",
   "language": "python",
   "name": "python2"
  },
  "language_info": {
   "codemirror_mode": {
    "name": "ipython",
    "version": 2
   },
   "file_extension": ".py",
   "mimetype": "text/x-python",
   "name": "python",
   "nbconvert_exporter": "python",
   "pygments_lexer": "ipython2",
   "version": "2.7.10"
  }
 },
 "nbformat": 4,
 "nbformat_minor": 0
}

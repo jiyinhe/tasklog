{
 "cells": [
  {
   "cell_type": "markdown",
   "metadata": {},
   "source": [
    "Make examples of user tasks for illustration purpose. "
   ]
  },
  {
   "cell_type": "markdown",
   "metadata": {},
   "source": [
    "## Setup\n"
   ]
  },
  {
   "cell_type": "code",
   "execution_count": 37,
   "metadata": {
    "collapsed": false
   },
   "outputs": [
    {
     "name": "stdout",
     "output_type": "stream",
     "text": [
      "\n"
     ]
    }
   ],
   "source": [
    "%matplotlib inline\n",
    "import pymongo\n",
    "from pymongo import MongoClient\n",
    "import numpy as np\n",
    "import itertools\n",
    "import urllib\n",
    "import sys\n",
    "sys.path.append('../variables/')\n",
    "import UserActivity\n",
    "import matplotlib.pylab as pylab\n",
    "from bson.objectid import ObjectId\n",
    "from scipy.stats import gaussian_kde, ks_2samp\n",
    "\n",
    "# DB connections\n",
    "client = MongoClient()\n",
    "db = client.db_tasklog_clean\n",
    "# Collections\n",
    "User = db.user\n",
    "Log = db.log_chrome\n",
    "Labelled = db.data_labeled\n",
    "UserTasks = db.user_tasks\n",
    "\n",
    "# Tasks to be excluded\n",
    "to_exclude = ['000', '001', '002', '003', '004']\n",
    "# Pre-defined labels - excluding \"not sure (001)\"\n",
    "pre_tasks = ['001', '002', '003', '004']\n",
    "# new query \n",
    "query_events = ['tab-search-new', 'tab-search-verticle'] \n",
    "# Get user task activities\n",
    "# Set dummy parametersb\n",
    "t_thresh = -1 # Look at first X minutes, not used\n",
    "session_thresh = 30 # in minutes, threshold to consider users have left without closing the tab, not used\n",
    "to_include = [] # Not used for this computation "
   ]
  },
  {
   "cell_type": "code",
   "execution_count": 38,
   "metadata": {
    "collapsed": true
   },
   "outputs": [],
   "source": [
    "# All events\n",
    "def event_stream(data):\n",
    "    events = []\n",
    "    # data consists of tab-groups\n",
    "    for s in data:\n",
    "        tab_group = s['tab_group']\n",
    "        tabid = s['tabid']\n",
    "        # tab groups consist of url groups\n",
    "        for ug in tab_group:\n",
    "            # a group of events sharing the same url\n",
    "            url_group = ug['url_group']\n",
    "            for e in url_group:\n",
    "                events.append(e)\n",
    "    events.sort(key=lambda x: x['timestamp_bson'])\n",
    "    return events\n",
    "\n",
    "# Get logical sessions\n",
    "# Criteria for logical session:\n",
    "# 1. consecutive events belong to the same task\n",
    "# 2. a pause longer than 90 mins makes a session break (user may have left)\n",
    "# Data format: stream of events\n",
    "# Data should have already been filtered to only include event where the user is \"on\"\n",
    "# A logical session should last more than 0 seconds\n",
    "def logical_session(data):\n",
    "    L = []\n",
    "    s = []\n",
    "    prev = -1\n",
    "    for event, on in data:\n",
    "        if prev == -1:\n",
    "            prev = event\n",
    "            s.append(event)\n",
    "            continue\n",
    "        gap = (event['timestamp_bson'] - prev['timestamp_bson']).total_seconds()/60\n",
    "        # Keep adding to the logical session if conditions are satisfied\n",
    "        if prev['taskid'] == event['taskid'] and gap < 90:\n",
    "            s.append(event)\n",
    "        # Otherwise, start a new session\n",
    "        else:\n",
    "            slength = (s[-1]['timestamp_bson'] - s[0]['timestamp_bson']).total_seconds()\n",
    "            # Filter out sessions that last 0 seconds\n",
    "            if not s == [] and slength > 0:\n",
    "                L.append(s)\n",
    "            s = []\n",
    "            s.append(event)\n",
    "        prev = event\n",
    "    # Add the last session\n",
    "    slength = (s[-1]['timestamp_bson'] - s[0]['timestamp_bson']).total_seconds()\n",
    "    if not s == [] and slength > 0:\n",
    "        L.append(s)\n",
    "    return L\n",
    "    \n",
    "\n",
    "# Gether user activity data for analysis\n",
    "UA = []\n",
    "users = list(User.find({}))\n",
    "for u in users:\n",
    "    userid = u['userid']\n",
    "    data = list(Labelled.find({'userid': u['userid']}))[0]['data']\n",
    "    events = event_stream(data)\n",
    "    ua = UserActivity.UserActivity(data, to_include, t_thresh, session_thresh)\n",
    "    a_path, a_stream = ua.get_user_path()\n",
    "    \n",
    "    # filter out events where user was not on the tab\n",
    "    user_stream = list(itertools.ifilter(lambda x: x[1] == True, a_stream))\n",
    "    UA.append((userid, user_stream))"
   ]
  },
  {
   "cell_type": "markdown",
   "metadata": {},
   "source": [
    "## Example task and sessions (physical, logical, task)"
   ]
  },
  {
   "cell_type": "markdown",
   "metadata": {},
   "source": [
    "## Example tasks at different cognitive levels"
   ]
  },
  {
   "cell_type": "markdown",
   "metadata": {},
   "source": [
    "## Task content categorisation w.r.t ODP"
   ]
  },
  {
   "cell_type": "markdown",
   "metadata": {
    "collapsed": true
   },
   "source": [
    "## Task with subtasks"
   ]
  },
  {
   "cell_type": "code",
   "execution_count": 49,
   "metadata": {
    "collapsed": false
   },
   "outputs": [
    {
     "name": "stdout",
     "output_type": "stream",
     "text": [
      "Number of tasks registered (top level):  305\n",
      "Number of tasks labelled (top level):  289\n",
      "Number of labelled tasks that are registered with subtasks: 17\n",
      "Finding job [u'Checking Email']\n",
      "Accoutability Hack [u'parse XML', u'prepare back-end']\n",
      "plan vacation trip christmas [u'find out how to go from denmark to norway', u'find accommodation in oslo']\n",
      "find brownie recipe [u'needs to use only ingredients I already have']\n",
      "Check readings for Construction [u'download readings']\n",
      "Prepare for Black Friday sales [u'Buy Stand Mixer', u'Buy Shaver']\n",
      "Plan winter trip [u'Browse Train tickets']\n",
      "Tasklog user study [u'UI/logger coding', u'Analysis', u'Recruiting users', u'study design']\n",
      "Maritime arb readings [u'Ask vivien about printer, need to pay?']\n",
      "Parents visa application [u'Translation', u'Application files', u'Visa info']\n",
      "Finish logging hours for isd pay. [u'March ', u'September']\n",
      "create trailer for software platform [u'find rights-free music', u'check current applications', u'adobe premiere troubleshooting', u'check finished trailer']\n",
      "TechSoc activities [u'C programming & DSA', u'Social Network']\n",
      "writing academic article [u'finding academic papers', u'lookup words', u'looking up archived websites', u'']\n",
      "Internship applications [u'Brush-up DSA', u'Look for openings', u'Brush-up Python']\n",
      "Cook for week- rice/spag? [u'Tesco-Spaghetti, Sauce, Chicken']\n",
      "complete ad feedback data join [u'identify user ad click behavior categories', u'refactor pig script to work on grid', u'debug avro storage problem', u'check status of hadoop job']\n",
      "Number of subtasks that were used to label events: \n"
     ]
    }
   ],
   "source": [
    "def all_registered_tasks():\n",
    "    all_tasks = list(UserTasks.find({'task_level': 0}))\n",
    "    return all_tasks\n",
    "\n",
    "# Tasks that were used to label events:\n",
    "# based on logical sessions of tasks, i.e.\n",
    "# - user should be \"on\" the page\n",
    "# - a logical session of a task should be more than 0 second\n",
    "def labelled_tasks():\n",
    "    labelled_tasks = set([])\n",
    "    for userid, ua in UA:\n",
    "        L = logical_session(ua)\n",
    "        taskids = set([l[0]['taskid'] for l in L])\n",
    "        # filter out predefined and None tasks\n",
    "        taskids = taskids - set(['None'] + to_exclude)\n",
    "        labelled_tasks = labelled_tasks.union(taskids)\n",
    "    return labelled_tasks\n",
    "\n",
    "# Number of top lavel tasks that have subtasks and the top-level is used for labelling\n",
    "# And list the subtasks\n",
    "def task_hierarchy(labelled_tasks):\n",
    "    task_hier = {}\n",
    "    for t in labelled_tasks:\n",
    "        task = list(UserTasks.find({'_id': ObjectId(t)}))\n",
    "        if len(task) == 0:\n",
    "            continue\n",
    "        subtasks = list(UserTasks.find({'parent_task': t}))\n",
    "        if len(subtasks) > 0:\n",
    "            task_hier[task[0]['task']] = [s['task'] for s in subtasks]\n",
    "    return task_hier\n",
    "\n",
    "\n",
    "print \"Number of tasks registered (top level): \", len(all_registered_tasks())\n",
    "LT = labelled_tasks()\n",
    "print \"Number of tasks labelled (top level): \", len(LT)\n",
    "# Among labelled tasks, those that have subtasks\n",
    "task_hier = task_hierarchy(LT)\n",
    "print \"Number of labelled tasks that are registered with subtasks:\", len(task_hier)\n",
    "for task in task_hier:\n",
    "    print task, task_hier[task]\n",
    "    \n",
    "#print \"Number of subtasks that were used to label events: \""
   ]
  }
 ],
 "metadata": {
  "kernelspec": {
   "display_name": "Python 2",
   "language": "python",
   "name": "python2"
  },
  "language_info": {
   "codemirror_mode": {
    "name": "ipython",
    "version": 2
   },
   "file_extension": ".py",
   "mimetype": "text/x-python",
   "name": "python",
   "nbconvert_exporter": "python",
   "pygments_lexer": "ipython2",
   "version": "2.7.10"
  }
 },
 "nbformat": 4,
 "nbformat_minor": 0
}

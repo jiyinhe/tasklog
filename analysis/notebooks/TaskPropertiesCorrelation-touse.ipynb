{
 "cells": [
  {
   "cell_type": "markdown",
   "metadata": {},
   "source": [
    "## Correlation between task properties"
   ]
  },
  {
   "cell_type": "markdown",
   "metadata": {},
   "source": [
    "### Prerperation\n",
    "* Get all tasks with postQ annotation\n",
    "* Check response types of annotations"
   ]
  },
  {
   "cell_type": "code",
   "execution_count": 3,
   "metadata": {
    "collapsed": false
   },
   "outputs": [],
   "source": [
    "from IPython.display import Latex\n",
    "import pymongo\n",
    "from pymongo import MongoClient\n",
    "import numpy as np\n",
    "import itertools\n",
    "from scipy.stats import kendalltau, chi2_contingency\n",
    "\n",
    "# DB connections\n",
    "client = MongoClient()\n",
    "db = client.db_tasklog_clean\n",
    "# Collections\n",
    "User = db.user\n",
    "Log = db.log_chrome"
   ]
  },
  {
   "cell_type": "code",
   "execution_count": 4,
   "metadata": {
    "collapsed": false,
    "scrolled": true
   },
   "outputs": [
    {
     "name": "stdout",
     "output_type": "stream",
     "text": [
      "task_stage set([1, 2, 3, 4, 5])\n",
      "task_collaboration set([1, 2, 3, 4, 5])\n",
      "task_difficulty_subjective set([1, 2, 3, 4, 5])\n",
      "task_sailence_subjective set([1, 2, 3, 4, 5])\n",
      "task_urgency_subjective set([1, 2, 3, 4, 5])\n",
      "task_goals_quantity set([u'single', u'multiple'])\n",
      "task_frequency set([1, 2, 3, 4, 5])\n",
      "task_satisfaction set([2, 3, 4, 5])\n",
      "task_knowledge_topic set([1, 2, 3, 4, 5])\n",
      "task_complexity_objective set([1, 2, 3, 4, 5, 6])\n",
      "task_knowledge_procedure set([1, 2, 3, 4, 5])\n",
      "task_length set([1, 2, 3, 4, 5])\n",
      "task_complexity_subjective set([1, 2, 3, 4, 5])\n"
     ]
    }
   ],
   "source": [
    "# Get all tasks with postQ annotation\n",
    "A = {}\n",
    "bloom_map = {\n",
    "    'remember': 1,\n",
    "    'understadn': 2,\n",
    "    'apply': 3,\n",
    "    'analyse': 4,\n",
    "    'evaluate': 5,\n",
    "    'create': 6\n",
    "}\n",
    "for u in User.find({}):\n",
    "    Q = u['postQ']['questionnaire']\n",
    "    for q in Q:\n",
    "        for question in Q[q].keys():\n",
    "            answers = A.get(question, [])\n",
    "            a = Q[q][question]\n",
    "            # process bloom's taxonomy\n",
    "            if question == 'task_complexity_objective':\n",
    "                a = bloom_map[a]\n",
    "            answers.append(a)\n",
    "            A[question] = answers\n",
    "# Check for \n",
    "for q in A:\n",
    "    print q, set(A[q])\n",
    "        "
   ]
  },
  {
   "cell_type": "markdown",
   "metadata": {},
   "source": [
    "## Correlation analysis\n",
    "### 5-point scales\n",
    "* task_stage\n",
    "* task_collaboration\n",
    "* task_difficulty_subjective\n",
    "* task_sailence_subjective\n",
    "* task_urgency_subjective\n",
    "* task_frequency\n",
    "* task_satisfaction\n",
    "* task_knowledge_topic\n",
    "* task_knowledge_procedure\n",
    "* task_complexity_subjective\n",
    "\n",
    "### Nominal \n",
    "* task_goals_quantity (single, multiple)\n",
    "* task_complexity_objective (remember, understadn, apply, analyse, evaluate, create)\n"
   ]
  },
  {
   "cell_type": "markdown",
   "metadata": {},
   "source": [
    "### Correlation between 5-point scale properties\n",
    "* Data points: 91\n",
    "* Methods:  kendal's tau rank correlation"
   ]
  },
  {
   "cell_type": "code",
   "execution_count": 5,
   "metadata": {
    "collapsed": false
   },
   "outputs": [
    {
     "name": "stdout",
     "output_type": "stream",
     "text": [
      "\\begin{table}\n",
      "\\begin{tabular}{ l l l l l l l l l l l l l }\n",
      "&stage & collaboration & difficulty subjective & sailence subjective & urgency subjective & frequency & satisfaction & knowledge topic & complexity objective & knowledge procedure & length & complexity subjective\\\\\n",
      "stage & -- & \\textbf{ -0.14* } & -0.14 & 0.05 & \\textbf{ 0.30** } & 0.01 & 0.09 & 0.04 & \\textbf{ -0.15* } & 0.08 & \\textbf{ -0.43** } & -0.14 \\\\\n",
      "collaboration & -- & -- & 0.11 & \\textbf{ -0.16* } & -0.12 & -0.02 & 0.01 & -0.06 & 0.05 & \\textbf{ -0.33** } & \\textbf{ 0.24** } & \\textbf{ 0.21** } \\\\\n",
      "difficulty subjective & -- & -- & -- & \\textbf{ 0.26** } & 0.02 & -0.01 & \\textbf{ -0.28** } & \\textbf{ -0.20** } & \\textbf{ 0.54** } & \\textbf{ -0.31** } & \\textbf{ 0.45** } & \\textbf{ 0.66** } \\\\\n",
      "sailence subjective & -- & -- & -- & -- & \\textbf{ 0.49** } & 0.14 & 0.06 & 0.04 & \\textbf{ 0.32** } & -0.05 & 0.14 & \\textbf{ 0.36** } \\\\\n",
      "urgency subjective & -- & -- & -- & -- & -- & 0.06 & 0.10 & 0.00 & 0.08 & -0.00 & -0.01 & \\textbf{ 0.14* } \\\\\n",
      "frequency & -- & -- & -- & -- & -- & -- & 0.14 & \\textbf{ 0.22** } & -0.04 & 0.05 & -0.02 & -0.04 \\\\\n",
      "satisfaction & -- & -- & -- & -- & -- & -- & -- & \\textbf{ 0.30** } & \\textbf{ -0.22** } & \\textbf{ 0.29** } & -0.08 & \\textbf{ -0.30** } \\\\\n",
      "knowledge topic & -- & -- & -- & -- & -- & -- & -- & -- & -0.12 & \\textbf{ 0.46** } & \\textbf{ -0.16* } & \\textbf{ -0.22** } \\\\\n",
      "complexity objective & -- & -- & -- & -- & -- & -- & -- & -- & -- & \\textbf{ -0.17* } & \\textbf{ 0.48** } & \\textbf{ 0.49** } \\\\\n",
      "knowledge procedure & -- & -- & -- & -- & -- & -- & -- & -- & -- & -- & \\textbf{ -0.20** } & \\textbf{ -0.36** } \\\\\n",
      "length & -- & -- & -- & -- & -- & -- & -- & -- & -- & -- & -- & \\textbf{ 0.43** } \\\\\n",
      "complexity subjective & -- & -- & -- & -- & -- & -- & -- & -- & -- & -- & -- & -- \\\\\n",
      "\\end{tabular}\n",
      "\\end{table}\n"
     ]
    }
   ],
   "source": [
    "keys = []\n",
    "for k in A:\n",
    "    if not k in ['task_goals_quantity']:\n",
    "        keys.append(k)\n",
    "\n",
    "corr = []\n",
    "# latex output\n",
    "print '\\\\begin{table}'\n",
    "print'\\\\begin{tabular}{',\n",
    "for i in range(len(keys)+1):\n",
    "    print 'l',\n",
    "print '}'\n",
    "print '&' + ' & '.join([k.replace('task_', '').replace('_', ' ') for k in keys]) + '\\\\\\\\'\n",
    "for k1 in range(len(keys)):\n",
    "    print keys[k1].replace('task_', '').replace('_', ' '),\n",
    "    for k2 in range(len(keys)):\n",
    "        if k1 < k2:\n",
    "            t, p = kendalltau(A[keys[k1]], A[keys[k2]])\n",
    "            corr.append((keys[k1], keys[k2], t, p))\n",
    "            print '&', \n",
    "            sign = ''\n",
    "            if p < 0.05:\n",
    "                print '\\\\textbf{', \n",
    "                sign = '*'\n",
    "            if p < 0.01:\n",
    "                sign = '**'\n",
    "            print '%.2f'%t + sign, \n",
    "            #'(%.2f'%p + ')',\n",
    "            if p < 0.05:\n",
    "                print '}',\n",
    "        else:\n",
    "            print '& --',\n",
    "    print '\\\\\\\\'        \n",
    "print '\\\\end{tabular}'\n",
    "print '\\\\end{table}'\n"
   ]
  },
  {
   "cell_type": "markdown",
   "metadata": {},
   "source": [
    "### Significant correlations found between ordinal variables"
   ]
  },
  {
   "cell_type": "code",
   "execution_count": 6,
   "metadata": {
    "collapsed": false
   },
   "outputs": [
    {
     "name": "stdout",
     "output_type": "stream",
     "text": [
      "Negative correlations:\n",
      "\n",
      "task_stage -- task_collaboration \t-0.14 0.049\n",
      "task_stage -- task_complexity_objective \t-0.15 0.038\n",
      "task_stage -- task_length \t-0.43 0.000\n",
      "task_collaboration -- task_sailence_subjective \t-0.16 0.026\n",
      "task_collaboration -- task_knowledge_procedure \t-0.33 0.000\n",
      "task_difficulty_subjective -- task_satisfaction \t-0.28 0.000\n",
      "task_difficulty_subjective -- task_knowledge_topic \t-0.20 0.006\n",
      "task_difficulty_subjective -- task_knowledge_procedure \t-0.31 0.000\n",
      "task_satisfaction -- task_complexity_objective \t-0.22 0.002\n",
      "task_satisfaction -- task_complexity_subjective \t-0.30 0.000\n",
      "task_knowledge_topic -- task_length \t-0.16 0.021\n",
      "task_knowledge_topic -- task_complexity_subjective \t-0.22 0.002\n",
      "task_complexity_objective -- task_knowledge_procedure \t-0.17 0.018\n",
      "task_knowledge_procedure -- task_length \t-0.20 0.004\n",
      "task_knowledge_procedure -- task_complexity_subjective \t-0.36 0.000\n",
      "\n",
      "Positive correlations:\n",
      "\n",
      "task_stage -- task_urgency_subjective \t0.30 0.000\n",
      "task_collaboration -- task_length \t0.24 0.001\n",
      "task_collaboration -- task_complexity_subjective \t0.21 0.003\n",
      "task_difficulty_subjective -- task_sailence_subjective \t0.26 0.000\n",
      "task_difficulty_subjective -- task_complexity_objective \t0.54 0.000\n",
      "task_difficulty_subjective -- task_length \t0.45 0.000\n",
      "task_difficulty_subjective -- task_complexity_subjective \t0.66 0.000\n",
      "task_sailence_subjective -- task_urgency_subjective \t0.49 0.000\n",
      "task_sailence_subjective -- task_complexity_objective \t0.32 0.000\n",
      "task_sailence_subjective -- task_complexity_subjective \t0.36 0.000\n",
      "task_urgency_subjective -- task_complexity_subjective \t0.14 0.050\n",
      "task_frequency -- task_knowledge_topic \t0.22 0.002\n",
      "task_satisfaction -- task_knowledge_topic \t0.30 0.000\n",
      "task_satisfaction -- task_knowledge_procedure \t0.29 0.000\n",
      "task_knowledge_topic -- task_knowledge_procedure \t0.46 0.000\n",
      "task_complexity_objective -- task_length \t0.48 0.000\n",
      "task_complexity_objective -- task_complexity_subjective \t0.49 0.000\n",
      "task_length -- task_complexity_subjective \t0.43 0.000\n"
     ]
    }
   ],
   "source": [
    "print 'Negative correlations:'\n",
    "print\n",
    "for c in itertools.ifilter(lambda x: x[3]<0.05 and x[2]<0, corr):\n",
    "    print c[0], '--', c[1], '\\t', '%.2f'%c[2], '%.3f'%c[3]\n",
    "print \n",
    "print 'Positive correlations:'\n",
    "print\n",
    "for c in itertools.ifilter(lambda x: x[3]<0.05 and x[2]>0, corr):\n",
    "    print c[0], '--', c[1], '\\t', '%.2f'%c[2], '%.3f'%c[3]"
   ]
  },
  {
   "cell_type": "markdown",
   "metadata": {},
   "source": [
    "### Chi-square test between nominal and ordinal variables\n",
    "* Group 1-2, 3, 4-5 as different levels for the ordinal variables\n",
    "* Check if each cell has 5 or more instances"
   ]
  },
  {
   "cell_type": "code",
   "execution_count": 97,
   "metadata": {
    "collapsed": false
   },
   "outputs": [
    {
     "name": "stdout",
     "output_type": "stream",
     "text": [
      "task_stage\n",
      "(u'multiple', 'high') 25\n",
      "(u'multiple', 'low') 10\n",
      "(u'multiple', 'mid') 12\n",
      "(u'single', 'high') 31\n",
      "(u'single', 'low') 10\n",
      "(u'single', 'mid') 3\n",
      "\n",
      "task_collaboration\n",
      "(u'multiple', 'high') 16\n",
      "(u'multiple', 'low') 23\n",
      "(u'multiple', 'mid') 8\n",
      "(u'single', 'high') 7\n",
      "(u'single', 'low') 37\n",
      "\n",
      "task_difficulty_subjective\n",
      "(u'multiple', 'high') 21\n",
      "(u'multiple', 'low') 14\n",
      "(u'multiple', 'mid') 12\n",
      "(u'single', 'high') 10\n",
      "(u'single', 'low') 27\n",
      "(u'single', 'mid') 7\n",
      "\n",
      "task_sailence_subjective\n",
      "(u'multiple', 'high') 31\n",
      "(u'multiple', 'low') 6\n",
      "(u'multiple', 'mid') 10\n",
      "(u'single', 'high') 26\n",
      "(u'single', 'low') 11\n",
      "(u'single', 'mid') 7\n",
      "\n",
      "task_urgency_subjective\n",
      "(u'multiple', 'high') 26\n",
      "(u'multiple', 'low') 11\n",
      "(u'multiple', 'mid') 10\n",
      "(u'single', 'high') 26\n",
      "(u'single', 'low') 12\n",
      "(u'single', 'mid') 6\n",
      "\n",
      "task_frequency\n",
      "(u'multiple', 'high') 19\n",
      "(u'multiple', 'low') 23\n",
      "(u'multiple', 'mid') 5\n",
      "(u'single', 'high') 15\n",
      "(u'single', 'low') 18\n",
      "(u'single', 'mid') 11\n",
      "\n",
      "task_satisfaction\n",
      "(u'multiple', 'high') 27\n",
      "(u'multiple', 'low') 3\n",
      "(u'multiple', 'mid') 17\n",
      "(u'single', 'high') 34\n",
      "(u'single', 'low') 3\n",
      "(u'single', 'mid') 7\n",
      "\n",
      "task_knowledge_topic\n",
      "(u'multiple', 'high') 19\n",
      "(u'multiple', 'low') 10\n",
      "(u'multiple', 'mid') 18\n",
      "(u'single', 'high') 26\n",
      "(u'single', 'low') 9\n",
      "(u'single', 'mid') 9\n",
      "\n",
      "task_knowledge_procedure\n",
      "(u'multiple', 'high') 31\n",
      "(u'multiple', 'low') 3\n",
      "(u'multiple', 'mid') 13\n",
      "(u'single', 'high') 36\n",
      "(u'single', 'low') 4\n",
      "(u'single', 'mid') 4\n",
      "\n",
      "task_length\n",
      "(u'multiple', 'high') 17\n",
      "(u'multiple', 'low') 11\n",
      "(u'multiple', 'mid') 19\n",
      "(u'single', 'high') 3\n",
      "(u'single', 'low') 34\n",
      "(u'single', 'mid') 7\n",
      "\n",
      "task_complexity_subjective\n",
      "(u'multiple', 'high') 27\n",
      "(u'multiple', 'low') 15\n",
      "(u'multiple', 'mid') 5\n",
      "(u'single', 'high') 7\n",
      "(u'single', 'low') 26\n",
      "(u'single', 'mid') 11\n",
      "\n"
     ]
    }
   ],
   "source": [
    "bloom = A['task_complexity_objective']\n",
    "subgoals = A['task_goals_quantity']\n",
    "\n",
    "# group points scales into 3 levels\n",
    "# 1-2, 3, 4-5\n",
    "def group_points_3(points):\n",
    "    P = []\n",
    "    for p in points:\n",
    "        if p < 3:\n",
    "            P.append('low')\n",
    "        elif p == 3:\n",
    "            P.append('mid')\n",
    "        elif p > 3:\n",
    "            P.append('high')\n",
    "    return P\n",
    "    \n",
    "# group points scales into 2 levels\n",
    "# 1-3, 4-5\n",
    "def group_points_2(points):\n",
    "    P = []\n",
    "    for p in points:\n",
    "        if p <= 3:\n",
    "            P.append('low')\n",
    "        elif p > 3:\n",
    "            P.append('high')\n",
    "    return P   \n",
    "\n",
    "# Check cell size for each variable\n",
    "for k in keys:\n",
    "    answers_3level = group_points_3(A[k])\n",
    "    answers_2level = group_points_2(A[k])\n",
    "    cells = {}\n",
    "    print k\n",
    "    for i in range(len(answers)):\n",
    "        cells[(subgoals[i], answers_3level[i])] = cells.get((subgoals[i], answers_3level[i]), 0) + 1\n",
    "    for c in sorted(cells.keys()):\n",
    "        print c, cells[c]\n",
    "    print\n",
    "        \n",
    "\n"
   ]
  },
  {
   "cell_type": "markdown",
   "metadata": {},
   "source": [
    "### bloom's taxonomy as ordinal variable"
   ]
  },
  {
   "cell_type": "code",
   "execution_count": 80,
   "metadata": {
    "collapsed": false
   },
   "outputs": [
    {
     "name": "stdout",
     "output_type": "stream",
     "text": [
      "cognitive complexity vs. \n",
      "\ttask_stage -0.15 0.04\n",
      "\ttask_difficulty_subjective 0.54 0.00\n",
      "\ttask_sailence_subjective 0.32 0.00\n",
      "\ttask_satisfaction -0.22 0.00\n",
      "\ttask_knowledge_procedure -0.17 0.02\n",
      "\ttask_length 0.48 0.00\n",
      "\ttask_complexity_subjective 0.49 0.00\n"
     ]
    }
   ],
   "source": [
    "bloom_map = {\n",
    "    'remember': 1,\n",
    "    'understadn': 2,\n",
    "    'apply': 3,\n",
    "    'analyse': 4,\n",
    "    'evaluate': 5,\n",
    "    'create': 6\n",
    "}\n",
    "print 'cognitive complexity vs. '\n",
    "for k in keys:\n",
    "    a = [bloom_map[x] for x in A['task_complexity_objective']]\n",
    "    t, p = kendalltau(A[k], a)\n",
    "    if p < 0.05:\n",
    "        print '\\t', k, '%.2f'%t, '%.2f'%p"
   ]
  },
  {
   "cell_type": "markdown",
   "metadata": {},
   "source": [
    "### Chi-square for subgoal quantity\n"
   ]
  },
  {
   "cell_type": "code",
   "execution_count": 95,
   "metadata": {
    "collapsed": false
   },
   "outputs": [
    {
     "name": "stdout",
     "output_type": "stream",
     "text": [
      "Significant effects found:\n",
      "With or without sub-tasks vs. \n",
      "\ttask_collaboration 10.99 0.00\n",
      "\ttask_difficulty_subjective 7.92 0.00\n",
      "\ttask_length 24.27 0.00\n",
      "\ttask_complexity_subjective 5.73 0.02\n"
     ]
    }
   ],
   "source": [
    "# 2x2 contingency table\n",
    "# single, multiple x low, high\n",
    "# Loop over ordinal variables\n",
    "answer_subgoal = A['task_goals_quantity']\n",
    "row_map = {'single': 0, 'multiple': 1}\n",
    "col_map = {'low': 0, 'high': 1}\n",
    "\n",
    "print 'Significant effects found:'\n",
    "print 'With or without sub-tasks vs. '\n",
    "for k in keys:\n",
    "    data = [[0, 0], [0, 0]]\n",
    "    answers_2level = group_points_2(A[k])\n",
    "    for i in range(len(answer_subgoal)):\n",
    "        idx_row = row_map[answer_subgoal[i]]\n",
    "        idx_col = col_map[answers_2level[i]]\n",
    "        data[idx_row][idx_col] += 1\n",
    "    chi2, p, dof, ex = chi2_contingency(np.array(data))\n",
    "    \n",
    "    if p < 0.05:\n",
    "        print '\\t', k, '%.2f'%chi2, '%.2f'%p\n",
    "   "
   ]
  },
  {
   "cell_type": "markdown",
   "metadata": {},
   "source": [
    "## Given the correlation between task properties, check if tasks can be described with less features (properties)\n",
    "* PCA"
   ]
  }
 ],
 "metadata": {
  "kernelspec": {
   "display_name": "Python 2",
   "language": "python",
   "name": "python2"
  },
  "language_info": {
   "codemirror_mode": {
    "name": "ipython",
    "version": 2
   },
   "file_extension": ".py",
   "mimetype": "text/x-python",
   "name": "python",
   "nbconvert_exporter": "python",
   "pygments_lexer": "ipython2",
   "version": "2.7.10"
  }
 },
 "nbformat": 4,
 "nbformat_minor": 0
}

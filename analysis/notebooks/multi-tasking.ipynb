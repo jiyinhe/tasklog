{
 "cells": [
  {
   "cell_type": "markdown",
   "metadata": {},
   "source": [
    "# Exploring multi-tasking behaviour of users\n",
    "\n",
    "## This is not the final version multi-tasking: it doesn't consider time-out between "
   ]
  },
  {
   "cell_type": "code",
   "execution_count": 17,
   "metadata": {
    "collapsed": false
   },
   "outputs": [],
   "source": [
    "%matplotlib inline\n",
    "import pymongo\n",
    "from pymongo import MongoClient\n",
    "from bson.objectid import ObjectId\n",
    "from datetime import datetime\n",
    "import itertools\n",
    "import re\n",
    "import matplotlib.pylab as pylab\n",
    "import numpy as np\n",
    "from scipy import percentile\n",
    "from scipy.stats import pearsonr, kendalltau\n",
    "\n",
    "# DB connection to localhost\n",
    "client = MongoClient()\n",
    "# Get DB\n",
    "db = client.db_tasklog_clean\n",
    "# collection to store new data that contains task labels\n",
    "# Note: only top-level task labels are used\n",
    "DataLabeled = db.data_labeled\n",
    "Users = db.user\n",
    "\n",
    "users = Users.find({})"
   ]
  },
  {
   "cell_type": "markdown",
   "metadata": {},
   "source": [
    "## Prepare data\n",
    "* Filter out event segments that last less than 1 second (most likely it's a segment of automatic events)"
   ]
  },
  {
   "cell_type": "code",
   "execution_count": 18,
   "metadata": {
    "collapsed": false
   },
   "outputs": [],
   "source": [
    "D = []\n",
    "for u in users:\n",
    "    data = list(DataLabeled.find({'userid': u['userid']}))[0]['data']\n",
    "    events = []\n",
    "    for s in data:\n",
    "        tab_group = s['tab_group']\n",
    "        tabid = s['tabid']\n",
    "        for ug in tab_group:\n",
    "            # a group of events sharing the same url\n",
    "            url_group = ug['url_group']\n",
    "            # If the whole group takes less than 1 second, then it's likely that\n",
    "            # that are all automatic events\n",
    "            #time = (url_group[-1]['timestamp_bson'] - url_group[0]['timestamp_bson']).total_seconds()\n",
    "            #if time > 1:\n",
    "                #print [(e['taskid'], e['event']) for e in url_group], time\n",
    "                \n",
    "            # postpone this check to counting interruptions, as if we remove them now we may miss \n",
    "            # continuous events of tasks\n",
    "            for e in url_group:\n",
    "                events.append(e)\n",
    "    D.append((u['userid'], events))\n"
   ]
  },
  {
   "cell_type": "markdown",
   "metadata": {},
   "source": [
    "## Check the duration of sessions (is dividing sessions in terms of inactivity time between events reasonable?)\n",
    "* session: x mins of tab inactivity\n",
    "* x = 15, 30, 60\n",
    "\n",
    "### Conclusion:\n",
    "* Duration of sessions can vary a lot. It is perhpas not fair to say that a person does 3 tasks in a 2-hour long session is more multi-tasking than a person does 1 task in a 15 mins session. \n",
    "* Depending on the threshold, the duration of sessions can vary, but in general the relative level of multi-tasking of users are similar.  \n",
    "* High correlation between number of tasks a uesr performs and his/her multi-tasking level: questionable validity of the measure."
   ]
  },
  {
   "cell_type": "code",
   "execution_count": 19,
   "metadata": {
    "collapsed": false
   },
   "outputs": [
    {
     "name": "stdout",
     "output_type": "stream",
     "text": [
      "Threshold for session: 15 min\n",
      "['1.6', '6.2', '0.5', '2.4', '2.7', '3.5', '1.9', '3.5', '5.1', '1.4', '2.9', '7.7', '1.5', '0.7', '0.8', '2.3', '2.5', '3.5', '4.4', '3.5', '1.4', '3.4', '2.6']\n",
      "r=0.61 p-value=0.00 tau=0.40 p-value=0.01\n",
      "\n",
      "Threshold for session: 30 min\n",
      "['2.1', '7.6', '0.6', '2.5', '3.7', '4.1', '2.5', '4.0', '6.6', '1.9', '4.0', '8.8', '1.5', '0.9', '1.0', '3.0', '2.9', '3.7', '4.8', '4.5', '1.7', '4.6', '3.2']\n",
      "r=0.61 p-value=0.00 tau=0.39 p-value=0.01\n",
      "\n",
      "Threshold for session: 60 min\n",
      "['2.4', '7.8', '0.8', '3.0', '5.7', '4.4', '2.9', '3.9', '8.0', '2.4', '5.6', '9.7', '1.8', '1.2', '1.2', '4.1', '3.5', '4.2', '5.2', '4.6', '1.9', '4.9', '4.3']\n",
      "r=0.65 p-value=0.00 tau=0.42 p-value=0.01\n",
      "\n"
     ]
    },
    {
     "data": {
      "text/plain": [
       "([array([ 767.,   34.,   14.,    5.,    1.,    0.,    0.,    0.,    0.,    0.]),\n",
       "  array([ 454.,   51.,   18.,    7.,    2.,    1.,    1.,    0.,    0.,    1.]),\n",
       "  array([ 238.,   59.,   30.,   17.,    6.,    3.,    1.,    0.,    0.,    2.])],\n",
       " array([   0.        ,   98.03804167,  196.07608333,  294.114125  ,\n",
       "         392.15216667,  490.19020833,  588.22825   ,  686.26629167,\n",
       "         784.30433333,  882.342375  ,  980.38041667]),\n",
       " <a list of 3 Lists of Patches objects>)"
      ]
     },
     "execution_count": 19,
     "metadata": {},
     "output_type": "execute_result"
    },
    {
     "data": {
      "image/png": "[encoded data removed]",
      "text/plain": [
       "<matplotlib.figure.Figure at 0x120636f50>"
      ]
     },
     "metadata": {},
     "output_type": "display_data"
    }
   ],
   "source": [
    "X = []\n",
    "for thresh in [15, 30, 60]:\n",
    "    duration = []\n",
    "    M = []\n",
    "    # For getting the number of tasks user has performed\n",
    "    T = []\n",
    "    for uid, data in D:\n",
    "        # devide event sequence into sessions\n",
    "        sessions = []\n",
    "        session = [data[0]]\n",
    "        tasks = list(set([e['taskid'] for e in data]))\n",
    "        T.append(len(tasks))\n",
    "        i = 0\n",
    "        for e in data:\n",
    "            if i > 0:\n",
    "                time = (e['timestamp_bson'] - data[i-1]['timestamp_bson']).total_seconds()/60\n",
    "                # If inactivity > threshold, start a new session\n",
    "                if time > thresh:\n",
    "                    session_length = (session[-1]['timestamp_bson'] - session[0]['timestamp_bson']).total_seconds()/60\n",
    "                    duration.append(session_length)\n",
    "                    #if session_length == 0:\n",
    "                    #    print [s['event'] for s in session]\n",
    "                    sessions.append(session)\n",
    "                    session = []\n",
    "                session.append(e)\n",
    "            i += 1\n",
    "            # Get number of tasks per session\n",
    "        counts = ([len(set([e['taskid'] for e in session]) - set(['None'])) for session in sessions])\n",
    "        M.append(np.mean(counts))\n",
    "    print 'Threshold for session: %s min'%thresh\n",
    "    print ['%.1f'%m for m in M]    \n",
    "    # Check duration of sessions\n",
    "    X.append(duration)\n",
    "    # Check if there is a correlation bewteen M and T\n",
    "    corr, p = pearsonr(M, T)\n",
    "    tau, p2 = kendalltau(M, T)\n",
    "    print 'r=%.2f'%corr, 'p-value=%.2f'%p, 'tau=%.2f'%tau, 'p-value=%.2f'%p2\n",
    "    print\n",
    "\n",
    "pylab.hist(X, 10)\n",
    "#    pylab.title('Inactivity threshold: %s mins'%thresh)\n",
    "\n",
    "#for i in range(len(X)):\n",
    "#    print percentile(X[i], 25), percentile(X[i], 75)\n"
   ]
  },
  {
   "cell_type": "markdown",
   "metadata": {},
   "source": [
    "## How to measure multi-tasking? How about from the perspective of completing a single task?\n",
    "\n",
    "* A task is interupted by other tasks, i.e., the user would come back to a task after switching to another task\n",
    "* The frequency of this interupt within a certain period (e.g., during a day, 2 hours, etc)\n",
    "\n",
    "### Observation:\n",
    "* large difference between average number of interruptions (user difference)\n",
    "* large standard deviation (difference between tasks)"
   ]
  },
  {
   "cell_type": "code",
   "execution_count": 20,
   "metadata": {
    "collapsed": false,
    "scrolled": true
   },
   "outputs": [
    {
     "name": "stdout",
     "output_type": "stream",
     "text": [
      "Within a 30 mins period: interruption gap: 1 sec\n",
      "['1.7', '13.2', '2.8', '15.3', '24.1', '11.4', '7.4', '24.1', '15.7', '8.2', '20.8', '97.4', '1.9', '2.0', '1.0', '3.3', '3.0', '7.2', '13.3', '27.5', '1.6', '31.2', '5.2']\n",
      "['2.1', '23.1', '3.3', '17.0', '34.4', '12.1', '8.9', '24.7', '23.9', '9.7', '28.6', '130.7', '1.8', '2.8', '1.0', '5.0', '4.2', '9.8', '19.3', '21.2', '1.9', '28.1', '7.2']\n",
      "Within a 30 mins period: interruption gap: 5 sec\n",
      "['1.2', '11.1', '2.8', '13.2', '23.8', '11.0', '6.4', '20.5', '15.1', '7.7', '18.5', '82.2', '1.8', '2.0', '1.0', '3.2', '2.4', '6.5', '11.9', '24.6', '1.5', '29.6', '5.0']\n",
      "['1.9', '18.7', '3.3', '14.9', '33.8', '11.6', '7.3', '21.7', '22.9', '9.5', '25.6', '110.1', '1.6', '2.8', '1.0', '5.0', '3.5', '8.3', '16.6', '19.2', '1.7', '27.0', '7.1']\n",
      "Within a 30 mins period: interruption gap: 10 sec\n",
      "['1.2', '10.3', '2.8', '12.3', '22.7', '10.0', '5.6', '19.6', '14.2', '7.2', '17.2', '73.5', '1.4', '1.8', '1.0', '3.1', '2.4', '6.0', '11.2', '21.8', '1.5', '28.4', '4.9']\n",
      "['1.9', '17.3', '3.3', '13.5', '31.5', '10.2', '6.2', '21.1', '20.7', '8.7', '25.0', '97.4', '1.3', '2.4', '1.0', '5.0', '3.5', '7.8', '16.3', '17.6', '1.7', '25.8', '6.9']\n",
      "Within a 30 mins period: interruption gap: 20 sec\n",
      "['1.2', '9.5', '2.5', '11.5', '21.2', '8.8', '4.6', '18.4', '13.2', '6.5', '15.9', '63.5', '1.4', '1.8', '0.5', '2.9', '2.3', '5.5', '10.4', '18.4', '1.4', '26.8', '4.4']\n",
      "['1.9', '15.6', '2.6', '13.2', '28.9', '8.6', '4.7', '20.2', '18.3', '7.7', '23.5', '82.3', '1.3', '2.4', '0.5', '4.5', '3.5', '7.4', '14.5', '15.1', '1.7', '24.7', '6.0']\n",
      "Within a 30 mins period: interruption gap: 30 sec\n",
      "['1.0', '8.9', '2.2', '11.0', '19.7', '7.2', '4.4', '16.8', '12.2', '6.2', '14.3', '57.5', '1.3', '1.8', '0.5', '2.7', '2.3', '5.2', '9.4', '16.6', '1.1', '25.4', '3.9']\n",
      "['1.8', '14.6', '2.3', '12.8', '26.8', '7.2', '4.3', '18.2', '15.9', '7.4', '21.5', '73.1', '1.3', '2.4', '0.5', '4.0', '3.5', '7.1', '12.9', '13.0', '1.6', '23.7', '5.3']\n",
      "Within a 60 mins period: interruption gap: 1 sec\n",
      "['1.7', '13.2', '2.9', '15.3', '24.1', '11.4', '7.8', '24.1', '15.7', '8.2', '20.8', '97.4', '1.9', '2.0', '1.0', '3.3', '3.0', '7.3', '13.4', '27.5', '1.6', '31.3', '5.2']\n",
      "['2.1', '23.1', '3.3', '17.0', '34.4', '12.1', '9.3', '24.7', '24.0', '9.7', '28.6', '130.7', '1.8', '2.8', '1.0', '5.0', '4.2', '9.9', '19.5', '21.2', '1.9', '28.1', '7.2']\n",
      "Within a 60 mins period: interruption gap: 5 sec\n",
      "['1.2', '11.1', '2.9', '13.2', '23.8', '11.0', '6.8', '20.5', '15.1', '7.7', '18.5', '82.2', '1.8', '2.0', '1.0', '3.2', '2.4', '6.5', '11.9', '24.6', '1.5', '29.8', '5.0']\n",
      "['1.9', '18.7', '3.3', '14.9', '33.8', '11.6', '7.8', '21.7', '22.9', '9.5', '25.6', '110.1', '1.6', '2.8', '1.0', '5.0', '3.5', '8.3', '16.8', '19.2', '1.7', '27.0', '7.1']\n",
      "Within a 60 mins period: interruption gap: 10 sec\n",
      "['1.2', '10.3', '2.9', '12.3', '22.7', '10.0', '6.0', '19.6', '14.3', '7.2', '17.2', '73.5', '1.4', '1.8', '1.0', '3.1', '2.4', '6.0', '11.3', '21.8', '1.5', '28.6', '4.9']\n",
      "['1.9', '17.3', '3.3', '13.5', '31.5', '10.2', '6.6', '21.1', '20.8', '8.7', '25.0', '97.4', '1.3', '2.4', '1.0', '5.0', '3.5', '7.8', '16.5', '17.6', '1.7', '25.8', '6.9']\n",
      "Within a 60 mins period: interruption gap: 20 sec\n",
      "['1.2', '9.5', '2.5', '11.5', '21.2', '8.8', '5.0', '18.4', '13.2', '6.5', '15.9', '63.5', '1.4', '1.8', '0.5', '2.9', '2.4', '5.6', '10.5', '18.4', '1.4', '27.0', '4.4']\n",
      "['1.9', '15.6', '2.6', '13.2', '28.9', '8.6', '5.1', '20.2', '18.4', '7.7', '23.5', '82.3', '1.3', '2.4', '0.5', '4.5', '3.5', '7.3', '14.7', '15.1', '1.7', '24.7', '6.0']\n",
      "Within a 60 mins period: interruption gap: 30 sec\n",
      "['1.0', '8.9', '2.3', '11.0', '19.7', '7.2', '4.8', '16.8', '12.2', '6.2', '14.3', '57.5', '1.3', '1.8', '0.5', '2.7', '2.4', '5.3', '9.4', '16.6', '1.1', '25.6', '3.9']\n",
      "['1.8', '14.6', '2.4', '12.8', '26.8', '7.2', '4.7', '18.2', '16.0', '7.4', '21.5', '73.1', '1.3', '2.4', '0.5', '4.0', '3.5', '7.1', '12.9', '13.0', '1.6', '23.7', '5.3']\n",
      "Within a 120 mins period: interruption gap: 1 sec\n",
      "['1.7', '13.2', '2.9', '15.3', '24.1', '11.4', '7.8', '24.1', '15.8', '8.2', '20.8', '97.4', '1.9', '2.0', '1.0', '3.3', '3.0', '7.3', '13.4', '27.5', '1.6', '31.4', '5.2']\n",
      "['2.1', '23.1', '3.3', '17.0', '34.4', '12.1', '9.3', '24.7', '24.1', '9.7', '28.6', '130.7', '1.8', '2.8', '1.0', '5.0', '4.4', '9.9', '19.5', '21.2', '1.9', '28.3', '7.2']\n",
      "Within a 120 mins period: interruption gap: 5 sec\n",
      "['1.2', '11.1', '2.9', '13.2', '23.8', '11.0', '6.8', '20.5', '15.2', '7.7', '18.5', '82.2', '1.8', '2.0', '1.0', '3.2', '2.5', '6.5', '12.0', '24.6', '1.5', '29.8', '5.0']\n",
      "['1.9', '18.7', '3.3', '14.9', '33.8', '11.6', '7.8', '21.7', '23.1', '9.5', '25.6', '110.1', '1.6', '2.8', '1.0', '5.0', '3.7', '8.3', '16.8', '19.2', '1.7', '27.2', '7.1']\n",
      "Within a 120 mins period: interruption gap: 10 sec\n",
      "['1.2', '10.3', '2.9', '12.3', '22.7', '10.0', '6.0', '19.6', '14.3', '7.2', '17.2', '73.5', '1.4', '1.8', '1.0', '3.1', '2.5', '6.0', '11.3', '21.8', '1.5', '28.7', '4.9']\n",
      "['1.9', '17.3', '3.3', '13.5', '31.5', '10.2', '6.6', '21.1', '20.9', '8.7', '25.0', '97.4', '1.3', '2.4', '1.0', '5.0', '3.7', '7.8', '16.5', '17.6', '1.7', '26.0', '6.9']\n",
      "Within a 120 mins period: interruption gap: 20 sec\n",
      "['1.2', '9.5', '2.5', '11.5', '21.2', '8.8', '5.0', '18.4', '13.2', '6.5', '15.9', '63.5', '1.4', '1.8', '0.5', '2.9', '2.4', '5.6', '10.5', '18.4', '1.4', '27.1', '4.4']\n",
      "['1.9', '15.6', '2.6', '13.2', '28.9', '8.6', '5.1', '20.2', '18.5', '7.7', '23.5', '82.3', '1.3', '2.4', '0.5', '4.5', '3.7', '7.3', '14.7', '15.1', '1.7', '24.9', '6.0']\n",
      "Within a 120 mins period: interruption gap: 30 sec\n",
      "['1.0', '8.9', '2.3', '11.0', '19.7', '7.2', '4.8', '16.8', '12.2', '6.2', '14.3', '57.5', '1.3', '1.8', '0.5', '2.7', '2.4', '5.3', '9.4', '16.6', '1.1', '25.7', '3.9']\n",
      "['1.8', '14.6', '2.4', '12.8', '26.8', '7.2', '4.7', '18.2', '16.2', '7.4', '21.5', '73.1', '1.3', '2.4', '0.5', '4.0', '3.7', '7.1', '12.9', '13.0', '1.6', '23.9', '5.3']\n"
     ]
    }
   ],
   "source": [
    "# Group events by fixed time period: 30 mins, 60 mins, 120 mins\n",
    "def count_interrupt(period, gap_thresh, data):\n",
    "    # Get all tasks a user has done excluding None\n",
    "    tasks = list(set([e['taskid'] for e in data]))\n",
    "    # Get the duration of each task: so that we know if a task is interrupted (come back to the task) \n",
    "    # or finished (does not come back to the task)\n",
    "    ending_time = {}\n",
    "    for t in tasks:\n",
    "        events = itertools.ifilter(lambda x: x['taskid'] == t, data)\n",
    "        ending_time[t] = max([e['timestamp_bson'] for e in events])\n",
    "        \n",
    "    interrupt = dict([(t, 0) for t in tasks])\n",
    "\n",
    "    task_sessions = dict([(t, []) for t in tasks])\n",
    "    current_task = data[0]['taskid']\n",
    "    session = [data[0]]\n",
    "    for e in data[1:]:\n",
    "        if not e['taskid'] == current_task:\n",
    "            # If the next task is None, ignore the interruption\n",
    "            if not (e['taskid'] in ['None'] or session == []):\n",
    "                tmp = task_sessions.get(current_task, [])\n",
    "                tmp.append(session)   \n",
    "                task_sessions[current_task] = tmp\n",
    "            current_task = e['taskid']\n",
    "            session = []\n",
    "        # If the current event belongs to None task, don't add it    \n",
    "        if not current_task == 'None':\n",
    "            session.append(e)  \n",
    "    if not (e['taskid'] in ['None'] or session == []):\n",
    "        tmp = task_sessions.get(current_task, [])\n",
    "        tmp.append(session)\n",
    "        task_sessions[current_task] = tmp\n",
    "        \n",
    "    # count interruptions\n",
    "    for t in task_sessions:\n",
    "        # condition 1: task will come back\n",
    "        # condition 2: the interruption happens before the fixed period ends\n",
    "        # condition 3: the interruption last longer than 10 seconds\n",
    "        sessions = task_sessions[t]\n",
    "        for i in range(len(sessions)):\n",
    "            s = sessions[i]\n",
    "            #print s\n",
    "            time = (s[-1]['timestamp_bson'] - s[0]['timestamp_bson']).total_seconds() < period*60\n",
    "            if i < len(sessions)-1 and time:\n",
    "                gap = (sessions[i+1][0]['timestamp_bson'] - s[-1]['timestamp_bson']).total_seconds()\n",
    "                if gap > gap_thresh:\n",
    "                    interrupt[t] += 1\n",
    "        \n",
    "    return interrupt\n",
    "    \n",
    "    \n",
    "for period in [30, 60, 120]:\n",
    "    for gap_thresh in [1, 5, 10, 20, 30]:\n",
    "        print 'Within a %s mins period:'%period, 'interruption gap: %s sec'%gap_thresh\n",
    "        M = []\n",
    "        S = []\n",
    "        for uid, data in D:\n",
    "            interrupt = count_interrupt(period, gap_thresh, data)\n",
    "            # Note: we do count if a general task interrupts a user defined task as an interruption, \n",
    "            # but we are not interested in how general task is interrupted by other tasks\n",
    "            c = [interrupt[i] for i in interrupt if not i in ['None', '001', '002', '003', '004', '000']]\n",
    "            M.append(np.mean(c))\n",
    "            S.append(np.std(c))\n",
    "        print ['%.1f'%m for m in M]\n",
    "        print ['%.1f'%s for s in S]\n"
   ]
  },
  {
   "cell_type": "markdown",
   "metadata": {},
   "source": [
    "## Correlation between number of tasks and level of multi-tasking (average number of interruptions)\n",
    "* Note: since the variances are high, average number of interruptions may not be a good indication\n",
    "\n",
    "### Conclusion: No significant correlation was found."
   ]
  },
  {
   "cell_type": "code",
   "execution_count": 21,
   "metadata": {
    "collapsed": false
   },
   "outputs": [
    {
     "name": "stdout",
     "output_type": "stream",
     "text": [
      "Within a 30 mins period:\n",
      "r=0.17 p-value=0.43 tau=0.20 p-value=0.18\n",
      "\n",
      "Within a 60 mins period:\n",
      "r=0.17 p-value=0.43 tau=0.20 p-value=0.18\n",
      "\n",
      "Within a 120 mins period:\n",
      "r=0.17 p-value=0.43 tau=0.20 p-value=0.18\n",
      "\n"
     ]
    },
    {
     "data": {
      "image/png": "[encoded data removed]",
      "text/plain": [
       "<matplotlib.figure.Figure at 0x1206368d0>"
      ]
     },
     "metadata": {},
     "output_type": "display_data"
    }
   ],
   "source": [
    "# set gap_thresh to 10 seconds\n",
    "gap_thresh = 10\n",
    "\n",
    "for period in [30, 60, 120]:\n",
    "    print 'Within a %s mins period:'%period \n",
    "    \n",
    "    # For averate number of interruptions\n",
    "    M = []\n",
    "    # For number of tasks a user performed (only look at top level tasks)\n",
    "    T = []\n",
    "    for uid, data in D:\n",
    "        interrupt = count_interrupt(period, gap_thresh, data)\n",
    "        c = [interrupt[i] for i in interrupt if not i in ['000', '001', '002', '003', '004', 'None']] \n",
    "        M.append(np.mean(c))\n",
    "        tasks = list(set([e['taskid'] for e in data if not e['taskid'] in ['None', '000', '001', '002', \n",
    "                                                                           '003', '004']]))\n",
    "        T.append(len(tasks))\n",
    "    corr, p = pearsonr(M, T)\n",
    "    tau, p2 = kendalltau(M, T)\n",
    "    print 'r=%.2f'%corr, 'p-value=%.2f'%p, 'tau=%.2f'%tau, 'p-value=%.2f'%p2\n",
    "    print    \n",
    "    pylab.plot(M, T, '.')"
   ]
  },
  {
   "cell_type": "markdown",
   "metadata": {},
   "source": [
    "## Correlation between the number of interruptions a task has, and its properties\n",
    "* Only analyse tasks that have postQ answers\n",
    "* Note: 5 tasks were annotated but did not find annotation in the log. It could be that the users did not annotate that task, or did not actually perform that task, or that the annotation was inconsistent and moved to a more general category."
   ]
  },
  {
   "cell_type": "code",
   "execution_count": 22,
   "metadata": {
    "collapsed": false
   },
   "outputs": [
    {
     "name": "stdout",
     "output_type": "stream",
     "text": [
      "Within a 30 mins period:\n",
      "\\textbf{task_stage} tau=-0.17 p-value=0.00\n",
      "\\textbf{task_collaboration} tau=0.15 p-value=0.01\n",
      "task_difficulty_subjective tau=0.09 p-value=0.12\n",
      "task_sailence_subjective tau=0.01 p-value=0.83\n",
      "\\textbf{task_urgency_subjective} tau=0.12 p-value=0.04\n",
      "task_frequency tau=0.06 p-value=0.32\n",
      "task_satisfaction tau=-0.11 p-value=0.06\n",
      "task_knowledge_topic tau=-0.11 p-value=0.05\n",
      "\\textbf{task_complexity_objective} tau=0.17 p-value=0.00\n",
      "task_knowledge_procedure tau=-0.05 p-value=0.41\n",
      "\\textbf{task_length} tau=0.24 p-value=0.00\n",
      "\\textbf{task_complexity_subjective} tau=0.12 p-value=0.04\n",
      "\n",
      "Within a 60 mins period:\n",
      "\\textbf{task_stage} tau=-0.17 p-value=0.00\n",
      "\\textbf{task_collaboration} tau=0.15 p-value=0.01\n",
      "task_difficulty_subjective tau=0.09 p-value=0.14\n",
      "task_sailence_subjective tau=0.01 p-value=0.86\n",
      "\\textbf{task_urgency_subjective} tau=0.12 p-value=0.04\n",
      "task_frequency tau=0.06 p-value=0.30\n",
      "task_satisfaction tau=-0.11 p-value=0.06\n",
      "task_knowledge_topic tau=-0.11 p-value=0.06\n",
      "\\textbf{task_complexity_objective} tau=0.17 p-value=0.00\n",
      "task_knowledge_procedure tau=-0.05 p-value=0.44\n",
      "\\textbf{task_length} tau=0.24 p-value=0.00\n",
      "\\textbf{task_complexity_subjective} tau=0.12 p-value=0.04\n",
      "\n",
      "Within a 120 mins period:\n",
      "\\textbf{task_stage} tau=-0.17 p-value=0.00\n",
      "\\textbf{task_collaboration} tau=0.15 p-value=0.01\n",
      "task_difficulty_subjective tau=0.09 p-value=0.14\n",
      "task_sailence_subjective tau=0.01 p-value=0.85\n",
      "\\textbf{task_urgency_subjective} tau=0.12 p-value=0.04\n",
      "task_frequency tau=0.06 p-value=0.30\n",
      "task_satisfaction tau=-0.11 p-value=0.06\n",
      "task_knowledge_topic tau=-0.11 p-value=0.06\n",
      "\\textbf{task_complexity_objective} tau=0.17 p-value=0.00\n",
      "task_knowledge_procedure tau=-0.05 p-value=0.44\n",
      "\\textbf{task_length} tau=0.24 p-value=0.00\n",
      "\\textbf{task_complexity_subjective} tau=0.12 p-value=0.05\n",
      "\n",
      "Within a 240 mins period:\n",
      "\\textbf{task_stage} tau=-0.17 p-value=0.00\n",
      "\\textbf{task_collaboration} tau=0.15 p-value=0.01\n",
      "task_difficulty_subjective tau=0.09 p-value=0.14\n",
      "task_sailence_subjective tau=0.01 p-value=0.85\n",
      "\\textbf{task_urgency_subjective} tau=0.12 p-value=0.04\n",
      "task_frequency tau=0.06 p-value=0.30\n",
      "task_satisfaction tau=-0.11 p-value=0.06\n",
      "task_knowledge_topic tau=-0.11 p-value=0.05\n",
      "\\textbf{task_complexity_objective} tau=0.17 p-value=0.00\n",
      "task_knowledge_procedure tau=-0.05 p-value=0.44\n",
      "\\textbf{task_length} tau=0.24 p-value=0.00\n",
      "\\textbf{task_complexity_subjective} tau=0.12 p-value=0.04\n",
      "\n"
     ]
    }
   ],
   "source": [
    "bloom_map = {\n",
    "    'remember': 1,\n",
    "    'understadn': 2,\n",
    "    'apply': 3,\n",
    "    'analyse': 4,\n",
    "    'evaluate': 5,\n",
    "    'create': 6\n",
    "}\n",
    "\n",
    "# Get postQ annotated tasks\n",
    "task_prop = {}\n",
    "for uid, data in D:\n",
    "    # Get task properties\n",
    "    postQ = Users.find({'userid': uid})[0]['postQ']['questionnaire']\n",
    "    for task in postQ:\n",
    "        for key in postQ[task]:\n",
    "            if key == 'task_goals_quantity':\n",
    "                continue\n",
    "            answer = postQ[task][key]\n",
    "            if key == 'task_complexity_objective':\n",
    "                answer = bloom_map[answer]\n",
    "            tmp = task_prop.get(key, [])\n",
    "            tmp.append((task, answer))\n",
    "            task_prop[key] = tmp          \n",
    "\n",
    "for period in [30, 60, 120, 240]:\n",
    "    print 'Within a %s mins period:'%period \n",
    "    \n",
    "    task_interruption = []\n",
    "    for uid, data in D:\n",
    "        #tasks = set([t['taskid'] for t in data])\n",
    "        #print [(t, t in tasks_postQ) for t in tasks]\n",
    "        # Get interruption counts\n",
    "        interrupt = count_interrupt(period, gap_thresh, data)\n",
    "        for c in interrupt:\n",
    "            # Don't need this, annotated tasks do not include these.\n",
    "            #if not c in ['None', '000', '001', '002', '003', '004']:\n",
    "            task_interruption.append((c, interrupt[c]))\n",
    "            #print c, interrupt[c]\n",
    "    task_interruption = dict(task_interruption)\n",
    "    \n",
    "    # Correlation analysis\n",
    "    for key in task_prop:\n",
    "        tp = dict(task_prop[key])\n",
    "        tasks_postQ = tp.keys()\n",
    "        tasks_inter = task_interruption.keys()\n",
    "        common_tasks = list(set(tasks_postQ).intersection(set(tasks_inter)))\n",
    "        # Get data\n",
    "        X = [tp[t] for t in common_tasks]\n",
    "        Y = [task_interruption[t] for t in common_tasks]\n",
    "        # Correlation\n",
    "        tau, p = kendalltau(X, Y)\n",
    "        if p < 0.05:\n",
    "            key = '\\\\textbf{' + key + '}'\n",
    "        print key, 'tau=%.2f'%tau, 'p-value=%.2f'%p\n",
    "        \n",
    "    print\n",
    "    "
   ]
  },
  {
   "cell_type": "code",
   "execution_count": null,
   "metadata": {
    "collapsed": true
   },
   "outputs": [],
   "source": []
  }
 ],
 "metadata": {
  "kernelspec": {
   "display_name": "Python 2",
   "language": "python",
   "name": "python2"
  },
  "language_info": {
   "codemirror_mode": {
    "name": "ipython",
    "version": 2
   },
   "file_extension": ".py",
   "mimetype": "text/x-python",
   "name": "python",
   "nbconvert_exporter": "python",
   "pygments_lexer": "ipython2",
   "version": "2.7.10"
  }
 },
 "nbformat": 4,
 "nbformat_minor": 0
}

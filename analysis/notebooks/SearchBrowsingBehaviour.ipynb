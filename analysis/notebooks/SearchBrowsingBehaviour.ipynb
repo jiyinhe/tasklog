{
 "cells": [
  {
   "cell_type": "markdown",
   "metadata": {},
   "source": [
    "## Look at tasks that spread over multiple days"
   ]
  },
  {
   "cell_type": "code",
   "execution_count": 1,
   "metadata": {
    "collapsed": true
   },
   "outputs": [],
   "source": [
    "%matplotlib inline\n",
    "import matplotlib\n",
    "matplotlib.rcParams.update({'font.size': 20})\n",
    "matplotlib.rcParams['pdf.fonttype'] = 42\n",
    "matplotlib.rcParams['ps.fonttype'] = 42\n",
    "\n",
    "import pymongo\n",
    "from pymongo import MongoClient\n",
    "from bson.objectid import ObjectId\n",
    "from datetime import datetime\n",
    "import itertools\n",
    "import re\n",
    "import matplotlib.pylab as pylab\n",
    "import numpy as np\n",
    "from scipy import percentile\n",
    "from scipy.stats import pearsonr, kendalltau\n",
    "import math\n",
    "\n",
    "# DB connection to localhost\n",
    "client = MongoClient()\n",
    "# Get DB\n",
    "db = client.db_tasklog_clean\n",
    "# collection to store new data that contains task labels\n",
    "# Note: only top-level task labels are used\n",
    "DataLabeled = db.data_labeled\n",
    "Users = db.user\n",
    "\n",
    "users = list(Users.find({}))"
   ]
  },
  {
   "cell_type": "code",
   "execution_count": 2,
   "metadata": {
    "collapsed": false
   },
   "outputs": [],
   "source": [
    "# Flatten the data to streams of events\n",
    "D = []\n",
    "# Get tasks length\n",
    "for u in users:\n",
    "    data = list(DataLabeled.find({'userid': u['userid']}))[0]['data']\n",
    "    events = []\n",
    "    # data consists of tab-groups\n",
    "    for s in data:\n",
    "        tab_group = s['tab_group']\n",
    "        tabid = s['tabid']\n",
    "        # tab groups consist of url groups\n",
    "        for ug in tab_group:\n",
    "            # a group of events sharing the same url\n",
    "            url_group = ug['url_group']\n",
    "            for e in url_group:\n",
    "                events.append(e)\n",
    "    D.append((u['userid'], events))\n",
    "            "
   ]
  },
  {
   "cell_type": "code",
   "execution_count": 4,
   "metadata": {
    "collapsed": false
   },
   "outputs": [],
   "source": [
    "# Tasks to be filtered out\n",
    "Filter = ['None', '000', '001', '002', '003', '004']\n",
    "# Tasks annotated with postQ\n",
    "postQ = [u['postQ']['questionnaire'].keys() for u in users]\n",
    "postQ_tasks = [x for sublist in postQ for x in sublist]"
   ]
  },
  {
   "cell_type": "code",
   "execution_count": 31,
   "metadata": {
    "collapsed": false
   },
   "outputs": [],
   "source": [
    "# Get task properties\n",
    "T_prop = {}\n",
    "TO_FILTER = ['task_goals_quantity']\n",
    "bloom_map = {\n",
    "    'remember': 1,\n",
    "    'understadn': 2,\n",
    "    'apply': 3,\n",
    "    'analyse': 4,\n",
    "    'evaluate': 5,\n",
    "    'create': 6\n",
    "}\n",
    "for u in users:\n",
    "    Q = u['postQ']['questionnaire']\n",
    "    for q in Q:\n",
    "        for question in Q[q].keys():\n",
    "            if question in TO_FILTER:\n",
    "                continue\n",
    "            answers = T_prop.get(question, {})\n",
    "            a = Q[q][question]\n",
    "            # process bloom's taxonomy\n",
    "            if question == 'task_complexity_objective':\n",
    "                a = bloom_map[a]\n",
    "            answers.update({q:a})\n",
    "            T_prop[question] = answers"
   ]
  },
  {
   "cell_type": "code",
   "execution_count": 8,
   "metadata": {
    "collapsed": true
   },
   "outputs": [],
   "source": [
    "# Task length in terms of total seconds\n",
    "T_length = {}\n",
    "for uid, data in D:\n",
    "    tasks = [(d['taskid'], d['timestamp_bson']) for d in data if d['taskid'] not in Filter]\n",
    "    tasks.sort(key=lambda x: x[0])\n",
    "    for k, g in itertools.groupby(tasks, lambda x: x[0]):\n",
    "        g = sorted(list(g), key=lambda x: x[1])        \n",
    "        # Get task length\n",
    "        T_length[k] = (g[-1][1] - g[0][1]).total_seconds()"
   ]
  },
  {
   "cell_type": "markdown",
   "metadata": {},
   "source": [
    "## Descriptive stats\n",
    "* How many tasks spreads over days (and annotated with postQ)\n",
    "* How many queries would users go before first click (cf. Daan)\n",
    "* How often do people directly go to a website to solve their (long term) tasks instead of using a SE? \n",
    "* How often do people need to re-issue the same queries in a different session for the same task?\n",
    "* How different are queries issued in the same session of the same task? and in the different sessions of the same task? (exploration vs. struggling?)"
   ]
  },
  {
   "cell_type": "markdown",
   "metadata": {},
   "source": [
    "### Number of queries users issue - Only consider tasks with postQ annotation from now on\n",
    "* Number of queries per task\n",
    "* Correlation between number of queries and task length\n",
    "* Correlation between number of queries and task properties \n",
    "* Chi-square between long/short tasks"
   ]
  },
  {
   "cell_type": "code",
   "execution_count": 32,
   "metadata": {
    "collapsed": false
   },
   "outputs": [
    {
     "name": "stdout",
     "output_type": "stream",
     "text": [
      "Correlation number of query vs. task length r=0.28, p-value=0.01\n",
      "\n",
      "Correlation number query vs. task properties:\n",
      "1 task_stage -0.04 0.59\n",
      "2 task_collaboration 0.12 0.10\n",
      "3 \\textbf{ task_difficulty_subjective } 0.17 0.02\n",
      "4 task_sailence_subjective 0.05 0.50\n",
      "5 task_urgency_subjective 0.13 0.07\n",
      "6 task_frequency -0.04 0.58\n",
      "7 task_satisfaction -0.10 0.19\n",
      "8 \\textbf{ task_knowledge_topic } -0.23 0.00\n",
      "9 \\textbf{ task_complexity_objective } 0.25 0.00\n",
      "10 task_knowledge_procedure -0.11 0.13\n",
      "11 \\textbf{ task_length } 0.28 0.00\n",
      "12 \\textbf{ task_complexity_subjective } 0.20 0.01\n"
     ]
    }
   ],
   "source": [
    "# Type of search events: tab-search-new, tab-search-backward, tab-search-verticle, \n",
    "# tab-search-pagination, tab-search-noquery\n",
    "# Only consider new and verticle change as issuing query\n",
    "query_events = ['tab-search-new', 'tab-search-verticle']\n",
    "\n",
    "Qcount = dict([(t, 0) for t in postQ_tasks])\n",
    "# Get query events for each task\n",
    "for uid, data in D:\n",
    "    q_events = list(itertools.ifilter(lambda x: x['event'] in query_events and x['taskid'] in postQ_tasks, data))\n",
    "    q_events.sort(key=lambda x: x['taskid'])\n",
    "    for k, g in itertools.groupby(q_events, lambda x: x['taskid']):\n",
    "        Qcount[k] = len(list(g))\n",
    "\n",
    "# Correlation: T_length vs. Qcount\n",
    "# Get the common set of tasks\n",
    "T = list(set(Qcount.keys()).intersection(set(T_length.keys())))\n",
    "X = [Qcount[t] for t in T]\n",
    "Y = [T_length[t] for t in T]\n",
    "r, p = pearsonr(X, Y)\n",
    "print 'Correlation number of query vs. task length r=%.2f, p-value=%.2f'%(r, p) \n",
    "print\n",
    "\n",
    "print 'Correlation number query vs. task properties:'\n",
    "i = 1\n",
    "for prop in T_prop:\n",
    "    answers = T_prop[prop]\n",
    "    S = [answers[t] for t in T]\n",
    "    tau, p = kendalltau(X, S)\n",
    "    print i,\n",
    "    if p < 0.05:\n",
    "        print '\\\\textbf{', prop, '}', \n",
    "    else:\n",
    "        print prop,\n",
    "    print '%.2f'%tau, '%.2f'%p\n",
    "    i += 1"
   ]
  },
  {
   "cell_type": "markdown",
   "metadata": {},
   "source": [
    "### Number of clicks on SERPs\n",
    "* Number of SERP clicks per task\n",
    "* Correltaion between number of SERP clicks and task length\n",
    "* Chi-square with long/short tasks\n",
    "* Correlation between number of SERP clicks and task properties"
   ]
  },
  {
   "cell_type": "code",
   "execution_count": 42,
   "metadata": {
    "collapsed": false
   },
   "outputs": [
    {
     "name": "stdout",
     "output_type": "stream",
     "text": [
      "Correlation number of SERP clicks vs. task length r=0.28, p-value=0.01\n",
      "\n",
      "Correlation number SERP clicks vs. task properties:\n",
      "1 task_stage -0.12 0.10\n",
      "2 task_collaboration 0.12 0.11\n",
      "3 task_difficulty_subjective 0.13 0.09\n",
      "4 task_sailence_subjective 0.01 0.85\n",
      "5 task_urgency_subjective 0.11 0.13\n",
      "6 task_frequency -0.05 0.46\n",
      "7 task_satisfaction -0.14 0.06\n",
      "8 \\textbf{ task_knowledge_topic } -0.28 0.00\n",
      "9 \\textbf{ task_complexity_objective } 0.24 0.00\n",
      "10 task_knowledge_procedure -0.14 0.06\n",
      "11 \\textbf{ task_length } 0.35 0.00\n",
      "12 \\textbf{ task_complexity_subjective } 0.20 0.01\n"
     ]
    }
   ],
   "source": [
    "Ccount = dict([(t, 0) for t in postQ_tasks])\n",
    "for uid, data in D:\n",
    "    C_events = list(itertools.ifilter(lambda x: x['event'] == 'link_click-SERP-result' \n",
    "                    and x['taskid'] in postQ_tasks, data))\n",
    "    C_events.sort(key=lambda x: x['taskid'])\n",
    "    for k, g in itertools.groupby(C_events, lambda x: x['taskid']):\n",
    "        g = list(g)\n",
    "        Ccount[k] = len(g)\n",
    "\n",
    "# Correlation: T_length vs. Ccount\n",
    "# Get the common set of tasks\n",
    "T = list(set(Ccount.keys()).intersection(set(T_length.keys())))\n",
    "X = [Ccount[t] for t in T]\n",
    "Y = [T_length[t] for t in T]\n",
    "\n",
    "r, p = pearsonr(X, Y)\n",
    "print 'Correlation number of SERP clicks vs. task length r=%.2f, p-value=%.2f'%(r, p) \n",
    "print\n",
    "\n",
    "print 'Correlation number SERP clicks vs. task properties:'\n",
    "i = 1\n",
    "for prop in T_prop:\n",
    "    answers = T_prop[prop]\n",
    "    S = [answers[t] for t in T]\n",
    "    tau, p = kendalltau(X, S)\n",
    "    print i,\n",
    "    if p < 0.05:\n",
    "        print '\\\\textbf{', prop, '}', \n",
    "    else:\n",
    "        print prop,\n",
    "    print '%.2f'%tau, '%.2f'%p\n",
    "    i += 1"
   ]
  },
  {
   "cell_type": "markdown",
   "metadata": {},
   "source": [
    "## Number of queries before first click\n",
    "* Number of queries before first SERP click per task\n",
    "* correlation between number of queries before first SERP click and task length\n",
    "* correlation between number of queries before first SERP click and task properties"
   ]
  },
  {
   "cell_type": "code",
   "execution_count": 57,
   "metadata": {
    "collapsed": true
   },
   "outputs": [],
   "source": [
    "google_reg = re.compile('.+?\\.google\\..+?q=.+')\n",
    "yahoo_reg = re.compile('.+?\\.search\\.yahoo\\..+?p=.+')\n",
    "bing_reg = re.compile('.+?\\.bing\\..+?q=.+')\n",
    "\n",
    "def check_serp(url):\n",
    "    # This may involve other service of google/bing, but it's not a big problem for\n",
    "    # now\n",
    "    if len(google_reg.findall(url)) > 0 or len(yahoo_reg.findall(url)) > 0 or len(bing_reg.findall(url)) > 0:\n",
    "        return True\n",
    "    else:\n",
    "        return False"
   ]
  },
  {
   "cell_type": "code",
   "execution_count": 106,
   "metadata": {
    "collapsed": false
   },
   "outputs": [
    {
     "name": "stdout",
     "output_type": "stream",
     "text": [
      "With search: 0.81\n",
      "No search: 0.19\n",
      "Abandoned search: 0.04\n",
      "Correltaion between number of queries before first click and task length: r=0.09, p=0.45\n",
      "\n",
      "Correlation number queries before 1st clicks vs. task properties:\n",
      "1 task_stage 0.05 0.56\n",
      "2 task_collaboration -0.04 0.60\n",
      "3 \\textbf{ task_difficulty_subjective } 0.22 0.01\n",
      "4 \\textbf{ task_sailence_subjective } 0.19 0.02\n",
      "5 task_urgency_subjective 0.10 0.22\n",
      "6 \\textbf{ task_frequency } 0.18 0.03\n",
      "7 task_satisfaction -0.07 0.39\n",
      "8 task_knowledge_topic 0.15 0.07\n",
      "9 \\textbf{ task_complexity_objective } 0.29 0.00\n",
      "10 task_knowledge_procedure 0.09 0.31\n",
      "11 task_length -0.01 0.94\n",
      "12 task_complexity_subjective 0.13 0.11\n"
     ]
    },
    {
     "data": {
      "image/png": "[encoded data removed]",
      "text/plain": [
       "<matplotlib.figure.Figure at 0x1131929d0>"
      ]
     },
     "metadata": {},
     "output_type": "display_data"
    }
   ],
   "source": [
    "FC = []\n",
    "for uid, data in D:\n",
    "    # Group events by tasks, order in time\n",
    "    data.sort(key=lambda x: x['taskid'])\n",
    "    for k, g in itertools.groupby(data, lambda x: x['taskid']):\n",
    "        if not k in postQ_tasks:\n",
    "            continue\n",
    "        g = sorted(list(g), key=lambda x: x['timestamp_bson'])\n",
    "        \n",
    "        no_search = True\n",
    "        no_click = True\n",
    "        search = 0\n",
    "        # Count the number of queries before first SERP click\n",
    "        for e in g:\n",
    "            if e['event'] in query_events:\n",
    "                no_search = False\n",
    "                search += 1\n",
    "            if e['event'] == 'link_click-SERP-result':\n",
    "                no_click = False\n",
    "                break\n",
    "        FC.append([k, search, no_search, no_click])\n",
    "\n",
    "# ratio of search, no search, abandoned search\n",
    "withS = list(itertools.ifilter(lambda x: x[2] == False, FC))\n",
    "noS = list(itertools.ifilter(lambda x: x[2] == True, FC))\n",
    "ABD = list(itertools.ifilter(lambda x: x[2] == False and x[3] == True, FC))\n",
    "tot = float(len(FC))\n",
    "\n",
    "print 'With search: %.2f'%(len(withS)/tot)\n",
    "print 'No search: %.2f'%(len(noS)/tot)\n",
    "print 'Abandoned search: %.2f'%(len(ABD)/float(len(withS)))\n",
    "\n",
    "firstClick = list(itertools.ifilter(lambda x: x[2] == False and x[3] == False, FC))\n",
    "X = sorted([x[1] for x in firstClick])\n",
    "Y = []\n",
    "idx = []\n",
    "for k, g in itertools.groupby(X):\n",
    "    Y.append((len(list(g)))/float(len(firstClick)))\n",
    "    idx.append(k)\n",
    "pylab.bar(idx, Y)\n",
    "pylab.xlabel('Number of search before 1st click')\n",
    "\n",
    "# Correlations\n",
    "X = [t[1] for t in firstClick]\n",
    "Y = [T_length[t[0]] for t in firstClick]\n",
    "r, p = pearsonr(X, Y)\n",
    "print 'Correltaion between number of queries before first click and task length: r=%.2f, p=%.2f'%(r, p)\n",
    "print\n",
    "print 'Correlation number queries before 1st clicks vs. task properties:'\n",
    "i = 1\n",
    "for prop in T_prop:\n",
    "    answers = T_prop[prop]\n",
    "    S = [answers[t[0]] for t in firstClick]\n",
    "    tau, p = kendalltau(X, S)\n",
    "    print i,\n",
    "    if p < 0.05:\n",
    "        print '\\\\textbf{', prop, '}', \n",
    "    else:\n",
    "        print prop,\n",
    "    print '%.2f'%tau, '%.2f'%p\n",
    "    i += 1\n",
    "    "
   ]
  },
  {
   "cell_type": "markdown",
   "metadata": {},
   "source": [
    "## Page views - data prep\n",
    "* Type of page views (from SERP or not)\n",
    "* Dewell time of page views"
   ]
  },
  {
   "cell_type": "code",
   "execution_count": null,
   "metadata": {
    "collapsed": true
   },
   "outputs": [],
   "source": [
    "# \n",
    "for uid, data in D:\n",
    "    "
   ]
  },
  {
   "cell_type": "markdown",
   "metadata": {},
   "source": [
    "### SE vs. browsing\n",
    "* How many page views are result of search?\n",
    "* How many page views are result of direct navigation? (e.g., from email, from bookmark, following links from other pages)\n",
    "* Correlation between amount of search/navigation and task length\n",
    "* Correlation between amount of search/navigation and task properties\n",
    "* Chi-square with long/short tasks?\n"
   ]
  },
  {
   "cell_type": "code",
   "execution_count": null,
   "metadata": {
    "collapsed": true
   },
   "outputs": [],
   "source": []
  },
  {
   "cell_type": "code",
   "execution_count": null,
   "metadata": {
    "collapsed": true
   },
   "outputs": [],
   "source": []
  }
 ],
 "metadata": {
  "kernelspec": {
   "display_name": "Python 2",
   "language": "python",
   "name": "python2"
  },
  "language_info": {
   "codemirror_mode": {
    "name": "ipython",
    "version": 2
   },
   "file_extension": ".py",
   "mimetype": "text/x-python",
   "name": "python",
   "nbconvert_exporter": "python",
   "pygments_lexer": "ipython2",
   "version": "2.7.10"
  }
 },
 "nbformat": 4,
 "nbformat_minor": 0
}

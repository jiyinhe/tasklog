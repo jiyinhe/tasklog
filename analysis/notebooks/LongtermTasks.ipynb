{
 "cells": [
  {
   "cell_type": "markdown",
   "metadata": {},
   "source": [
    "## Look at tasks that spread over multiple days"
   ]
  },
  {
   "cell_type": "code",
   "execution_count": 182,
   "metadata": {
    "collapsed": true
   },
   "outputs": [],
   "source": [
    "%matplotlib inline\n",
    "import matplotlib\n",
    "matplotlib.rcParams.update({'font.size': 20})\n",
    "matplotlib.rcParams['pdf.fonttype'] = 42\n",
    "matplotlib.rcParams['ps.fonttype'] = 42\n",
    "\n",
    "import pymongo\n",
    "from pymongo import MongoClient\n",
    "from bson.objectid import ObjectId\n",
    "from datetime import datetime\n",
    "import itertools\n",
    "import re\n",
    "import matplotlib.pylab as pylab\n",
    "import numpy as np\n",
    "from scipy import percentile\n",
    "from scipy.stats import pearsonr, kendalltau\n",
    "import math\n",
    "\n",
    "# DB connection to localhost\n",
    "client = MongoClient()\n",
    "# Get DB\n",
    "db = client.db_tasklog_clean\n",
    "# collection to store new data that contains task labels\n",
    "# Note: only top-level task labels are used\n",
    "DataLabeled = db.data_labeled\n",
    "Users = db.user\n",
    "\n",
    "users = list(Users.find({}))"
   ]
  },
  {
   "cell_type": "code",
   "execution_count": 115,
   "metadata": {
    "collapsed": false
   },
   "outputs": [],
   "source": [
    "# Flatten the data to streams of events\n",
    "D = []\n",
    "# Get tasks length\n",
    "for u in users:\n",
    "    data = list(DataLabeled.find({'userid': u['userid']}))[0]['data']\n",
    "    events = []\n",
    "    # data consists of tab-groups\n",
    "    for s in data:\n",
    "        tab_group = s['tab_group']\n",
    "        tabid = s['tabid']\n",
    "        # tab groups consist of url groups\n",
    "        for ug in tab_group:\n",
    "            # a group of events sharing the same url\n",
    "            url_group = ug['url_group']\n",
    "            for e in url_group:\n",
    "                events.append(e)\n",
    "    D.append((u['userid'], events))\n",
    "            "
   ]
  },
  {
   "cell_type": "code",
   "execution_count": 130,
   "metadata": {
    "collapsed": false
   },
   "outputs": [],
   "source": [
    "# Tasks to be filtered out\n",
    "Filter = ['None', '000', '001', '002', '003', '004']\n",
    "# Tasks annotated with postQ\n",
    "postQ = [u['postQ']['questionnaire'].keys() for u in users]\n",
    "postQ_tasks = [x for sublist in postQ for x in sbublist]"
   ]
  },
  {
   "cell_type": "code",
   "execution_count": 175,
   "metadata": {
    "collapsed": false
   },
   "outputs": [],
   "source": [
    "# Get task properties\n",
    "T_prop = {}\n",
    "bloom_map = {\n",
    "    'remember': 1,\n",
    "    'understadn': 2,\n",
    "    'apply': 3,\n",
    "    'analyse': 4,\n",
    "    'evaluate': 5,\n",
    "    'create': 6\n",
    "}\n",
    "for u in users:\n",
    "    Q = u['postQ']['questionnaire']\n",
    "    for q in Q:\n",
    "        for question in Q[q].keys():\n",
    "            answers = T_prop.get(question, [])\n",
    "            a = Q[q][question]\n",
    "            # process bloom's taxonomy\n",
    "            if question == 'task_complexity_objective':\n",
    "                a = bloom_map[a]\n",
    "            answers.append({q, a})\n",
    "            T_prop[question] = answers"
   ]
  },
  {
   "cell_type": "markdown",
   "metadata": {},
   "source": [
    "## Descriptive stats\n",
    "* How many tasks spreads over days (and annotated with postQ)\n",
    "* How many queries would users go before first click (cf. Daan)\n",
    "* How often do people directly go to a website to solve their (long term) tasks instead of using a SE? \n",
    "* How often do people need to re-issue the same queries in a different session for the same task?\n",
    "* How different are queries issued in the same session of the same task? and in the different sessions of the same task? (exploration vs. struggling?)"
   ]
  },
  {
   "cell_type": "markdown",
   "metadata": {},
   "source": [
    "### Number of tasks spread over days (or multiple hours)\n",
    "1. All tasks\n",
    "2. Tasks that have postQ annotations\n",
    "\n",
    "### Stats\n",
    " - in both cases, about half of the tasks spread over days\n",
    " - in both cases, about half of the tasks accomplished within a day need more than 1 hour"
   ]
  },
  {
   "cell_type": "code",
   "execution_count": 169,
   "metadata": {
    "collapsed": false
   },
   "outputs": [],
   "source": [
    "# Task length in terms of total seconds\n",
    "T_length = {}\n",
    "T = []\n",
    "# How many tasks spread over days?\n",
    "# For tasks finished wihtin a day, how many hours do they spread over?\n",
    "# Count for tasks spread over days\n",
    "Days = []\n",
    "Days_Q = []\n",
    "# Count for tasks within a day, spread over hours\n",
    "Hours = []\n",
    "Hours_Q = []\n",
    "for uid, data in D:\n",
    "    tasks = [(d['taskid'], d['timestamp_bson']) for d in data if d['taskid'] not in Filter]\n",
    "    tasks.sort(key=lambda x: x[0])\n",
    "    for k, g in itertools.groupby(tasks, lambda x: x[0]):\n",
    "        g = sorted(list(g), key=lambda x: x[1])\n",
    "        \n",
    "        # Get task length\n",
    "        T_length[k] = (g[-1][1] - g[0][1]).total_seconds()\n",
    "        \n",
    "        # Get task length in terms of days\n",
    "        days = (g[-1][1] - g[0][1]).days + 1\n",
    "        Days.append((k, days))\n",
    "        if k in postQ_tasks:\n",
    "            Days_Q.append((k, days))\n",
    "            \n",
    "        # Get task length in terms of hours if they are completed within 1 day\n",
    "        if days == 1:\n",
    "            hours = round((g[-1][1] - g[0][1]).total_seconds()/(60*60))\n",
    "            Hours.append((k, hours))\n",
    "            if k in postQ_tasks:\n",
    "                Hours_Q.append((k, hours))"
   ]
  },
  {
   "cell_type": "code",
   "execution_count": 183,
   "metadata": {
    "collapsed": false
   },
   "outputs": [
    {
     "name": "stdout",
     "output_type": "stream",
     "text": [
      "% Tasks completed within 1 day: 0.51\n",
      "% Tasks completed over multiple days: 0.49\n",
      "Number of tasks completed within 1 day: 88\n",
      "Number of tasks completed over multiple days: 84\n"
     ]
    },
    {
     "data": {
      "image/png": "[encoded data removed]",
      "text/plain": [
       "<matplotlib.figure.Figure at 0x121461d10>"
      ]
     },
     "metadata": {},
     "output_type": "display_data"
    }
   ],
   "source": [
    "# Plot the distributsion of tasks spread over days\n",
    "pylab.figure()\n",
    "tot_tasks = float(len(Days))\n",
    "Days.sort(key=lambda x: x[1])\n",
    "X = []\n",
    "Y = []\n",
    "C = []\n",
    "for k, g in itertools.groupby(Days, lambda x: x[1]):\n",
    "    g = list(g)\n",
    "    X.append(k)\n",
    "    Y.append(len(g)/tot_tasks)\n",
    "    C.append(len(g))\n",
    "    \n",
    "pylab.bar(X, Y)\n",
    "pylab.xlabel('Number of days')\n",
    "pylab.ylabel('Percentage of tasks')\n",
    "pylab.tight_layout()\n",
    "pylab.savefig('plots/tasks_overdays.pdf')\n",
    "print '% Tasks completed within 1 day:',  '%.2f'%Y[0]\n",
    "print '% Tasks completed over multiple days:', '%.2f'%sum(Y[1:])\n",
    "print 'Number of tasks completed within 1 day:', C[0]\n",
    "print 'Number of tasks completed over multiple days:', sum(C[1:])"
   ]
  },
  {
   "cell_type": "code",
   "execution_count": 184,
   "metadata": {
    "collapsed": false
   },
   "outputs": [
    {
     "name": "stdout",
     "output_type": "stream",
     "text": [
      "Tasks annotated by postQ\n",
      "% Tasks completed within 1 day: 0.43\n",
      "% Tasks completed over multiple days: 0.57\n",
      "Number of tasks completed within 1 day: 37\n",
      "Number of tasks completed over multiple days: 49\n"
     ]
    },
    {
     "data": {
      "image/png": "[encoded data removed]",
      "text/plain": [
       "<matplotlib.figure.Figure at 0x113190a90>"
      ]
     },
     "metadata": {},
     "output_type": "display_data"
    }
   ],
   "source": [
    "# Plot the distributsion of tasks spread over days annotated by postQ\n",
    "pylab.figure()\n",
    "tot_tasks = float(len(Days_Q))\n",
    "Days_Q.sort(key=lambda x: x[1])\n",
    "X = []\n",
    "Y = []\n",
    "C = []\n",
    "for k, g in itertools.groupby(Days_Q, lambda x: x[1]):\n",
    "    g = list(g)\n",
    "    X.append(k)\n",
    "    Y.append(len(g)/tot_tasks)\n",
    "    C.append(len(g))\n",
    "    \n",
    "pylab.bar(X, Y)\n",
    "pylab.xlabel('Number of days')\n",
    "pylab.ylabel('Percentage of tasks')\n",
    "pylab.tight_layout()\n",
    "pylab.savefig('plots/postQ_tasks_overdays.pdf')\n",
    "\n",
    "print 'Tasks annotated by postQ'\n",
    "print '% Tasks completed within 1 day:',  '%.2f'%Y[0]\n",
    "print '% Tasks completed over multiple days:', '%.2f'%sum(Y[1:])\n",
    "print 'Number of tasks completed within 1 day:', C[0]\n",
    "print 'Number of tasks completed over multiple days:', sum(C[1:])"
   ]
  },
  {
   "cell_type": "code",
   "execution_count": 185,
   "metadata": {
    "collapsed": false
   },
   "outputs": [
    {
     "name": "stdout",
     "output_type": "stream",
     "text": [
      "% Tasks completed within 1 hour: 0.47\n",
      "% Tasks completed over multiple hours: 0.53\n",
      "Number of tasks completed within 1 hour: 41\n",
      "Number of tasks completed over multiple hours: 47\n"
     ]
    },
    {
     "data": {
      "image/png": "[encoded data removed]",
      "text/plain": [
       "<matplotlib.figure.Figure at 0x11ba80290>"
      ]
     },
     "metadata": {},
     "output_type": "display_data"
    }
   ],
   "source": [
    "# Plot the distribution of hours for tasks completed within 1 day\n",
    "pylab.figure()\n",
    "tot_tasks_1day = float(len(Hours))\n",
    "Hours.sort(key=lambda x: x[1])\n",
    "X = []\n",
    "Y = []\n",
    "C = []\n",
    "for k, g in itertools.groupby(Hours, lambda x: x[1]):\n",
    "    g = list(g)\n",
    "    X.append(k)\n",
    "    Y.append(len(g)/tot_tasks_1day)\n",
    "    C.append(len(g))\n",
    "pylab.bar(X, Y)\n",
    "pylab.xlabel('Number of hours')\n",
    "pylab.ylabel('Percentage of tasks')\n",
    "pylab.tight_layout()\n",
    "pylab.savefig('plots/tasks_overhours.pdf')\n",
    "\n",
    "print '% Tasks completed within 1 hour:',  '%.2f'%Y[0]\n",
    "print '% Tasks completed over multiple hours:', '%.2f'%sum(Y[1:])\n",
    "print 'Number of tasks completed within 1 hour:', C[0]\n",
    "print 'Number of tasks completed over multiple hours:', sum(C[1:])"
   ]
  },
  {
   "cell_type": "code",
   "execution_count": 186,
   "metadata": {
    "collapsed": false
   },
   "outputs": [
    {
     "name": "stdout",
     "output_type": "stream",
     "text": [
      "Tasks annotated by postQ\n",
      "% Tasks completed within 1 hour: 0.38\n",
      "% Tasks completed over multiple hours: 0.62\n",
      "Number of tasks completed within 1 hour: 14\n",
      "Number of tasks completed over multiple hours: 23\n"
     ]
    },
    {
     "data": {
      "image/png": "[encoded data removed]",
      "text/plain": [
       "<matplotlib.figure.Figure at 0x114f23d90>"
      ]
     },
     "metadata": {},
     "output_type": "display_data"
    }
   ],
   "source": [
    "# Plot the distribution of hours for tasks completed within 1 day (annotated by postQ)\n",
    "pylab.figure()\n",
    "tot_tasks_1day = float(len(Hours_Q))\n",
    "Hours_Q.sort(key=lambda x: x[1])\n",
    "X = []\n",
    "Y = []\n",
    "C = []\n",
    "for k, g in itertools.groupby(Hours_Q, lambda x: x[1]):\n",
    "    g = list(g)\n",
    "    X.append(k)\n",
    "    Y.append(len(g)/tot_tasks_1day)\n",
    "    C.append(len(g))\n",
    "pylab.bar(X, Y)\n",
    "pylab.xlabel('Number of hours')\n",
    "pylab.ylabel('Percentage of tasks')\n",
    "pylab.tight_layout()\n",
    "pylab.savefig('plots/postQ_tasks_overdays.pdf')\n",
    "\n",
    "print 'Tasks annotated by postQ'\n",
    "print '% Tasks completed within 1 hour:',  '%.2f'%Y[0]\n",
    "print '% Tasks completed over multiple hours:', '%.2f'%sum(Y[1:])\n",
    "print 'Number of tasks completed within 1 hour:', C[0]\n",
    "print 'Number of tasks completed over multiple hours:', sum(C[1:])"
   ]
  }
 ],
 "metadata": {
  "kernelspec": {
   "display_name": "Python 2",
   "language": "python",
   "name": "python2"
  },
  "language_info": {
   "codemirror_mode": {
    "name": "ipython",
    "version": 2
   },
   "file_extension": ".py",
   "mimetype": "text/x-python",
   "name": "python",
   "nbconvert_exporter": "python",
   "pygments_lexer": "ipython2",
   "version": "2.7.10"
  }
 },
 "nbformat": 4,
 "nbformat_minor": 0
}

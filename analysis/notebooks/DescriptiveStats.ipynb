{
 "cells": [
  {
   "cell_type": "markdown",
   "metadata": {},
   "source": [
    "## Setup"
   ]
  },
  {
   "cell_type": "code",
   "execution_count": 29,
   "metadata": {
    "collapsed": true
   },
   "outputs": [],
   "source": [
    "import pymongo\n",
    "from pymongo import MongoClient\n",
    "import numpy as np\n",
    "import itertools\n",
    "\n",
    "# DB connections\n",
    "client = MongoClient()\n",
    "db = client.db_tasklog_clean\n",
    "# Collections\n",
    "User = db.user\n",
    "Log = db.log_chrome"
   ]
  },
  {
   "cell_type": "markdown",
   "metadata": {},
   "source": [
    "## Descriptive stats of user demographics:"
   ]
  },
  {
   "cell_type": "code",
   "execution_count": 30,
   "metadata": {
    "collapsed": false
   },
   "outputs": [
    {
     "name": "stdout",
     "output_type": "stream",
     "text": [
      "Gender groups:\n",
      "female 6\n",
      "male 10\n",
      "\n",
      "Age groups:\n",
      "18_24 7\n",
      "25_34 9\n",
      "\n"
     ]
    }
   ],
   "source": [
    "# Gender groups\n",
    "print 'Gender groups:'\n",
    "for d in User.aggregate([{'$project': {'info.gender': 1}},\n",
    "        {'$group': {'_id': '$info.gender', 'count': {'$sum': 1}}}]):\n",
    "    print d['_id'], d['count']\n",
    "print\n",
    "    \n",
    "# Age groups\n",
    "print 'Age groups:'\n",
    "for d in User.aggregate([{'$project': {'info.age': 1}}, \n",
    "    {'$group': {'_id': '$info.age', 'count': {'$sum': 1}}}]):\n",
    "    print d['_id'], d['count']\n",
    "print"
   ]
  },
  {
   "cell_type": "code",
   "execution_count": 31,
   "metadata": {
    "collapsed": false
   },
   "outputs": [
    {
     "name": "stdout",
     "output_type": "stream",
     "text": [
      "User computer technology experience: Median = 5.0 IQR = 1.0\n",
      "User Search engine experience: Median = 5.0 IQR = 1.0\n",
      "Frequency of using the experiment laptop for work: Median = 3.5 IQR = 1.25\n"
     ]
    }
   ],
   "source": [
    "allUsers = list(User.find({}))\n",
    "\n",
    "# Experience computer\n",
    "exp_comp = [int(a['info']['exp_comp']) for a in allUsers]\n",
    "iqr = np.percentile(exp_comp, 75) - np.percentile(exp_comp, 25)\n",
    "print 'User computer technology experience:', 'Median =', np.median(exp_comp), 'IQR =', iqr\n",
    "\n",
    "# Experience Search engine\n",
    "exp_se = [int(a['info']['exp_se']) for a in allUsers]\n",
    "iqr = np.percentile(exp_se, 75) - np.percentile(exp_se, 25)\n",
    "print 'User Search engine experience:', 'Median =', np.median(exp_se), 'IQR =', iqr\n",
    "\n",
    "# Frequency of work related usage of computer\n",
    "comp_work = [int(a['info']['comp_work']) for a in allUsers]\n",
    "iqr = np.percentile(comp_work, 75) - np.percentile(comp_work, 25)\n",
    "print 'Frequency of using the experiment laptop for work:', 'Median =', np.median(comp_work), 'IQR =', iqr\n"
   ]
  },
  {
   "cell_type": "code",
   "execution_count": 32,
   "metadata": {
    "collapsed": false
   },
   "outputs": [
    {
     "name": "stdout",
     "output_type": "stream",
     "text": [
      "Frequency of using the experiment laptop:\n",
      "<25% : 1 ( 0.06 )\n",
      "25%-50% : 2 ( 0.12 )\n",
      "75%-100% : 4 ( 0.25 )\n",
      "100% : 9 ( 0.56 )\n",
      "\n",
      "User search device preferences:\n",
      "always on computer : 2 ( 0.12 )\n",
      "mostly on computer : 12 ( 0.75 )\n",
      "half-half : 2 ( 0.12 )\n"
     ]
    }
   ],
   "source": [
    "total_users = float(len(list(allUsers)))\n",
    "\n",
    "# Frequency of using the experiment laptop\n",
    "comp_freq_labels = {'1': '<25%', '2':'25%-50%', '3': '50%-75%', '4': '75%-100%', '5': '100%'}\n",
    "comp_freq = User.aggregate([{'$project': {'info.freq_comp': 1}}, \n",
    "                           {'$group': {'_id': '$info.freq_comp', 'count': {'$sum': 1}}}, \n",
    "                           {'$sort': {'_id': 1}}])\n",
    "\n",
    "print 'Frequency of using the experiment laptop:'\n",
    "for f in comp_freq:\n",
    "    print comp_freq_labels[f['_id']], ':', f['count'], '(','%.2f'%(float(f['count'])/total_users), ')'\n",
    "print\n",
    "\n",
    "# Search device\n",
    "search_device_label = {'1': 'always on computer', '2': 'mostly on computer', \n",
    "                      '3': 'half-half', '4': 'mostly on mobile', '5': 'always on mobile'}\n",
    "search_device = User.aggregate([{'$project': {'info.search_device': 1}}, \n",
    "                                {'$group': {'_id': '$info.search_device', 'count': {'$sum': 1}}},\n",
    "                                {'$sort': {'_id': 1}}\n",
    "                               ])\n",
    "print 'User search device preferences:'\n",
    "for s in search_device:\n",
    "    if s['_id'] != None:   # Need to update Marc's registration form\n",
    "        print search_device_label[s['_id']], ':', s['count'], '(', '%.2f'%(float(s['count'])/total_users), ')'\n",
    " "
   ]
  },
  {
   "cell_type": "code",
   "execution_count": 33,
   "metadata": {
    "collapsed": false
   },
   "outputs": [
    {
     "name": "stdout",
     "output_type": "stream",
     "text": [
      "Top searched informaiton types with computers: \n",
      "entertainment 12 0.75\n",
      "social 11 0.69\n",
      "topic 11 0.69\n",
      "fact 9 0.56\n",
      "news 9 0.56\n",
      "shopping 7 0.44\n",
      "job 6 0.38\n",
      "task 6 0.38\n",
      "routes 5 0.31\n",
      "travel 5 0.31\n",
      "house 2 0.12\n",
      "person 2 0.12\n",
      "\n",
      "Top searched information types with mobiles: \n",
      "news 13 0.81\n",
      "routes 12 0.75\n",
      "social 12 0.75\n",
      "entertainment 9 0.56\n",
      "fact 9 0.56\n",
      "topic 7 0.44\n",
      "task 6 0.38\n",
      "person 4 0.25\n",
      "shopping 3 0.19\n",
      "travel 1 0.06\n"
     ]
    }
   ],
   "source": [
    "#Total number of users\n",
    "count_tot = float(len(list(allUsers)))\n",
    "\n",
    "# Top types of information searched on Mobile\n",
    "computer_search_for = [a['info']['computer_search_for'] for a in allUsers]\n",
    "computer_search_for = [s for sublist in computer_search_for for s in sublist]\n",
    "if a['info']['computer_search_for_other'] != '':\n",
    "    computer_search_for.append(a['info']['computer_search_for_other'])\n",
    "computer_search_for.sort()\n",
    "\n",
    "tot = []\n",
    "for k, g in itertools.groupby(computer_search_for):\n",
    "    tot.append((k, len(list(g))))\n",
    "tot.sort(key=lambda x: x[1], reverse=True)\n",
    "\n",
    "print 'Top searched informaiton types with computers: '\n",
    "for t in tot:\n",
    "    print t[0], t[1], '%.2f'%(t[1]/count_tot)\n",
    "print\n",
    "    \n",
    "# Top types of information searched on Computer\n",
    "mobile_search_for = [a['info']['mobile_search_for'] for a in allUsers]\n",
    "mobile_search_for = [s for sublist in mobile_search_for for s in sublist]\n",
    "if a['info']['mobile_search_for_other'] != '':\n",
    "    mobile_search_for.append(a['info']['mobile_search_for_other'])\n",
    "mobile_search_for.sort()\n",
    "\n",
    "tot = []\n",
    "for k, g in itertools.groupby(mobile_search_for):\n",
    "    tot.append((k, len(list(g))))\n",
    "tot.sort(key=lambda x: x[1], reverse=True)\n",
    "\n",
    "print \"Top searched information types with mobiles: \"\n",
    "for t in tot:\n",
    "    print t[0], t[1], '%.2f'%(t[1]/count_tot)\n",
    "    \n"
   ]
  },
  {
   "cell_type": "markdown",
   "metadata": {
    "collapsed": true
   },
   "source": [
    "## Descriptive stats of the log"
   ]
  },
  {
   "cell_type": "code",
   "execution_count": 34,
   "metadata": {
    "collapsed": false
   },
   "outputs": [
    {
     "name": "stdout",
     "output_type": "stream",
     "text": [
      "Total number of annotated queries: 2561\n",
      "Total number of annotated pages: 21186\n",
      "Number of user defined tasks:  167\n",
      "Number of tasks analysed in postQ: 91\n"
     ]
    }
   ],
   "source": [
    "# Total number of queries annotated\n",
    "queries = Log.aggregate([{'$match': {'to_annotate': True, 'event': 'tab-search', 'removed': False}},\n",
    "               {'$project': {\n",
    "                            'annotation.task': {'$ifNull': ['$annotation.task', 0]}}},\n",
    "                ])\n",
    "Q = list(queries)\n",
    "count_tot = len(list(Q))\n",
    "count_anno = count_tot - sum([int(q['annotation']['task'] == 0) for q in Q])\n",
    "print 'Total number of annotated queries:', count_anno\n",
    "\n",
    "# Total number of viewed pages annotated\n",
    "pages = Log.aggregate([{'$match': {'to_annotate': True, 'event': 'tab-loaded', 'removed': False}},\n",
    "               {'$project': {\n",
    "                            'annotation.task': {'$ifNull': ['$annotation.task', 0]}}},\n",
    "                ])\n",
    "Q = list(pages)\n",
    "count_tot = len(list(Q))\n",
    "count_anno = count_tot - sum([int(q['annotation']['task'] == 0) for q in Q])\n",
    "print 'Total number of annotated pages:', count_anno\n",
    "\n",
    "# Total number of tasks annotated\n",
    "tasks = Log.aggregate([{'$match': {'to_annotate': True, 'removed': False}}, \n",
    "                      {'$project': {'annotation.task': {'$ifNull': ['$annotation.task', {}]}}}])\n",
    "T = [t['annotation']['task'].get('taskid', '000') for t in list(tasks)]\n",
    "# Excluding pre-defined tasks, only include user defined ones\n",
    "user_tasks = set(T) - set(['000', '001', '002', '003', '004'])\n",
    "print 'Number of user defined tasks: ', len(user_tasks)\n",
    "\n",
    "# Total number of tasks being analyzed in postQ\n",
    "chosen_tasks = []\n",
    "for u in allUsers:\n",
    "    postQ = u.get('postQ', {})\n",
    "    tasklist = postQ.get('tasklist', [])\n",
    "    for t in tasklist:\n",
    "        if t['chosen'] == True:\n",
    "            chosen_tasks.append(t)\n",
    "print 'Number of tasks analysed in postQ:', len(chosen_tasks)\n",
    "\n"
   ]
  },
  {
   "cell_type": "code",
   "execution_count": 35,
   "metadata": {
    "collapsed": false
   },
   "outputs": [
    {
     "name": "stdout",
     "output_type": "stream",
     "text": [
      "Number of days covered p.p.:  min: 2 max: 10 median: 6.0\n",
      "Number of queries issued p.d.:  min: 3.6 max: 77.8 median: 17.9\n",
      "Number of pages viewed p.d.:  min: 21.7 max: 684.7 median: 190.1\n",
      "Number of tasks performed p.p. min: 4 max: 27 median: 12.0\n"
     ]
    }
   ],
   "source": [
    "num_days = []\n",
    "num_pages = []\n",
    "num_queries = []\n",
    "num_tasks = []\n",
    "for u in allUsers:\n",
    "    items = Log.aggregate([{'$match': {'userid': u['userid'], 'to_annotate': True}}, \n",
    "                  {'$project': {\n",
    "                    'event': 1,\n",
    "                    'annotation.task': {'$ifNull': ['$annotation.task', 0]}, \n",
    "                    'year': {'$year': '$timestamp_bson'},\n",
    "                    'day': {'$dayOfYear': '$timestamp_bson'},\n",
    "                    }},\n",
    "                  ])\n",
    "    items = list(items)\n",
    "    # Number of days covered per person (max, min, median)\n",
    "    days = len(set([(x['year'], x['day']) for x in items]))\n",
    "    num_days.append(days)\n",
    "    \n",
    "    # Number of queries per person (max, min, median)\n",
    "    queries = [int(x['event'] == 'tab-search') for x in items]\n",
    "    num_queries.append(sum(queries)/float(days))\n",
    "    \n",
    "    # Number of viewed pages per person (max, min, median)\n",
    "    views = [int(x['event'] == 'tab-loaded')/float(days) for x in items]\n",
    "    num_pages.append(sum(views))\n",
    "\n",
    "    \n",
    "    # Number of tasks per person (max, min, median)\n",
    "    tasks = [x['annotation']['task'] for x in items]\n",
    "    T = []\n",
    "    for t in tasks:\n",
    "        if t == 0:\n",
    "            continue\n",
    "        T.append(t['taskid'])\n",
    "    num_tasks.append(len(set(T)))\n",
    "    \n",
    "print \"Number of days covered p.p.: \", 'min:', min(num_days), 'max:', max(num_days), 'median:', np.median(num_days)\n",
    "print \"Number of queries issued p.d.: \", 'min:', '%.1f'%min(num_queries), 'max:', '%.1f'%max(num_queries), 'median:', '%.1f'%np.median(num_queries)\n",
    "print \"Number of pages viewed p.d.: \", 'min:', '%.1f'%min(num_pages), 'max:', '%.1f'%max(num_pages), 'median:', '%.1f'%np.median(num_pages)\n",
    "print \"Number of tasks performed p.p.\", 'min:', min(num_tasks), 'max:', max(num_tasks), 'median:', np.median(num_tasks)\n",
    "   \n",
    "    "
   ]
  },
  {
   "cell_type": "code",
   "execution_count": 40,
   "metadata": {
    "collapsed": false
   },
   "outputs": [
    {
     "name": "stdout",
     "output_type": "stream",
     "text": [
      "Engines:\n",
      " 225\n",
      "bing 24\n",
      "google 3005\n",
      "yahoo 3\n",
      "\n",
      "Media:\n",
      " 225\n",
      "apps 1\n",
      "images 279\n",
      "maps 19\n",
      "news 38\n",
      "shopping 1\n",
      "videos 9\n",
      "web 2685\n",
      "\n",
      "Page:\n",
      "0 2954\n",
      "10 45\n",
      "20 16\n",
      "30 7\n",
      "40 4\n",
      "50 2\n",
      "60 2\n",
      "70 1\n",
      "80 1\n",
      " 225\n"
     ]
    }
   ],
   "source": [
    "X = Log.aggregate([{'$match': {'event': 'tab-search'}}, \n",
    "                         {'$project':{\n",
    "                                'engine': '$details.engine',\n",
    "                                'media': '$details.media',\n",
    "                                'start': '$details.start',\n",
    "                            }},\n",
    "                         ])\n",
    "X = list(X)\n",
    "E = [x.get('engine', '') for x in X]\n",
    "M = [x.get('media', '') for x in X]\n",
    "S = [x.get('start', '') for x in X]\n",
    "E.sort()\n",
    "M.sort()\n",
    "S.sort()\n",
    "print 'Engines:'\n",
    "for k, g in itertools.groupby(E):\n",
    "    print k, len(list(g))\n",
    "print\n",
    "print 'Media:'\n",
    "for k, g in itertools.groupby(M):\n",
    "    print k, len(list(g))\n",
    "print\n",
    "print 'Page:'\n",
    "for k, g in itertools.groupby(S):\n",
    "    print k, len(list(g))\n"
   ]
  },
  {
   "cell_type": "markdown",
   "metadata": {
    "collapsed": true
   },
   "source": [
    "## Check number of queries and page views per task\n",
    "### Note:\n",
    "* Some pages may not have been actually viewed, check dewell time of the page views\n",
    "* Some queries were re-issued by forward-backward or reloading the search page\n",
    "* Page view does not include SERPs, we treat SERP as an intermediate step between queries and page view"
   ]
  },
  {
   "cell_type": "code",
   "execution_count": 37,
   "metadata": {
    "collapsed": false
   },
   "outputs": [],
   "source": [
    "userLogs = {}\n",
    "for u in allUsers:\n",
    "    user_log = Log.aggregate([\n",
    "        {'$match': {'userid': u['userid'], 'removed': False}},\n",
    "        {'$project': {'userid': 1,\n",
    "                     'affected_tab_id': 1, \n",
    "                     'event': 1, \n",
    "                     'url': 1,\n",
    "                     'timestamp_bson': 1, \n",
    "                     'taskname': {'$ifNull': ['$annotation.task.name', 'NA']},\n",
    "                     'taskid': {'$ifNull': ['$annotation.task.taskid', 'NA']},\n",
    "                     'title': {'$ifNull': ['$details.current_tab.title', 'NA']},\n",
    "                     }}, \n",
    "        {'$sort':{'timestamp_bson': pymongo.ASCENDING}},\n",
    "        ])\n",
    "    userLogs[u['userid']] = list(user_log)"
   ]
  },
  {
   "cell_type": "code",
   "execution_count": 38,
   "metadata": {
    "collapsed": false
   },
   "outputs": [],
   "source": [
    "for uid in userLogs:\n",
    "    log = userLogs[uid]\n",
    "    # Get tab-search and tab-load, check their pre- and post- events\n",
    "    i = 0\n",
    "    ngrams = []\n",
    "    for i in range(len(log)):\n",
    "        if log[i] == 'tab-search' or log[i] == 'tab-loaded':\n",
    "            ngram = []\n",
    "            if i > 0:\n",
    "                ngram.append(log[i-1])\n",
    "            ngram.append(log[i])\n",
    "            if i < len(log)-1:\n",
    "                ngram.append(log[i+1])\n",
    "            ngrams.append(' '.join(ngram))\n",
    "    ngrams.sort()\n",
    "    \n",
    "    for k, g in itertools.groupby(ngrams):\n",
    "        print k.split(' '), len(list(g))\n",
    "        \n",
    "            "
   ]
  },
  {
   "cell_type": "code",
   "execution_count": null,
   "metadata": {
    "collapsed": true
   },
   "outputs": [],
   "source": []
  }
 ],
 "metadata": {
  "kernelspec": {
   "display_name": "Python 2",
   "language": "python",
   "name": "python2"
  },
  "language_info": {
   "codemirror_mode": {
    "name": "ipython",
    "version": 2
   },
   "file_extension": ".py",
   "mimetype": "text/x-python",
   "name": "python",
   "nbconvert_exporter": "python",
   "pygments_lexer": "ipython2",
   "version": "2.7.10"
  }
 },
 "nbformat": 4,
 "nbformat_minor": 0
}

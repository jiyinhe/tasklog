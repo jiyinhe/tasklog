{
 "cells": [
  {
   "cell_type": "markdown",
   "metadata": {},
   "source": [
    "# Apply the strategy derived from LabelPropagation-exporation\n",
    "* Consecutive events sharing the same tab-url are assumed to belong to the same task.\n",
    "* Exception: Multiple anchor events with different labels may be included in the same segment.\n",
    "\n",
    "## Exception handling: \n",
    "* Loglikelihood testing for consecutive events: p(i, j)/p(i)p(j) ~ Chi square p-value < 0.5\n",
    "* non-exchangable: p(i|j) > p(j|i)"
   ]
  },
  {
   "cell_type": "markdown",
   "metadata": {},
   "source": [
    "### Setup"
   ]
  },
  {
   "cell_type": "code",
   "execution_count": 3,
   "metadata": {
    "collapsed": true
   },
   "outputs": [],
   "source": [
    "%matplotlib inline\n",
    "from pymongo import MongoClient\n",
    "import pymongo\n",
    "import numpy as np\n",
    "import itertools\n",
    "import matplotlib.pylab as pylab\n",
    "\n",
    "# DB connections\n",
    "client = MongoClient()\n",
    "db = client.db_tasklog_clean\n",
    "# Collections\n",
    "User = db.user\n",
    "Log = db.log_chrome\n",
    "\n",
    "# users\n",
    "allUsers = list(User.find({}))"
   ]
  },
  {
   "cell_type": "code",
   "execution_count": 4,
   "metadata": {
    "collapsed": false
   },
   "outputs": [],
   "source": [
    "userLogs = {}\n",
    "for u in allUsers:\n",
    "    user_log = Log.aggregate([\n",
    "        {'$match': {'userid': u['userid'], 'removed': False}},\n",
    "        {'$project': {'affected_tab_id': 1, \n",
    "                     'event': 1, \n",
    "                     'url': 1,\n",
    "                     'timestamp_bson': 1, \n",
    "                     'taskname': {'$ifNull': ['$annotation.task.name', 'NA']},\n",
    "                     'taskid': {'$ifNull': ['$annotation.task.taskid', 'NA']},\n",
    "                     'title': {'$ifNull': ['$details.current_tab.title', 'NA']},\n",
    "                     }}, \n",
    "        {'$sort':{'timestamp_bson': pymongo.ASCENDING}},\n",
    "        ])\n",
    "    userLogs[u['userid']] = list(user_log)\n",
    "        "
   ]
  },
  {
   "cell_type": "markdown",
   "metadata": {},
   "source": [
    "## First pass: group by tab-url"
   ]
  },
  {
   "cell_type": "code",
   "execution_count": null,
   "metadata": {
    "collapsed": true
   },
   "outputs": [],
   "source": []
  },
  {
   "cell_type": "markdown",
   "metadata": {},
   "source": [
    "## Second pass:  loglikelihood test GOF"
   ]
  },
  {
   "cell_type": "code",
   "execution_count": null,
   "metadata": {
    "collapsed": true
   },
   "outputs": [],
   "source": []
  }
 ],
 "metadata": {
  "kernelspec": {
   "display_name": "Python 2",
   "language": "python",
   "name": "python2"
  },
  "language_info": {
   "codemirror_mode": {
    "name": "ipython",
    "version": 2
   },
   "file_extension": ".py",
   "mimetype": "text/x-python",
   "name": "python",
   "nbconvert_exporter": "python",
   "pygments_lexer": "ipython2",
   "version": "2.7.10"
  }
 },
 "nbformat": 4,
 "nbformat_minor": 0
}

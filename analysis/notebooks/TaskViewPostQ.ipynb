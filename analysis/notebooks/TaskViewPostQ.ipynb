{
 "cells": [
  {
   "cell_type": "code",
   "execution_count": 32,
   "metadata": {
    "collapsed": true
   },
   "outputs": [],
   "source": [
    "from pymongo import MongoClient\n",
    "import numpy as np\n",
    "import itertools\n",
    "\n",
    "# DB connections\n",
    "client = MongoClient()\n",
    "db = client.db_tasklog_clean\n",
    "# Collections\n",
    "User = db.user\n",
    "Log = db.log_chrome\n",
    "UserTasks = db.user_tasks"
   ]
  },
  {
   "cell_type": "code",
   "execution_count": 33,
   "metadata": {
    "collapsed": false
   },
   "outputs": [],
   "source": [
    "# Taskmap (top level only)\n",
    "taskmap = {}\n",
    "for t in UserTasks.find({}):\n",
    "    taskmap[t['_id']] = t['task']"
   ]
  },
  {
   "cell_type": "code",
   "execution_count": 34,
   "metadata": {
    "collapsed": false
   },
   "outputs": [
    {
     "name": "stdout",
     "output_type": "stream",
     "text": [
      "task_stage 1 (15 - 0.16) 2 (5 - 0.05) 3 (15 - 0.16) 4 (15 - 0.16) 5 (41 - 0.45) 91\n",
      "\n",
      "task_collaboration 1 (54 - 0.59) 2 (6 - 0.07) 3 (8 - 0.09) 4 (2 - 0.02) 5 (21 - 0.23) 91\n",
      "\n",
      "task_difficulty_subjective 1 (26 - 0.29) 2 (15 - 0.16) 3 (19 - 0.21) 4 (22 - 0.24) 5 (9 - 0.10) 91\n",
      "\n",
      "task_sailence_subjective 1 (8 - 0.09) 2 (9 - 0.10) 3 (17 - 0.19) 4 (21 - 0.23) 5 (36 - 0.40) 91\n",
      "\n",
      "task_urgency_subjective 1 (10 - 0.11) 2 (13 - 0.14) 3 (16 - 0.18) 4 (23 - 0.25) 5 (29 - 0.32) 91\n",
      "\n",
      "task_goals_quantity multiple (47 - 0.52) single (44 - 0.48) 91\n",
      "\n",
      "task_frequency 1 (24 - 0.26) 2 (17 - 0.19) 3 (16 - 0.18) 4 (12 - 0.13) 5 (22 - 0.24) 91\n",
      "\n",
      "task_satisfaction 2 (6 - 0.07) 3 (24 - 0.26) 4 (22 - 0.24) 5 (39 - 0.43) 91\n",
      "\n",
      "task_knowledge_topic 1 (10 - 0.11) 2 (9 - 0.10) 3 (27 - 0.30) 4 (20 - 0.22) 5 (25 - 0.27) 91\n",
      "\n",
      "task_complexity_objective analyse (12 - 0.13) apply (16 - 0.18) create (9 - 0.10) evaluate (16 - 0.18) remember (29 - 0.32) understadn (9 - 0.10) 91\n",
      "\n",
      "task_knowledge_procedure 1 (2 - 0.02) 2 (5 - 0.05) 3 (17 - 0.19) 4 (26 - 0.29) 5 (41 - 0.45) 91\n",
      "\n",
      "task_length 1 (31 - 0.34) 2 (14 - 0.15) 3 (26 - 0.29) 4 (7 - 0.08) 5 (13 - 0.14) 91\n",
      "\n",
      "task_complexity_subjective 1 (24 - 0.26) 2 (17 - 0.19) 3 (16 - 0.18) 4 (13 - 0.14) 5 (21 - 0.23) 91\n",
      "\n"
     ]
    }
   ],
   "source": [
    "# postQ stats\n",
    "stats = {}\n",
    "for u in User.find({}):\n",
    "    if not 'postQ' in u:\n",
    "        print u\n",
    "        continue\n",
    "    postQ = u['postQ']\n",
    "    if 'questionnaire' in postQ:\n",
    "        for X in postQ['questionnaire']:\n",
    "            questions = postQ['questionnaire'][X]\n",
    "            for q in questions:\n",
    "                tmp = stats.get(q, [])\n",
    "                tmp.append(questions[q])\n",
    "                stats[q] = tmp\n",
    "for q in stats:\n",
    "    answer = stats[q]\n",
    "    answer.sort()\n",
    "    print q, \n",
    "    for k, g in itertools.groupby(answer):\n",
    "        g = list(g)\n",
    "        perc = len(g)/float(len(answer))\n",
    "        print '%s (%d - %.2f)'%(k, len(g), perc), \n",
    "    print len(answer)\n",
    "    print\n",
    "        \n"
   ]
  },
  {
   "cell_type": "code",
   "execution_count": null,
   "metadata": {
    "collapsed": true
   },
   "outputs": [],
   "source": []
  }
 ],
 "metadata": {
  "kernelspec": {
   "display_name": "Python 2",
   "language": "python",
   "name": "python2"
  },
  "language_info": {
   "codemirror_mode": {
    "name": "ipython",
    "version": 2
   },
   "file_extension": ".py",
   "mimetype": "text/x-python",
   "name": "python",
   "nbconvert_exporter": "python",
   "pygments_lexer": "ipython2",
   "version": "2.7.10"
  }
 },
 "nbformat": 4,
 "nbformat_minor": 0
}
